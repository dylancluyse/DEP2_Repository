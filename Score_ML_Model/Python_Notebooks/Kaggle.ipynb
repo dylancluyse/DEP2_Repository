{
 "cells": [
  {
   "cell_type": "code",
   "execution_count": 1,
   "metadata": {},
   "outputs": [],
   "source": [
    "from pyspark.ml.feature import MinMaxScaler\n",
    "from pyspark.ml.linalg import Vectors\n",
    "# $example off$\n",
    "from pyspark.sql import SparkSession\n",
    "\n",
    "spark = SparkSession.builder.appName(\"MinMaxScalerExample\").getOrCreate()\n",
    "\n",
    "#create spark dataframe of input csv file\n",
    "df=spark.read.csv('../games.csv'\n",
    "                  ,inferSchema=True,header=True)"
   ]
  },
  {
   "cell_type": "code",
   "execution_count": 2,
   "metadata": {},
   "outputs": [],
   "source": [
    "df = df.drop(\"first\", \"time_control_name\", \"game_end_reason\", \"created_at\", \"lexicon\", \"rating_mode\", \"game_id\")"
   ]
  },
  {
   "cell_type": "code",
   "execution_count": 3,
   "metadata": {},
   "outputs": [
    {
     "name": "stdout",
     "output_type": "stream",
     "text": [
      "1\n",
      "1200\n",
      "0\n",
      "1\n",
      "674.844273805618\n",
      "0.0\n"
     ]
    }
   ],
   "source": [
    "from pyspark.ml.feature import StringIndexer\n",
    "indexer=StringIndexer(inputCol='initial_time_seconds',outputCol='kaggle_cat')\n",
    "indexed=indexer.fit(df).transform(df)\n",
    "\n",
    "for item in indexed.head():\n",
    "    print(item)"
   ]
  },
  {
   "cell_type": "code",
   "execution_count": 4,
   "metadata": {},
   "outputs": [],
   "source": [
    "from pyspark.ml.linalg import Vectors\n",
    "from pyspark.ml.feature import VectorAssembler\n",
    "assembler=VectorAssembler(inputCols=['initial_time_seconds',\n",
    " 'increment_seconds',\n",
    " 'max_overtime_minutes'],outputCol='features')\n",
    "output=assembler.transform(indexed)"
   ]
  },
  {
   "cell_type": "code",
   "execution_count": 5,
   "metadata": {},
   "outputs": [
    {
     "name": "stdout",
     "output_type": "stream",
     "text": [
      "+------+--------------------+-----------------+--------------------+---------------------+----------+----------------+--------------------+\n",
      "|winner|initial_time_seconds|increment_seconds|max_overtime_minutes|game_duration_seconds|kaggle_cat|        features|      scaledFeatures|\n",
      "+------+--------------------+-----------------+--------------------+---------------------+----------+----------------+--------------------+\n",
      "|     1|                1200|                0|                   1|     674.844273805618|       0.0|[1200.0,0.0,1.0]|[0.33054393305439...|\n",
      "|     1|                3600|                0|                   1|     364.214417934418|       2.0|[3600.0,0.0,1.0]|       [1.0,0.0,0.1]|\n",
      "|     1|                 900|                0|                   5|     492.268262147903|       1.0| [900.0,0.0,5.0]|[0.24686192468619...|\n",
      "|     0|                3600|                0|                   1|     350.861140966415|       2.0|[3600.0,0.0,1.0]|       [1.0,0.0,0.1]|\n",
      "|     0|                1200|                0|                   1|     642.688721895218|       0.0|[1200.0,0.0,1.0]|[0.33054393305439...|\n",
      "|     0|                 900|                0|                   1|      426.95054101944|       1.0| [900.0,0.0,1.0]|[0.24686192468619...|\n",
      "|     1|                1260|                0|                   1|     385.599606990814|      22.0|[1260.0,0.0,1.0]|[0.34728033472803...|\n",
      "|     0|                 900|                0|                   1|     458.019893169403|       1.0| [900.0,0.0,1.0]|[0.24686192468619...|\n",
      "|     0|                1200|                0|                   1|     567.144134998322|       0.0|[1200.0,0.0,1.0]|[0.33054393305439...|\n",
      "|     0|                 900|                0|                   1|     118.911214828491|       1.0| [900.0,0.0,1.0]|[0.24686192468619...|\n",
      "|     1|                1200|                0|                   1|     501.739156007767|       0.0|[1200.0,0.0,1.0]|[0.33054393305439...|\n",
      "|     0|                 900|                0|                  10|     253.085242986679|       1.0|[900.0,0.0,10.0]|[0.24686192468619...|\n",
      "|     1|                1440|                0|                   1|     682.534649848938|      13.0|[1440.0,0.0,1.0]|[0.39748953974895...|\n",
      "|     0|                 900|                0|                   1|     293.253051042557|       1.0| [900.0,0.0,1.0]|[0.24686192468619...|\n",
      "|     0|                 720|                0|                   1|     669.931478023529|       4.0| [720.0,0.0,1.0]|[0.19665271966527...|\n",
      "|     1|                1200|                0|                   1|        211.524091959|       0.0|[1200.0,0.0,1.0]|[0.33054393305439...|\n",
      "|     0|                 900|                0|                  10|     180.863844871521|       1.0|[900.0,0.0,10.0]|[0.24686192468619...|\n",
      "|     0|                 540|                0|                   1|      256.28924703598|      25.0| [540.0,0.0,1.0]|[0.14644351464435...|\n",
      "|     0|                 900|                0|                   1|     278.572545051575|       1.0| [900.0,0.0,1.0]|[0.24686192468619...|\n",
      "|     0|                1200|                0|                   2|     1240.28856420517|       0.0|[1200.0,0.0,2.0]|[0.33054393305439...|\n",
      "+------+--------------------+-----------------+--------------------+---------------------+----------+----------------+--------------------+\n",
      "only showing top 20 rows\n",
      "\n"
     ]
    }
   ],
   "source": [
    "scaler = MinMaxScaler(inputCol=\"features\", outputCol=\"scaledFeatures\")\n",
    "\n",
    "# Compute summary statistics and generate MinMaxScalerModel\n",
    "scalerModel = scaler.fit(output)\n",
    "\n",
    "# rescale each feature to range [min, max].\n",
    "scaledData = scalerModel.transform(output)\n",
    "scaledData.show()"
   ]
  },
  {
   "cell_type": "code",
   "execution_count": 8,
   "metadata": {},
   "outputs": [
    {
     "name": "stdout",
     "output_type": "stream",
     "text": [
      "+-------+---------------------+\n",
      "|summary|game_duration_seconds|\n",
      "+-------+---------------------+\n",
      "|  count|                58337|\n",
      "|   mean|    485.2319373445769|\n",
      "| stddev|     334.886676894674|\n",
      "|    min|     7.96298909187317|\n",
      "|    max|     4444.82164502144|\n",
      "+-------+---------------------+\n",
      "\n"
     ]
    }
   ],
   "source": [
    "#final data consist of features and label which is crew.\n",
    "final_data=output.select('features','game_duration_seconds')\n",
    "train_data,test_data=final_data.randomSplit([0.8,0.2])\n",
    "train_data.describe().show()"
   ]
  },
  {
   "cell_type": "code",
   "execution_count": 9,
   "metadata": {},
   "outputs": [
    {
     "name": "stdout",
     "output_type": "stream",
     "text": [
      "Rsquared Error : 0.147515988901467\n"
     ]
    }
   ],
   "source": [
    "#import LinearRegression library\n",
    "from pyspark.ml.regression import LinearRegression\n",
    "#creating an object of class LinearRegression\n",
    "#object takes features and label as input arguments\n",
    "ship_lr = LinearRegression(featuresCol='features',labelCol='game_duration_seconds')\n",
    "#pass train_data to train model\n",
    "kaggle_model=ship_lr.fit(train_data)\n",
    "#evaluating model trained for Rsquared error\n",
    "ship_results=kaggle_model.evaluate(train_data)\n",
    "  \n",
    "print('Rsquared Error :',ship_results.r2)\n",
    "#R2 value shows accuracy of model is 92%\n",
    "#model accuracy is very good and can be use for predictive analysis"
   ]
  }
 ],
 "metadata": {
  "kernelspec": {
   "display_name": "Python 3.10.8 64-bit (microsoft store)",
   "language": "python",
   "name": "python3"
  },
  "language_info": {
   "codemirror_mode": {
    "name": "ipython",
    "version": 3
   },
   "file_extension": ".py",
   "mimetype": "text/x-python",
   "name": "python",
   "nbconvert_exporter": "python",
   "pygments_lexer": "ipython3",
   "version": "3.10.8"
  },
  "orig_nbformat": 4,
  "vscode": {
   "interpreter": {
    "hash": "89da10480825c8ad24c96d10788e772e9a68ac77e314b3c42d655a8c40ed70a5"
   }
  }
 },
 "nbformat": 4,
 "nbformat_minor": 2
}
