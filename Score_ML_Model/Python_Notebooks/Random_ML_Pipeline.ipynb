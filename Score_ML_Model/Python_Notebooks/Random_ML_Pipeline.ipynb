{
 "cells": [
  {
   "cell_type": "code",
   "execution_count": 65,
   "metadata": {},
   "outputs": [],
   "source": [
    "import pandas as pd\n",
    "import numpy as np\n",
    "\n",
    "# Importing the necessary packages\n",
    "import numpy as np                                  # \"Scientific computing\"\n",
    "\n",
    "import pandas as pd                                 # Data Frame\n",
    "from pandas.api.types import CategoricalDtype\n",
    "\n",
    "import matplotlib.pyplot as plt                     # Basic visualisation\n",
    "\n",
    "import seaborn as sns                               # Advanced data visualisation\n",
    "\n",
    "from numpy import mean\n",
    "from numpy import std\n",
    "from numpy import absolute\n",
    "from pandas import read_csv\n",
    "from sklearn.model_selection import cross_val_score\n",
    "\n",
    "from sklearn.compose import ColumnTransformer\n",
    "from sklearn.pipeline import Pipeline\n",
    "from sklearn.pipeline import Pipeline\n",
    "from sklearn.preprocessing import MinMaxScaler\n",
    "from sklearn.preprocessing import StandardScaler\n",
    "from sklearn.ensemble import RandomForestRegressor\n",
    "from sklearn.ensemble import VotingClassifier\n",
    "from sklearn.linear_model import LogisticRegression\n",
    "from sklearn.svm import SVC\n",
    "from sklearn.metrics import accuracy_score\n",
    "from sklearn.metrics import confusion_matrix\n",
    "from sklearn.model_selection import GridSearchCV\n",
    "from sklearn.ensemble import BaggingClassifier\n",
    "from sklearn.ensemble import ExtraTreesRegressor\n",
    "from sklearn.ensemble import AdaBoostRegressor\n",
    "from sklearn.ensemble import GradientBoostingRegressor\n",
    "from sklearn.metrics import mean_squared_error\n"
   ]
  },
  {
   "cell_type": "code",
   "execution_count": 66,
   "metadata": {},
   "outputs": [
    {
     "data": {
      "text/plain": [
       "Index(['BedrijfID', 'Naam', 'Locatie', 'gescrapeteData', 'AantalWerknemers',\n",
       "       'Omzet', 'Balanstotaal', 'SoortBusiness', 'Framework', 'sectorID',\n",
       "       'Adres'],\n",
       "      dtype='object')"
      ]
     },
     "execution_count": 66,
     "metadata": {},
     "output_type": "execute_result"
    }
   ],
   "source": [
    "df = pd.read_csv('../../full_list_companies.csv', delimiter=';')\n",
    "df.columns"
   ]
  },
  {
   "cell_type": "code",
   "execution_count": 67,
   "metadata": {},
   "outputs": [
    {
     "data": {
      "text/html": [
       "<div>\n",
       "<style scoped>\n",
       "    .dataframe tbody tr th:only-of-type {\n",
       "        vertical-align: middle;\n",
       "    }\n",
       "\n",
       "    .dataframe tbody tr th {\n",
       "        vertical-align: top;\n",
       "    }\n",
       "\n",
       "    .dataframe thead th {\n",
       "        text-align: right;\n",
       "    }\n",
       "</style>\n",
       "<table border=\"1\" class=\"dataframe\">\n",
       "  <thead>\n",
       "    <tr style=\"text-align: right;\">\n",
       "      <th></th>\n",
       "      <th>sectorID</th>\n",
       "      <th>Omzet</th>\n",
       "    </tr>\n",
       "  </thead>\n",
       "  <tbody>\n",
       "    <tr>\n",
       "      <th>0</th>\n",
       "      <td>4</td>\n",
       "      <td>0</td>\n",
       "    </tr>\n",
       "    <tr>\n",
       "      <th>1</th>\n",
       "      <td>7</td>\n",
       "      <td>0</td>\n",
       "    </tr>\n",
       "    <tr>\n",
       "      <th>2</th>\n",
       "      <td>2</td>\n",
       "      <td>0</td>\n",
       "    </tr>\n",
       "    <tr>\n",
       "      <th>3</th>\n",
       "      <td>2</td>\n",
       "      <td>10054586</td>\n",
       "    </tr>\n",
       "    <tr>\n",
       "      <th>4</th>\n",
       "      <td>2</td>\n",
       "      <td>0</td>\n",
       "    </tr>\n",
       "  </tbody>\n",
       "</table>\n",
       "</div>"
      ],
      "text/plain": [
       "   sectorID     Omzet\n",
       "0         4         0\n",
       "1         7         0\n",
       "2         2         0\n",
       "3         2  10054586\n",
       "4         2         0"
      ]
     },
     "execution_count": 67,
     "metadata": {},
     "output_type": "execute_result"
    }
   ],
   "source": [
    "df = df[['sectorID', 'Omzet']]\n",
    "df.head()"
   ]
  },
  {
   "cell_type": "code",
   "execution_count": 68,
   "metadata": {},
   "outputs": [],
   "source": [
    "df['Personeel'] = np.floor(np.random.normal(loc=125, scale=75, size=len(df)))\n",
    "\n",
    "df['Omzet'] = np.floor(np.random.normal(loc=450000, scale=200000, size=len(df)))\n",
    "\n",
    "df['Oprichtingsjaar'] = np.floor(np.random.normal(loc=2000, scale=15, size=len(df)))\n",
    "\n",
    "randomBeursNotatie = np.random.randint(0, 2, size=len(df))\n",
    "\n",
    "randomUrban = np.random.randint(0, 2, size=len(df))\n",
    "df['Urban'] = randomUrban\n",
    "\n",
    "df['Score'] = np.floor(np.random.normal(loc=50, scale=25, size=len(df)))"
   ]
  },
  {
   "cell_type": "code",
   "execution_count": 69,
   "metadata": {},
   "outputs": [
    {
     "data": {
      "text/html": [
       "<div>\n",
       "<style scoped>\n",
       "    .dataframe tbody tr th:only-of-type {\n",
       "        vertical-align: middle;\n",
       "    }\n",
       "\n",
       "    .dataframe tbody tr th {\n",
       "        vertical-align: top;\n",
       "    }\n",
       "\n",
       "    .dataframe thead th {\n",
       "        text-align: right;\n",
       "    }\n",
       "</style>\n",
       "<table border=\"1\" class=\"dataframe\">\n",
       "  <thead>\n",
       "    <tr style=\"text-align: right;\">\n",
       "      <th></th>\n",
       "      <th>sectorID</th>\n",
       "      <th>Omzet</th>\n",
       "      <th>Personeel</th>\n",
       "      <th>Oprichtingsjaar</th>\n",
       "      <th>Urban</th>\n",
       "      <th>Score</th>\n",
       "    </tr>\n",
       "  </thead>\n",
       "  <tbody>\n",
       "    <tr>\n",
       "      <th>count</th>\n",
       "      <td>84970.000000</td>\n",
       "      <td>8.497000e+04</td>\n",
       "      <td>84970.000000</td>\n",
       "      <td>84970.000000</td>\n",
       "      <td>84970.000000</td>\n",
       "      <td>84970.000000</td>\n",
       "    </tr>\n",
       "    <tr>\n",
       "      <th>mean</th>\n",
       "      <td>3.524656</td>\n",
       "      <td>4.499781e+05</td>\n",
       "      <td>124.732835</td>\n",
       "      <td>1999.448723</td>\n",
       "      <td>0.500812</td>\n",
       "      <td>49.582464</td>\n",
       "    </tr>\n",
       "    <tr>\n",
       "      <th>std</th>\n",
       "      <td>2.298011</td>\n",
       "      <td>1.997235e+05</td>\n",
       "      <td>74.756931</td>\n",
       "      <td>14.998096</td>\n",
       "      <td>0.500002</td>\n",
       "      <td>24.904249</td>\n",
       "    </tr>\n",
       "    <tr>\n",
       "      <th>min</th>\n",
       "      <td>1.000000</td>\n",
       "      <td>-3.548720e+05</td>\n",
       "      <td>-190.000000</td>\n",
       "      <td>1939.000000</td>\n",
       "      <td>0.000000</td>\n",
       "      <td>-58.000000</td>\n",
       "    </tr>\n",
       "    <tr>\n",
       "      <th>25%</th>\n",
       "      <td>2.000000</td>\n",
       "      <td>3.160428e+05</td>\n",
       "      <td>74.000000</td>\n",
       "      <td>1989.000000</td>\n",
       "      <td>0.000000</td>\n",
       "      <td>33.000000</td>\n",
       "    </tr>\n",
       "    <tr>\n",
       "      <th>50%</th>\n",
       "      <td>3.000000</td>\n",
       "      <td>4.496355e+05</td>\n",
       "      <td>125.000000</td>\n",
       "      <td>1999.000000</td>\n",
       "      <td>1.000000</td>\n",
       "      <td>50.000000</td>\n",
       "    </tr>\n",
       "    <tr>\n",
       "      <th>75%</th>\n",
       "      <td>5.000000</td>\n",
       "      <td>5.848220e+05</td>\n",
       "      <td>175.000000</td>\n",
       "      <td>2010.000000</td>\n",
       "      <td>1.000000</td>\n",
       "      <td>66.000000</td>\n",
       "    </tr>\n",
       "    <tr>\n",
       "      <th>max</th>\n",
       "      <td>9.000000</td>\n",
       "      <td>1.263129e+06</td>\n",
       "      <td>456.000000</td>\n",
       "      <td>2063.000000</td>\n",
       "      <td>1.000000</td>\n",
       "      <td>153.000000</td>\n",
       "    </tr>\n",
       "  </tbody>\n",
       "</table>\n",
       "</div>"
      ],
      "text/plain": [
       "           sectorID         Omzet     Personeel  Oprichtingsjaar  \\\n",
       "count  84970.000000  8.497000e+04  84970.000000     84970.000000   \n",
       "mean       3.524656  4.499781e+05    124.732835      1999.448723   \n",
       "std        2.298011  1.997235e+05     74.756931        14.998096   \n",
       "min        1.000000 -3.548720e+05   -190.000000      1939.000000   \n",
       "25%        2.000000  3.160428e+05     74.000000      1989.000000   \n",
       "50%        3.000000  4.496355e+05    125.000000      1999.000000   \n",
       "75%        5.000000  5.848220e+05    175.000000      2010.000000   \n",
       "max        9.000000  1.263129e+06    456.000000      2063.000000   \n",
       "\n",
       "              Urban         Score  \n",
       "count  84970.000000  84970.000000  \n",
       "mean       0.500812     49.582464  \n",
       "std        0.500002     24.904249  \n",
       "min        0.000000    -58.000000  \n",
       "25%        0.000000     33.000000  \n",
       "50%        1.000000     50.000000  \n",
       "75%        1.000000     66.000000  \n",
       "max        1.000000    153.000000  "
      ]
     },
     "execution_count": 69,
     "metadata": {},
     "output_type": "execute_result"
    }
   ],
   "source": [
    "df.head()\n",
    "\n",
    "df.describe()"
   ]
  },
  {
   "cell_type": "code",
   "execution_count": 70,
   "metadata": {},
   "outputs": [],
   "source": [
    "X = df.drop(['Score'], axis=1)\n",
    "y = df['Score']\n",
    "\n",
    "from sklearn.model_selection import train_test_split\n",
    "X_train,X_test,y_train,y_test = train_test_split(X,y,random_state=42)"
   ]
  },
  {
   "cell_type": "code",
   "execution_count": 71,
   "metadata": {},
   "outputs": [],
   "source": [
    "from sklearn.pipeline import Pipeline\n",
    "from sklearn.preprocessing import StandardScaler\n",
    "numerical_ix = X.select_dtypes(include=['int32','int64','float64']).columns\n",
    "\n",
    "col_transform = ColumnTransformer(transformers=[\n",
    "    ('std_scaler',StandardScaler(), numerical_ix)\n",
    "    ])"
   ]
  },
  {
   "cell_type": "code",
   "execution_count": 72,
   "metadata": {},
   "outputs": [],
   "source": [
    "from sklearn.linear_model import  LinearRegression\n",
    "lin_reg = LinearRegression()"
   ]
  },
  {
   "cell_type": "code",
   "execution_count": 73,
   "metadata": {},
   "outputs": [],
   "source": [
    "pipeline = Pipeline([\n",
    "    ('prep', col_transform),\n",
    "    ('lin_reg', lin_reg)\n",
    "    ])"
   ]
  },
  {
   "cell_type": "code",
   "execution_count": 74,
   "metadata": {},
   "outputs": [
    {
     "data": {
      "text/plain": [
       "619.1448233127124"
      ]
     },
     "execution_count": 74,
     "metadata": {},
     "output_type": "execute_result"
    }
   ],
   "source": [
    "pipeline.fit(X_train,y_train)\n",
    "\n",
    "from sklearn.model_selection import cross_val_score\n",
    "-np.mean(cross_val_score(pipeline,X_train,y_train,scoring='neg_mean_squared_error',cv=5))"
   ]
  },
  {
   "cell_type": "code",
   "execution_count": 75,
   "metadata": {},
   "outputs": [
    {
     "name": "stdout",
     "output_type": "stream",
     "text": [
      "MSE: 24.974705003497117\n",
      "MAE: 19.923795659909217\n"
     ]
    }
   ],
   "source": [
    "y_predict = pipeline.predict(X_test)\n",
    "\n",
    "from sklearn.metrics import mean_squared_error\n",
    "mse = mean_squared_error(y_test,y_predict,squared=False)\n",
    "\n",
    "from sklearn.metrics import mean_absolute_error\n",
    "mae = mean_absolute_error(y_test,y_predict)\n",
    "\n",
    "print(f'MSE: {mse}')\n",
    "print(f'MAE: {mae}')"
   ]
  },
  {
   "cell_type": "markdown",
   "metadata": {},
   "source": [
    "# Loops"
   ]
  },
  {
   "cell_type": "code",
   "execution_count": 76,
   "metadata": {},
   "outputs": [],
   "source": [
    "from sklearn.linear_model import Ridge, SGDClassifier\n",
    "from sklearn.ensemble import RandomForestRegressor\n",
    "\n",
    "lin_reg = LinearRegression()\n",
    "ridge_reg = Ridge(random_state=42)\n",
    "sgd_reg = SGDClassifier(random_state=42)\n",
    "forest_reg = RandomForestRegressor(random_state=42)\n",
    "\n",
    "all_reg = {\n",
    "  \"lin_reg  \": lin_reg,\n",
    "  \"ridge_reg\": ridge_reg, \n",
    "  \"sgd_reg  \": sgd_reg,\n",
    "  \"rfr_reg\": forest_reg\n",
    "  }"
   ]
  },
  {
   "cell_type": "code",
   "execution_count": 77,
   "metadata": {},
   "outputs": [
    {
     "name": "stdout",
     "output_type": "stream",
     "text": [
      "lin_reg  \tMAE-cross validation = 619.1463662994532\tMAE-test set = 19.923795659909217\n",
      "ridge_reg\tMAE-cross validation = 619.1463640916594\tMAE-test set = 19.923795651168906\n"
     ]
    },
    {
     "name": "stderr",
     "output_type": "stream",
     "text": [
      "C:\\Users\\dylan\\AppData\\Local\\Packages\\PythonSoftwareFoundation.Python.3.10_qbz5n2kfra8p0\\LocalCache\\local-packages\\Python310\\site-packages\\sklearn\\model_selection\\_split.py:684: UserWarning: The least populated class in y has only 1 members, which is less than n_splits=3.\n",
      "  warnings.warn(\n"
     ]
    },
    {
     "name": "stdout",
     "output_type": "stream",
     "text": [
      "sgd_reg  \tMAE-cross validation = 1052.618404103553\tMAE-test set = 29.90486277832698\n",
      "rfr_reg\tMAE-cross validation = 664.2459393838452\tMAE-test set = 20.509735913006637\n"
     ]
    }
   ],
   "source": [
    "for key, model in all_reg.items():\n",
    "  pipeline = Pipeline(\n",
    "    [\n",
    "      (\"coltr\", col_transform), \n",
    "      (key, model)\n",
    "      ])\n",
    "      \n",
    "  pipeline.fit(X_train, y_train)\n",
    "  \n",
    "  y_pred = pipeline.predict(X_test)\n",
    "  mae = cross_val_score(pipeline, X_train, y_train, cv=3, scoring=\"neg_mean_squared_error\").mean()\n",
    "  mse = mean_absolute_error(y_test, y_pred)\n",
    "\n",
    "  print(f\"{key}\\tMAE-cross validation = {-mae}\\tMAE-test set = {mse}\")"
   ]
  },
  {
   "cell_type": "code",
   "execution_count": 78,
   "metadata": {},
   "outputs": [],
   "source": [
    "from sklearn.preprocessing import PolynomialFeatures\n",
    "\n",
    "degrees = [i for i in range(1, 10)]\n",
    "lin_reg = LinearRegression()"
   ]
  },
  {
   "cell_type": "code",
   "execution_count": 79,
   "metadata": {},
   "outputs": [
    {
     "name": "stdout",
     "output_type": "stream",
     "text": [
      "degree = 1\tMAE-cross validation = 619.1463662994532\tMAE-test set = 19.923795659909217\n",
      "degree = 2\tMAE-cross validation = 619.1463082093189\tMAE-test set = 19.92726653069604\n",
      "degree = 3\tMAE-cross validation = 619.6710484744771\tMAE-test set = 19.928711990074873\n",
      "degree = 4\tMAE-cross validation = 620.6806987571471\tMAE-test set = 19.936403536445276\n",
      "degree = 5\tMAE-cross validation = 621.6708531284376\tMAE-test set = 19.96167624073615\n",
      "degree = 6\tMAE-cross validation = 624.6038074383189\tMAE-test set = 20.00059144249049\n",
      "degree = 7\tMAE-cross validation = 630.2321264586831\tMAE-test set = 20.080460372911876\n",
      "degree = 8\tMAE-cross validation = 656.9146483515025\tMAE-test set = 20.18636915324943\n",
      "degree = 9\tMAE-cross validation = 735.1502587889723\tMAE-test set = 20.311508746241543\n"
     ]
    }
   ],
   "source": [
    "for i in degrees:\n",
    "  poly = PolynomialFeatures(degree=i)\n",
    "  pipeline = Pipeline(\n",
    "    [\n",
    "        (\"coltr\", col_transform),\n",
    "        (\"poly\", poly),\n",
    "        (\"lin_reg\", lin_reg)\n",
    "        ])\n",
    "\n",
    "  X_train_poly = pipeline.fit(X_train, y_train)\n",
    "\n",
    "  y_pred = pipeline.predict(X_test)\n",
    "\n",
    "  mae = cross_val_score(pipeline, X_train, y_train, cv=3, scoring=\"neg_mean_squared_error\").mean()\n",
    "  mse = mean_absolute_error(y_test, y_pred)\n",
    "\n",
    "  print(f\"degree = {i}\\tMAE-cross validation = {-mae}\\tMAE-test set = {mse}\")"
   ]
  }
 ],
 "metadata": {
  "kernelspec": {
   "display_name": "Python 3.10.8 64-bit (microsoft store)",
   "language": "python",
   "name": "python3"
  },
  "language_info": {
   "codemirror_mode": {
    "name": "ipython",
    "version": 3
   },
   "file_extension": ".py",
   "mimetype": "text/x-python",
   "name": "python",
   "nbconvert_exporter": "python",
   "pygments_lexer": "ipython3",
   "version": "3.10.8"
  },
  "orig_nbformat": 4,
  "vscode": {
   "interpreter": {
    "hash": "89da10480825c8ad24c96d10788e772e9a68ac77e314b3c42d655a8c40ed70a5"
   }
  }
 },
 "nbformat": 4,
 "nbformat_minor": 2
}
