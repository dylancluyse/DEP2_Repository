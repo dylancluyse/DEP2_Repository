{
 "cells": [
  {
   "cell_type": "markdown",
   "metadata": {},
   "source": [
    "Data ophalen. Dit is een aangepaste view."
   ]
  },
  {
   "cell_type": "code",
   "execution_count": 58,
   "metadata": {},
   "outputs": [],
   "source": [
    "from pymysql import Connect\n",
    "import pandas as pd\n",
    "import pyodbc, psycopg2\n",
    "\n",
    "db_conn = psycopg2.connect(database=\"depdatabase\", user=\"postgres\", password=\"DaddySzymon123\", host=\"vichogent.be\", port=\"40033\")\n",
    "\n",
    "cursor = db_conn.cursor()\n",
    "\n",
    "cursor.execute(f\"\"\"\n",
    "        select * from view_machine_learning_data\n",
    "\"\"\")\n",
    "\n",
    "df = pd.DataFrame(cursor.fetchall(), columns=['ondernemingsnummer', 'urban','balanstotaal','omzet', 'personeelsbestanden', 'foundingdate', 'environment','social','governance'])"
   ]
  },
  {
   "cell_type": "code",
   "execution_count": 59,
   "metadata": {},
   "outputs": [
    {
     "data": {
      "text/html": [
       "<div>\n",
       "<style scoped>\n",
       "    .dataframe tbody tr th:only-of-type {\n",
       "        vertical-align: middle;\n",
       "    }\n",
       "\n",
       "    .dataframe tbody tr th {\n",
       "        vertical-align: top;\n",
       "    }\n",
       "\n",
       "    .dataframe thead th {\n",
       "        text-align: right;\n",
       "    }\n",
       "</style>\n",
       "<table border=\"1\" class=\"dataframe\">\n",
       "  <thead>\n",
       "    <tr style=\"text-align: right;\">\n",
       "      <th></th>\n",
       "      <th>ondernemingsnummer</th>\n",
       "      <th>urban</th>\n",
       "      <th>balanstotaal</th>\n",
       "      <th>omzet</th>\n",
       "      <th>personeelsbestanden</th>\n",
       "      <th>foundingdate</th>\n",
       "      <th>environment</th>\n",
       "      <th>social</th>\n",
       "      <th>governance</th>\n",
       "    </tr>\n",
       "  </thead>\n",
       "  <tbody>\n",
       "    <tr>\n",
       "      <th>0</th>\n",
       "      <td>446507826</td>\n",
       "      <td>1.443298969072165</td>\n",
       "      <td>None</td>\n",
       "      <td>None</td>\n",
       "      <td>NaN</td>\n",
       "      <td>1992-01-28</td>\n",
       "      <td>0.0</td>\n",
       "      <td>0.242572</td>\n",
       "      <td>0.913125</td>\n",
       "    </tr>\n",
       "    <tr>\n",
       "      <th>1</th>\n",
       "      <td>407866588</td>\n",
       "      <td>1.3333333333333333</td>\n",
       "      <td>3785383.54</td>\n",
       "      <td>0</td>\n",
       "      <td>42.0</td>\n",
       "      <td>1970-12-28</td>\n",
       "      <td>0.0</td>\n",
       "      <td>0.341482</td>\n",
       "      <td>0.767206</td>\n",
       "    </tr>\n",
       "    <tr>\n",
       "      <th>2</th>\n",
       "      <td>422713726</td>\n",
       "      <td>1.178555</td>\n",
       "      <td>14317207.50</td>\n",
       "      <td>19350363.76</td>\n",
       "      <td>36.0</td>\n",
       "      <td>1982-04-13</td>\n",
       "      <td>0.0</td>\n",
       "      <td>0.381722</td>\n",
       "      <td>0.361790</td>\n",
       "    </tr>\n",
       "    <tr>\n",
       "      <th>3</th>\n",
       "      <td>415104174</td>\n",
       "      <td>None</td>\n",
       "      <td>13896614</td>\n",
       "      <td>24869742</td>\n",
       "      <td>49.0</td>\n",
       "      <td>1975-05-12</td>\n",
       "      <td>0.0</td>\n",
       "      <td>0.381722</td>\n",
       "      <td>0.842046</td>\n",
       "    </tr>\n",
       "    <tr>\n",
       "      <th>4</th>\n",
       "      <td>437838105</td>\n",
       "      <td>0.09375</td>\n",
       "      <td>4507151.18</td>\n",
       "      <td>0</td>\n",
       "      <td>40.0</td>\n",
       "      <td>1989-06-29</td>\n",
       "      <td>0.0</td>\n",
       "      <td>0.379842</td>\n",
       "      <td>0.890560</td>\n",
       "    </tr>\n",
       "  </tbody>\n",
       "</table>\n",
       "</div>"
      ],
      "text/plain": [
       "   ondernemingsnummer               urban balanstotaal        omzet  \\\n",
       "0           446507826   1.443298969072165         None         None   \n",
       "1           407866588  1.3333333333333333   3785383.54            0   \n",
       "2           422713726            1.178555  14317207.50  19350363.76   \n",
       "3           415104174                None     13896614     24869742   \n",
       "4           437838105             0.09375   4507151.18            0   \n",
       "\n",
       "   personeelsbestanden foundingdate  environment    social  governance  \n",
       "0                  NaN   1992-01-28          0.0  0.242572    0.913125  \n",
       "1                 42.0   1970-12-28          0.0  0.341482    0.767206  \n",
       "2                 36.0   1982-04-13          0.0  0.381722    0.361790  \n",
       "3                 49.0   1975-05-12          0.0  0.381722    0.842046  \n",
       "4                 40.0   1989-06-29          0.0  0.379842    0.890560  "
      ]
     },
     "execution_count": 59,
     "metadata": {},
     "output_type": "execute_result"
    }
   ],
   "source": [
    "df.head()"
   ]
  },
  {
   "cell_type": "markdown",
   "metadata": {},
   "source": [
    "Null-waarden droppen"
   ]
  },
  {
   "cell_type": "code",
   "execution_count": 60,
   "metadata": {},
   "outputs": [],
   "source": [
    "df = df.dropna()"
   ]
  },
  {
   "cell_type": "code",
   "execution_count": 61,
   "metadata": {},
   "outputs": [
    {
     "data": {
      "text/plain": [
       "1804"
      ]
     },
     "execution_count": 61,
     "metadata": {},
     "output_type": "execute_result"
    }
   ],
   "source": [
    "len(df)"
   ]
  },
  {
   "cell_type": "code",
   "execution_count": 62,
   "metadata": {},
   "outputs": [
    {
     "data": {
      "text/html": [
       "<div>\n",
       "<style scoped>\n",
       "    .dataframe tbody tr th:only-of-type {\n",
       "        vertical-align: middle;\n",
       "    }\n",
       "\n",
       "    .dataframe tbody tr th {\n",
       "        vertical-align: top;\n",
       "    }\n",
       "\n",
       "    .dataframe thead th {\n",
       "        text-align: right;\n",
       "    }\n",
       "</style>\n",
       "<table border=\"1\" class=\"dataframe\">\n",
       "  <thead>\n",
       "    <tr style=\"text-align: right;\">\n",
       "      <th></th>\n",
       "      <th>ondernemingsnummer</th>\n",
       "      <th>urban</th>\n",
       "      <th>balanstotaal</th>\n",
       "      <th>omzet</th>\n",
       "      <th>personeelsbestanden</th>\n",
       "      <th>foundingdate</th>\n",
       "      <th>environment</th>\n",
       "      <th>social</th>\n",
       "      <th>governance</th>\n",
       "    </tr>\n",
       "  </thead>\n",
       "  <tbody>\n",
       "    <tr>\n",
       "      <th>1</th>\n",
       "      <td>407866588</td>\n",
       "      <td>1.3333333333333333</td>\n",
       "      <td>3785383.54</td>\n",
       "      <td>0</td>\n",
       "      <td>42.0</td>\n",
       "      <td>1970-12-28</td>\n",
       "      <td>0.0</td>\n",
       "      <td>0.341482</td>\n",
       "      <td>0.767206</td>\n",
       "    </tr>\n",
       "    <tr>\n",
       "      <th>2</th>\n",
       "      <td>422713726</td>\n",
       "      <td>1.178555</td>\n",
       "      <td>14317207.50</td>\n",
       "      <td>19350363.76</td>\n",
       "      <td>36.0</td>\n",
       "      <td>1982-04-13</td>\n",
       "      <td>0.0</td>\n",
       "      <td>0.381722</td>\n",
       "      <td>0.361790</td>\n",
       "    </tr>\n",
       "    <tr>\n",
       "      <th>4</th>\n",
       "      <td>437838105</td>\n",
       "      <td>0.09375</td>\n",
       "      <td>4507151.18</td>\n",
       "      <td>0</td>\n",
       "      <td>40.0</td>\n",
       "      <td>1989-06-29</td>\n",
       "      <td>0.0</td>\n",
       "      <td>0.379842</td>\n",
       "      <td>0.890560</td>\n",
       "    </tr>\n",
       "    <tr>\n",
       "      <th>5</th>\n",
       "      <td>400097680</td>\n",
       "      <td>0.6666666666666666</td>\n",
       "      <td>4822799.57</td>\n",
       "      <td>0</td>\n",
       "      <td>26.0</td>\n",
       "      <td>1967-04-12</td>\n",
       "      <td>0.0</td>\n",
       "      <td>0.347875</td>\n",
       "      <td>0.015419</td>\n",
       "    </tr>\n",
       "    <tr>\n",
       "      <th>6</th>\n",
       "      <td>462847871</td>\n",
       "      <td>0.6572222</td>\n",
       "      <td>4383607.74</td>\n",
       "      <td>15058594.07</td>\n",
       "      <td>15.0</td>\n",
       "      <td>1998-03-10</td>\n",
       "      <td>0.0</td>\n",
       "      <td>0.349756</td>\n",
       "      <td>0.668672</td>\n",
       "    </tr>\n",
       "  </tbody>\n",
       "</table>\n",
       "</div>"
      ],
      "text/plain": [
       "   ondernemingsnummer               urban balanstotaal        omzet  \\\n",
       "1           407866588  1.3333333333333333   3785383.54            0   \n",
       "2           422713726            1.178555  14317207.50  19350363.76   \n",
       "4           437838105             0.09375   4507151.18            0   \n",
       "5           400097680  0.6666666666666666   4822799.57            0   \n",
       "6           462847871           0.6572222   4383607.74  15058594.07   \n",
       "\n",
       "   personeelsbestanden foundingdate  environment    social  governance  \n",
       "1                 42.0   1970-12-28          0.0  0.341482    0.767206  \n",
       "2                 36.0   1982-04-13          0.0  0.381722    0.361790  \n",
       "4                 40.0   1989-06-29          0.0  0.379842    0.890560  \n",
       "5                 26.0   1967-04-12          0.0  0.347875    0.015419  \n",
       "6                 15.0   1998-03-10          0.0  0.349756    0.668672  "
      ]
     },
     "execution_count": 62,
     "metadata": {},
     "output_type": "execute_result"
    }
   ],
   "source": [
    "df.head()"
   ]
  },
  {
   "cell_type": "markdown",
   "metadata": {},
   "source": [
    "Omzetten naar de gepaste datatypes:"
   ]
  },
  {
   "cell_type": "code",
   "execution_count": 63,
   "metadata": {},
   "outputs": [],
   "source": [
    "df['omzet'] = df['omzet'].astype('int64')\n",
    "df['balanstotaal'] = df['balanstotaal'].astype('int64')\n",
    "df['personeelsbestanden'] = df['personeelsbestanden'].astype('int64')\n",
    "df['urban'] = df['urban'].astype('float64')\n",
    "df['foundingdate'] = (pd.Timestamp.now() - pd.to_datetime(df['foundingdate'], format=\"%Y-%m-%d\")).dt.days / 365\n",
    "df['environment'] = df['environment'].astype('float64')\n",
    "df['social'] = df['social'].astype('float64')\n",
    "df['governance'] = df['governance'].astype('float64')"
   ]
  },
  {
   "cell_type": "code",
   "execution_count": 64,
   "metadata": {},
   "outputs": [
    {
     "data": {
      "text/plain": [
       "ondernemingsnummer       int64\n",
       "urban                  float64\n",
       "balanstotaal             int64\n",
       "omzet                    int64\n",
       "personeelsbestanden      int64\n",
       "foundingdate           float64\n",
       "environment            float64\n",
       "social                 float64\n",
       "governance             float64\n",
       "dtype: object"
      ]
     },
     "execution_count": 64,
     "metadata": {},
     "output_type": "execute_result"
    }
   ],
   "source": [
    "df.dtypes"
   ]
  },
  {
   "cell_type": "markdown",
   "metadata": {},
   "source": [
    "Outliers verwijderen"
   ]
  },
  {
   "cell_type": "code",
   "execution_count": 65,
   "metadata": {},
   "outputs": [],
   "source": [
    "from scipy import stats\n",
    "import numpy as np\n",
    "df = df[df['omzet']>0]\n",
    "df = df[df['balanstotaal']>0]\n",
    "df = df[df['personeelsbestanden']>0]\n",
    "df = df[(np.abs(stats.zscore(df)) < 3).all(axis=1)]"
   ]
  },
  {
   "cell_type": "code",
   "execution_count": 66,
   "metadata": {},
   "outputs": [
    {
     "data": {
      "text/plain": [
       "1111"
      ]
     },
     "execution_count": 66,
     "metadata": {},
     "output_type": "execute_result"
    }
   ],
   "source": [
    "len(df)"
   ]
  },
  {
   "cell_type": "markdown",
   "metadata": {},
   "source": [
    "Algemene score toevoegen"
   ]
  },
  {
   "cell_type": "code",
   "execution_count": 67,
   "metadata": {},
   "outputs": [],
   "source": [
    "df['general_score'] = df['governance'] + df['social'] + df['environment']"
   ]
  },
  {
   "cell_type": "code",
   "execution_count": 68,
   "metadata": {},
   "outputs": [
    {
     "data": {
      "text/html": [
       "<div>\n",
       "<style scoped>\n",
       "    .dataframe tbody tr th:only-of-type {\n",
       "        vertical-align: middle;\n",
       "    }\n",
       "\n",
       "    .dataframe tbody tr th {\n",
       "        vertical-align: top;\n",
       "    }\n",
       "\n",
       "    .dataframe thead th {\n",
       "        text-align: right;\n",
       "    }\n",
       "</style>\n",
       "<table border=\"1\" class=\"dataframe\">\n",
       "  <thead>\n",
       "    <tr style=\"text-align: right;\">\n",
       "      <th></th>\n",
       "      <th>ondernemingsnummer</th>\n",
       "      <th>urban</th>\n",
       "      <th>balanstotaal</th>\n",
       "      <th>omzet</th>\n",
       "      <th>personeelsbestanden</th>\n",
       "      <th>foundingdate</th>\n",
       "      <th>environment</th>\n",
       "      <th>social</th>\n",
       "      <th>governance</th>\n",
       "      <th>general_score</th>\n",
       "    </tr>\n",
       "  </thead>\n",
       "  <tbody>\n",
       "    <tr>\n",
       "      <th>2</th>\n",
       "      <td>422713726</td>\n",
       "      <td>1.178555</td>\n",
       "      <td>14317207</td>\n",
       "      <td>19350363</td>\n",
       "      <td>36</td>\n",
       "      <td>40.706849</td>\n",
       "      <td>0.0</td>\n",
       "      <td>0.381722</td>\n",
       "      <td>0.361790</td>\n",
       "      <td>0.743513</td>\n",
       "    </tr>\n",
       "    <tr>\n",
       "      <th>6</th>\n",
       "      <td>462847871</td>\n",
       "      <td>0.657222</td>\n",
       "      <td>4383607</td>\n",
       "      <td>15058594</td>\n",
       "      <td>15</td>\n",
       "      <td>24.789041</td>\n",
       "      <td>0.0</td>\n",
       "      <td>0.349756</td>\n",
       "      <td>0.668672</td>\n",
       "      <td>1.018428</td>\n",
       "    </tr>\n",
       "    <tr>\n",
       "      <th>7</th>\n",
       "      <td>417686156</td>\n",
       "      <td>1.178555</td>\n",
       "      <td>11292375</td>\n",
       "      <td>24785980</td>\n",
       "      <td>46</td>\n",
       "      <td>45.098630</td>\n",
       "      <td>0.0</td>\n",
       "      <td>0.349756</td>\n",
       "      <td>0.403535</td>\n",
       "      <td>0.753291</td>\n",
       "    </tr>\n",
       "    <tr>\n",
       "      <th>9</th>\n",
       "      <td>437248185</td>\n",
       "      <td>1.788591</td>\n",
       "      <td>5289543</td>\n",
       "      <td>13006989</td>\n",
       "      <td>79</td>\n",
       "      <td>33.709589</td>\n",
       "      <td>0.0</td>\n",
       "      <td>0.349756</td>\n",
       "      <td>0.558857</td>\n",
       "      <td>0.908612</td>\n",
       "    </tr>\n",
       "    <tr>\n",
       "      <th>10</th>\n",
       "      <td>449124945</td>\n",
       "      <td>0.600000</td>\n",
       "      <td>9357945</td>\n",
       "      <td>10080150</td>\n",
       "      <td>40</td>\n",
       "      <td>29.980822</td>\n",
       "      <td>0.0</td>\n",
       "      <td>0.349756</td>\n",
       "      <td>0.558857</td>\n",
       "      <td>0.908612</td>\n",
       "    </tr>\n",
       "  </tbody>\n",
       "</table>\n",
       "</div>"
      ],
      "text/plain": [
       "    ondernemingsnummer     urban  balanstotaal     omzet  personeelsbestanden  \\\n",
       "2            422713726  1.178555      14317207  19350363                   36   \n",
       "6            462847871  0.657222       4383607  15058594                   15   \n",
       "7            417686156  1.178555      11292375  24785980                   46   \n",
       "9            437248185  1.788591       5289543  13006989                   79   \n",
       "10           449124945  0.600000       9357945  10080150                   40   \n",
       "\n",
       "    foundingdate  environment    social  governance  general_score  \n",
       "2      40.706849          0.0  0.381722    0.361790       0.743513  \n",
       "6      24.789041          0.0  0.349756    0.668672       1.018428  \n",
       "7      45.098630          0.0  0.349756    0.403535       0.753291  \n",
       "9      33.709589          0.0  0.349756    0.558857       0.908612  \n",
       "10     29.980822          0.0  0.349756    0.558857       0.908612  "
      ]
     },
     "execution_count": 68,
     "metadata": {},
     "output_type": "execute_result"
    }
   ],
   "source": [
    "df.head()"
   ]
  },
  {
   "cell_type": "code",
   "execution_count": 69,
   "metadata": {},
   "outputs": [],
   "source": [
    "X = df.drop(['general_score', 'environment','social','governance', 'ondernemingsnummer'], axis=1)\n",
    "y = df['general_score']\n",
    "\n",
    "from sklearn.model_selection import train_test_split\n",
    "X_train,X_test,y_train,y_test = train_test_split(X,y,random_state=42)"
   ]
  },
  {
   "cell_type": "code",
   "execution_count": 70,
   "metadata": {},
   "outputs": [],
   "source": [
    "from sklearn.pipeline import Pipeline\n",
    "from sklearn.preprocessing import MinMaxScaler\n",
    "from sklearn.compose import ColumnTransformer\n",
    "\n",
    "numerical_ix = X.select_dtypes(include=['int32','int64','float64']).columns\n",
    "\n",
    "col_transform = ColumnTransformer(transformers=[\n",
    "    ('minmax',MinMaxScaler(), numerical_ix),\n",
    "])"
   ]
  },
  {
   "attachments": {},
   "cell_type": "markdown",
   "metadata": {},
   "source": [
    "# Data-Analyse"
   ]
  },
  {
   "cell_type": "code",
   "execution_count": 71,
   "metadata": {},
   "outputs": [
    {
     "data": {
      "text/plain": [
       "<AxesSubplot:xlabel='environment', ylabel='Count'>"
      ]
     },
     "execution_count": 71,
     "metadata": {},
     "output_type": "execute_result"
    },
    {
     "data": {
      "image/png": "[encoded data removed]",
      "text/plain": [
       "<Figure size 640x480 with 1 Axes>"
      ]
     },
     "metadata": {},
     "output_type": "display_data"
    }
   ],
   "source": [
    "import seaborn as sns\n",
    "sns.histplot(data=df, x='environment', bins=10)"
   ]
  },
  {
   "cell_type": "code",
   "execution_count": 72,
   "metadata": {},
   "outputs": [
    {
     "data": {
      "text/plain": [
       "<AxesSubplot:xlabel='social', ylabel='Count'>"
      ]
     },
     "execution_count": 72,
     "metadata": {},
     "output_type": "execute_result"
    },
    {
     "data": {
      "image/png": "[encoded data removed]",
      "text/plain": [
       "<Figure size 640x480 with 1 Axes>"
      ]
     },
     "metadata": {},
     "output_type": "display_data"
    }
   ],
   "source": [
    "sns.histplot(data=df, x='social', bins=10)"
   ]
  },
  {
   "cell_type": "code",
   "execution_count": 73,
   "metadata": {},
   "outputs": [
    {
     "data": {
      "text/plain": [
       "<AxesSubplot:xlabel='governance', ylabel='Count'>"
      ]
     },
     "execution_count": 73,
     "metadata": {},
     "output_type": "execute_result"
    },
    {
     "data": {
      "image/png": "[encoded data removed]",
      "text/plain": [
       "<Figure size 640x480 with 1 Axes>"
      ]
     },
     "metadata": {},
     "output_type": "display_data"
    }
   ],
   "source": [
    "sns.histplot(data=df, x='governance', bins=10)"
   ]
  },
  {
   "attachments": {},
   "cell_type": "markdown",
   "metadata": {},
   "source": [
    "# ANN: Drie outputs"
   ]
  },
  {
   "cell_type": "code",
   "execution_count": 78,
   "metadata": {},
   "outputs": [],
   "source": [
    "import tensorflow as tf\n",
    "\n",
    "# Define the model architecture\n",
    "model = tf.keras.Sequential([\n",
    "    # Add a fully connected layer with 64 units and ReLU activation\n",
    "    tf.keras.layers.Dense(64, activation='relu', input_shape=(5,)),\n",
    "    # Add a fully connected layer with 32 units and ReLU activation\n",
    "    tf.keras.layers.Dense(32, activation='relu'),\n",
    "    # Add a fully connected layer with 3 units and sigmoid activation\n",
    "    tf.keras.layers.Dense(3, activation='sigmoid')\n",
    "])\n",
    "\n",
    "# Compile the model with a mean squared error loss function and an Adam optimizer\n",
    "model.compile(loss='mse', optimizer='adam', metrics=['accuracy'])\n"
   ]
  },
  {
   "cell_type": "code",
   "execution_count": 79,
   "metadata": {},
   "outputs": [
    {
     "name": "stdout",
     "output_type": "stream",
     "text": [
      "Epoch 1/20\n",
      "35/35 [==============================] - 0s 997us/step - loss: 0.3194 - accuracy: 0.3438\n",
      "Epoch 2/20\n",
      "35/35 [==============================] - 0s 939us/step - loss: 0.3194 - accuracy: 0.3438\n",
      "Epoch 3/20\n",
      "35/35 [==============================] - 0s 880us/step - loss: 0.3194 - accuracy: 0.3438\n",
      "Epoch 4/20\n",
      "35/35 [==============================] - 0s 792us/step - loss: 0.3194 - accuracy: 0.3438\n",
      "Epoch 5/20\n",
      "35/35 [==============================] - 0s 1ms/step - loss: 0.3194 - accuracy: 0.3438\n",
      "Epoch 6/20\n",
      "35/35 [==============================] - 0s 909us/step - loss: 0.3194 - accuracy: 0.3438\n",
      "Epoch 7/20\n",
      "35/35 [==============================] - 0s 939us/step - loss: 0.3194 - accuracy: 0.3438\n",
      "Epoch 8/20\n",
      "35/35 [==============================] - 0s 880us/step - loss: 0.3194 - accuracy: 0.3438\n",
      "Epoch 9/20\n",
      "35/35 [==============================] - 0s 2ms/step - loss: 0.3194 - accuracy: 0.3438\n",
      "Epoch 10/20\n",
      "35/35 [==============================] - 0s 880us/step - loss: 0.3194 - accuracy: 0.3438\n",
      "Epoch 11/20\n",
      "35/35 [==============================] - 0s 909us/step - loss: 0.3194 - accuracy: 0.3438\n",
      "Epoch 12/20\n",
      "35/35 [==============================] - 0s 881us/step - loss: 0.3194 - accuracy: 0.3438\n",
      "Epoch 13/20\n",
      "35/35 [==============================] - 0s 974us/step - loss: 0.3194 - accuracy: 0.3438\n",
      "Epoch 14/20\n",
      "35/35 [==============================] - 0s 939us/step - loss: 0.3194 - accuracy: 0.3438\n",
      "Epoch 15/20\n",
      "35/35 [==============================] - 0s 880us/step - loss: 0.3194 - accuracy: 0.3438\n",
      "Epoch 16/20\n",
      "35/35 [==============================] - 0s 864us/step - loss: 0.3194 - accuracy: 0.3438\n",
      "Epoch 17/20\n",
      "35/35 [==============================] - 0s 880us/step - loss: 0.3194 - accuracy: 0.3438\n",
      "Epoch 18/20\n",
      "35/35 [==============================] - 0s 909us/step - loss: 0.3194 - accuracy: 0.3438\n",
      "Epoch 19/20\n",
      "35/35 [==============================] - 0s 909us/step - loss: 0.3194 - accuracy: 0.3438\n",
      "Epoch 20/20\n",
      "35/35 [==============================] - 0s 909us/step - loss: 0.3194 - accuracy: 0.3438\n"
     ]
    },
    {
     "data": {
      "text/plain": [
       "<keras.callbacks.History at 0x227ffa37cd0>"
      ]
     },
     "execution_count": 79,
     "metadata": {},
     "output_type": "execute_result"
    }
   ],
   "source": [
    "# Define the input and output data\n",
    "X = df.drop(['general_score', 'environment','social','governance', 'ondernemingsnummer'], axis=1)\n",
    "y = df[['environment','social','governance']]\n",
    "\n",
    "# Train the model\n",
    "model.fit(X, y, epochs=20)"
   ]
  },
  {
   "cell_type": "code",
   "execution_count": 91,
   "metadata": {},
   "outputs": [
    {
     "name": "stdout",
     "output_type": "stream",
     "text": [
      "9/9 [==============================] - 0s 747us/step\n",
      "1.0\n"
     ]
    }
   ],
   "source": [
    "y_pred = model.predict(X_test[:-1])\n",
    "print(y_pred[0][0])"
   ]
  },
  {
   "attachments": {},
   "cell_type": "markdown",
   "metadata": {},
   "source": [
    "# ANN: General Score berekenen"
   ]
  },
  {
   "cell_type": "code",
   "execution_count": 20,
   "metadata": {},
   "outputs": [
    {
     "name": "stdout",
     "output_type": "stream",
     "text": [
      "Test loss: 0.30780160427093506\n"
     ]
    }
   ],
   "source": [
    "import numpy as np\n",
    "import pandas as pd\n",
    "\n",
    "from sklearn.model_selection import train_test_split\n",
    "from sklearn.preprocessing import StandardScaler\n",
    "\n",
    "from keras.models import Sequential\n",
    "from keras.layers import Dense\n",
    "\n",
    "X = df.drop(['general_score', 'environment','social','governance', 'ondernemingsnummer'], axis=1)\n",
    "y = df['general_score']\n",
    "\n",
    "X_train, X_test, y_train, y_test = train_test_split(X, y, test_size=0.2, random_state=42)\n",
    "\n",
    "scaler = MinMaxScaler()\n",
    "X_train = scaler.fit_transform(X_train)\n",
    "X_test = scaler.transform(X_test)\n",
    "\n",
    "model = Sequential()\n",
    "model.add(Dense(10, input_dim=X_train.shape[1], activation='relu'))\n",
    "model.add(Dense(1))\n",
    "\n",
    "model.compile(loss='mean_squared_error', optimizer='adam')\n",
    "\n",
    "model.fit(X_train, y_train, epochs=100, batch_size=32, verbose=0)\n",
    "\n",
    "test_loss = model.evaluate(X_test, y_test, verbose=0)\n",
    "print(f'Test loss: {test_loss}')\n"
   ]
  },
  {
   "cell_type": "code",
   "execution_count": 21,
   "metadata": {},
   "outputs": [],
   "source": [
    "from keras.models import load_model\n",
    "model.save('ann-general-score.h5')\n",
    "ann = load_model('ann-general-score.h5')"
   ]
  },
  {
   "cell_type": "code",
   "execution_count": 22,
   "metadata": {},
   "outputs": [
    {
     "name": "stdout",
     "output_type": "stream",
     "text": [
      "1/1 [==============================] - 0s 43ms/step\n",
      "[[-846871.2]]\n"
     ]
    },
    {
     "name": "stderr",
     "output_type": "stream",
     "text": [
      "c:\\Users\\Dylan\\AppData\\Local\\Programs\\Python\\Python310\\lib\\site-packages\\sklearn\\base.py:450: UserWarning: X does not have valid feature names, but MinMaxScaler was fitted with feature names\n",
      "  warnings.warn(\n"
     ]
    }
   ],
   "source": [
    "new_data = np.array([[15695287, 22250545, 9, 1, 1.320000]])\n",
    "new_data = scaler.transform(new_data)\n",
    "prediction = ann.predict(new_data)\n",
    "print(prediction)"
   ]
  },
  {
   "attachments": {},
   "cell_type": "markdown",
   "metadata": {},
   "source": [
    "# E berekenen"
   ]
  },
  {
   "cell_type": "code",
   "execution_count": 23,
   "metadata": {},
   "outputs": [
    {
     "name": "stdout",
     "output_type": "stream",
     "text": [
      "Test loss: 0.09066100418567657\n"
     ]
    }
   ],
   "source": [
    "import numpy as np\n",
    "import pandas as pd\n",
    "\n",
    "from sklearn.model_selection import train_test_split\n",
    "from sklearn.preprocessing import StandardScaler\n",
    "\n",
    "from keras.models import Sequential\n",
    "from keras.layers import Dense\n",
    "\n",
    "X = df.drop(['general_score', 'environment','social','governance', 'ondernemingsnummer'], axis=1)\n",
    "y = df['environment']\n",
    "\n",
    "X_train, X_test, y_train, y_test = train_test_split(X, y, test_size=0.2, random_state=42)\n",
    "\n",
    "scaler = MinMaxScaler()\n",
    "X_train = scaler.fit_transform(X_train)\n",
    "X_test = scaler.transform(X_test)\n",
    "\n",
    "model = Sequential()\n",
    "model.add(Dense(10, input_dim=X_train.shape[1], activation='relu'))\n",
    "model.add(Dense(1))\n",
    "\n",
    "model.compile(loss='mean_squared_error', optimizer='adam')\n",
    "\n",
    "model.fit(X_train, y_train, epochs=100, batch_size=32, verbose=0)\n",
    "\n",
    "test_loss = model.evaluate(X_test, y_test, verbose=0)\n",
    "print(f'Test loss: {test_loss}')"
   ]
  },
  {
   "cell_type": "code",
   "execution_count": 24,
   "metadata": {},
   "outputs": [],
   "source": [
    "from keras.models import load_model\n",
    "model.save('ann-environment-score.h5')\n",
    "ann = load_model('ann-environment-score.h5')"
   ]
  },
  {
   "cell_type": "code",
   "execution_count": 25,
   "metadata": {},
   "outputs": [
    {
     "name": "stdout",
     "output_type": "stream",
     "text": [
      "1/1 [==============================] - 0s 36ms/step\n",
      "[[-604054.7]]\n"
     ]
    },
    {
     "name": "stderr",
     "output_type": "stream",
     "text": [
      "c:\\Users\\Dylan\\AppData\\Local\\Programs\\Python\\Python310\\lib\\site-packages\\sklearn\\base.py:450: UserWarning: X does not have valid feature names, but MinMaxScaler was fitted with feature names\n",
      "  warnings.warn(\n"
     ]
    }
   ],
   "source": [
    "new_data = np.array([[15695287, 22250545, 38.498630, 100,  1.320000]])\n",
    "new_data = scaler.transform(new_data)\n",
    "prediction = ann.predict(new_data)\n",
    "print(prediction)"
   ]
  },
  {
   "attachments": {},
   "cell_type": "markdown",
   "metadata": {},
   "source": [
    "# S berekenen"
   ]
  },
  {
   "cell_type": "code",
   "execution_count": 26,
   "metadata": {},
   "outputs": [
    {
     "ename": "KeyError",
     "evalue": "\"['domein_environment', 'domein_social', 'domein_governance'] not found in axis\"",
     "output_type": "error",
     "traceback": [
      "\u001b[1;31m---------------------------------------------------------------------------\u001b[0m",
      "\u001b[1;31mKeyError\u001b[0m                                  Traceback (most recent call last)",
      "Cell \u001b[1;32mIn [26], line 10\u001b[0m\n\u001b[0;32m      7\u001b[0m \u001b[39mfrom\u001b[39;00m \u001b[39mkeras\u001b[39;00m\u001b[39m.\u001b[39;00m\u001b[39mmodels\u001b[39;00m \u001b[39mimport\u001b[39;00m Sequential\n\u001b[0;32m      8\u001b[0m \u001b[39mfrom\u001b[39;00m \u001b[39mkeras\u001b[39;00m\u001b[39m.\u001b[39;00m\u001b[39mlayers\u001b[39;00m \u001b[39mimport\u001b[39;00m Dense\n\u001b[1;32m---> 10\u001b[0m X \u001b[39m=\u001b[39m df\u001b[39m.\u001b[39;49mdrop([\u001b[39m'\u001b[39;49m\u001b[39mgeneral_score\u001b[39;49m\u001b[39m'\u001b[39;49m, \u001b[39m'\u001b[39;49m\u001b[39mdomein_environment\u001b[39;49m\u001b[39m'\u001b[39;49m,\u001b[39m'\u001b[39;49m\u001b[39mdomein_social\u001b[39;49m\u001b[39m'\u001b[39;49m,\u001b[39m'\u001b[39;49m\u001b[39mdomein_governance\u001b[39;49m\u001b[39m'\u001b[39;49m, \u001b[39m'\u001b[39;49m\u001b[39mondernemingsnummer\u001b[39;49m\u001b[39m'\u001b[39;49m], axis\u001b[39m=\u001b[39;49m\u001b[39m1\u001b[39;49m)\n\u001b[0;32m     11\u001b[0m y \u001b[39m=\u001b[39m df[\u001b[39m'\u001b[39m\u001b[39mdomein_social\u001b[39m\u001b[39m'\u001b[39m]\n\u001b[0;32m     13\u001b[0m X_train, X_test, y_train, y_test \u001b[39m=\u001b[39m train_test_split(X, y, test_size\u001b[39m=\u001b[39m\u001b[39m0.2\u001b[39m, random_state\u001b[39m=\u001b[39m\u001b[39m42\u001b[39m)\n",
      "File \u001b[1;32mc:\\Users\\Dylan\\AppData\\Local\\Programs\\Python\\Python310\\lib\\site-packages\\pandas\\util\\_decorators.py:311\u001b[0m, in \u001b[0;36mdeprecate_nonkeyword_arguments.<locals>.decorate.<locals>.wrapper\u001b[1;34m(*args, **kwargs)\u001b[0m\n\u001b[0;32m    305\u001b[0m \u001b[39mif\u001b[39;00m \u001b[39mlen\u001b[39m(args) \u001b[39m>\u001b[39m num_allow_args:\n\u001b[0;32m    306\u001b[0m     warnings\u001b[39m.\u001b[39mwarn(\n\u001b[0;32m    307\u001b[0m         msg\u001b[39m.\u001b[39mformat(arguments\u001b[39m=\u001b[39marguments),\n\u001b[0;32m    308\u001b[0m         \u001b[39mFutureWarning\u001b[39;00m,\n\u001b[0;32m    309\u001b[0m         stacklevel\u001b[39m=\u001b[39mstacklevel,\n\u001b[0;32m    310\u001b[0m     )\n\u001b[1;32m--> 311\u001b[0m \u001b[39mreturn\u001b[39;00m func(\u001b[39m*\u001b[39margs, \u001b[39m*\u001b[39m\u001b[39m*\u001b[39mkwargs)\n",
      "File \u001b[1;32mc:\\Users\\Dylan\\AppData\\Local\\Programs\\Python\\Python310\\lib\\site-packages\\pandas\\core\\frame.py:4948\u001b[0m, in \u001b[0;36mDataFrame.drop\u001b[1;34m(self, labels, axis, index, columns, level, inplace, errors)\u001b[0m\n\u001b[0;32m   4800\u001b[0m \u001b[39m@deprecate_nonkeyword_arguments\u001b[39m(version\u001b[39m=\u001b[39m\u001b[39mNone\u001b[39;00m, allowed_args\u001b[39m=\u001b[39m[\u001b[39m\"\u001b[39m\u001b[39mself\u001b[39m\u001b[39m\"\u001b[39m, \u001b[39m\"\u001b[39m\u001b[39mlabels\u001b[39m\u001b[39m\"\u001b[39m])\n\u001b[0;32m   4801\u001b[0m \u001b[39mdef\u001b[39;00m \u001b[39mdrop\u001b[39m(\n\u001b[0;32m   4802\u001b[0m     \u001b[39mself\u001b[39m,\n\u001b[1;32m   (...)\u001b[0m\n\u001b[0;32m   4809\u001b[0m     errors: \u001b[39mstr\u001b[39m \u001b[39m=\u001b[39m \u001b[39m\"\u001b[39m\u001b[39mraise\u001b[39m\u001b[39m\"\u001b[39m,\n\u001b[0;32m   4810\u001b[0m ):\n\u001b[0;32m   4811\u001b[0m     \u001b[39m\"\"\"\u001b[39;00m\n\u001b[0;32m   4812\u001b[0m \u001b[39m    Drop specified labels from rows or columns.\u001b[39;00m\n\u001b[0;32m   4813\u001b[0m \n\u001b[1;32m   (...)\u001b[0m\n\u001b[0;32m   4946\u001b[0m \u001b[39m            weight  1.0     0.8\u001b[39;00m\n\u001b[0;32m   4947\u001b[0m \u001b[39m    \"\"\"\u001b[39;00m\n\u001b[1;32m-> 4948\u001b[0m     \u001b[39mreturn\u001b[39;00m \u001b[39msuper\u001b[39;49m()\u001b[39m.\u001b[39;49mdrop(\n\u001b[0;32m   4949\u001b[0m         labels\u001b[39m=\u001b[39;49mlabels,\n\u001b[0;32m   4950\u001b[0m         axis\u001b[39m=\u001b[39;49maxis,\n\u001b[0;32m   4951\u001b[0m         index\u001b[39m=\u001b[39;49mindex,\n\u001b[0;32m   4952\u001b[0m         columns\u001b[39m=\u001b[39;49mcolumns,\n\u001b[0;32m   4953\u001b[0m         level\u001b[39m=\u001b[39;49mlevel,\n\u001b[0;32m   4954\u001b[0m         inplace\u001b[39m=\u001b[39;49minplace,\n\u001b[0;32m   4955\u001b[0m         errors\u001b[39m=\u001b[39;49merrors,\n\u001b[0;32m   4956\u001b[0m     )\n",
      "File \u001b[1;32mc:\\Users\\Dylan\\AppData\\Local\\Programs\\Python\\Python310\\lib\\site-packages\\pandas\\core\\generic.py:4279\u001b[0m, in \u001b[0;36mNDFrame.drop\u001b[1;34m(self, labels, axis, index, columns, level, inplace, errors)\u001b[0m\n\u001b[0;32m   4277\u001b[0m \u001b[39mfor\u001b[39;00m axis, labels \u001b[39min\u001b[39;00m axes\u001b[39m.\u001b[39mitems():\n\u001b[0;32m   4278\u001b[0m     \u001b[39mif\u001b[39;00m labels \u001b[39mis\u001b[39;00m \u001b[39mnot\u001b[39;00m \u001b[39mNone\u001b[39;00m:\n\u001b[1;32m-> 4279\u001b[0m         obj \u001b[39m=\u001b[39m obj\u001b[39m.\u001b[39;49m_drop_axis(labels, axis, level\u001b[39m=\u001b[39;49mlevel, errors\u001b[39m=\u001b[39;49merrors)\n\u001b[0;32m   4281\u001b[0m \u001b[39mif\u001b[39;00m inplace:\n\u001b[0;32m   4282\u001b[0m     \u001b[39mself\u001b[39m\u001b[39m.\u001b[39m_update_inplace(obj)\n",
      "File \u001b[1;32mc:\\Users\\Dylan\\AppData\\Local\\Programs\\Python\\Python310\\lib\\site-packages\\pandas\\core\\generic.py:4323\u001b[0m, in \u001b[0;36mNDFrame._drop_axis\u001b[1;34m(self, labels, axis, level, errors, consolidate, only_slice)\u001b[0m\n\u001b[0;32m   4321\u001b[0m         new_axis \u001b[39m=\u001b[39m axis\u001b[39m.\u001b[39mdrop(labels, level\u001b[39m=\u001b[39mlevel, errors\u001b[39m=\u001b[39merrors)\n\u001b[0;32m   4322\u001b[0m     \u001b[39melse\u001b[39;00m:\n\u001b[1;32m-> 4323\u001b[0m         new_axis \u001b[39m=\u001b[39m axis\u001b[39m.\u001b[39;49mdrop(labels, errors\u001b[39m=\u001b[39;49merrors)\n\u001b[0;32m   4324\u001b[0m     indexer \u001b[39m=\u001b[39m axis\u001b[39m.\u001b[39mget_indexer(new_axis)\n\u001b[0;32m   4326\u001b[0m \u001b[39m# Case for non-unique axis\u001b[39;00m\n\u001b[0;32m   4327\u001b[0m \u001b[39melse\u001b[39;00m:\n",
      "File \u001b[1;32mc:\\Users\\Dylan\\AppData\\Local\\Programs\\Python\\Python310\\lib\\site-packages\\pandas\\core\\indexes\\base.py:6644\u001b[0m, in \u001b[0;36mIndex.drop\u001b[1;34m(self, labels, errors)\u001b[0m\n\u001b[0;32m   6642\u001b[0m \u001b[39mif\u001b[39;00m mask\u001b[39m.\u001b[39many():\n\u001b[0;32m   6643\u001b[0m     \u001b[39mif\u001b[39;00m errors \u001b[39m!=\u001b[39m \u001b[39m\"\u001b[39m\u001b[39mignore\u001b[39m\u001b[39m\"\u001b[39m:\n\u001b[1;32m-> 6644\u001b[0m         \u001b[39mraise\u001b[39;00m \u001b[39mKeyError\u001b[39;00m(\u001b[39mf\u001b[39m\u001b[39m\"\u001b[39m\u001b[39m{\u001b[39;00m\u001b[39mlist\u001b[39m(labels[mask])\u001b[39m}\u001b[39;00m\u001b[39m not found in axis\u001b[39m\u001b[39m\"\u001b[39m)\n\u001b[0;32m   6645\u001b[0m     indexer \u001b[39m=\u001b[39m indexer[\u001b[39m~\u001b[39mmask]\n\u001b[0;32m   6646\u001b[0m \u001b[39mreturn\u001b[39;00m \u001b[39mself\u001b[39m\u001b[39m.\u001b[39mdelete(indexer)\n",
      "\u001b[1;31mKeyError\u001b[0m: \"['domein_environment', 'domein_social', 'domein_governance'] not found in axis\""
     ]
    }
   ],
   "source": [
    "import numpy as np\n",
    "import pandas as pd\n",
    "\n",
    "from sklearn.model_selection import train_test_split\n",
    "from sklearn.preprocessing import StandardScaler\n",
    "\n",
    "from keras.models import Sequential\n",
    "from keras.layers import Dense\n",
    "\n",
    "X = df.drop(['general_score', 'domein_environment','domein_social','domein_governance', 'ondernemingsnummer'], axis=1)\n",
    "y = df['domein_social']\n",
    "\n",
    "X_train, X_test, y_train, y_test = train_test_split(X, y, test_size=0.2, random_state=42)\n",
    "\n",
    "scaler = MinMaxScaler()\n",
    "X_train = scaler.fit_transform(X_train)\n",
    "X_test = scaler.transform(X_test)\n",
    "\n",
    "model = Sequential()\n",
    "model.add(Dense(10, input_dim=X_train.shape[1], activation='relu'))\n",
    "model.add(Dense(1))\n",
    "\n",
    "model.compile(loss='mean_squared_error', optimizer='adam')\n",
    "\n",
    "model.fit(X_train, y_train, epochs=100, batch_size=32, verbose=0)\n",
    "\n",
    "test_loss = model.evaluate(X_test, y_test, verbose=0)\n",
    "print(f'Test loss: {test_loss}')"
   ]
  },
  {
   "cell_type": "code",
   "execution_count": null,
   "metadata": {},
   "outputs": [],
   "source": [
    "from keras.models import load_model\n",
    "model.save('ann-social-score.h5')\n",
    "ann = load_model('ann-social-score.h5')"
   ]
  },
  {
   "cell_type": "code",
   "execution_count": null,
   "metadata": {},
   "outputs": [
    {
     "name": "stdout",
     "output_type": "stream",
     "text": [
      "1/1 [==============================] - 0s 34ms/step\n",
      "[[0.68925333]]\n"
     ]
    },
    {
     "name": "stderr",
     "output_type": "stream",
     "text": [
      "c:\\Users\\Dylan\\AppData\\Local\\Programs\\Python\\Python310\\lib\\site-packages\\sklearn\\base.py:450: UserWarning: X does not have valid feature names, but MinMaxScaler was fitted with feature names\n",
      "  warnings.warn(\n"
     ]
    }
   ],
   "source": [
    "new_data = np.array([[15695287, 22250545, 38.498630, 100, 1, 1.320000]])\n",
    "new_data = scaler.transform(new_data)\n",
    "prediction = ann.predict(new_data)\n",
    "print(prediction)"
   ]
  },
  {
   "attachments": {},
   "cell_type": "markdown",
   "metadata": {},
   "source": [
    "# G berekenen"
   ]
  },
  {
   "cell_type": "code",
   "execution_count": null,
   "metadata": {},
   "outputs": [
    {
     "name": "stdout",
     "output_type": "stream",
     "text": [
      "Test loss: 0.057135872542858124\n"
     ]
    }
   ],
   "source": [
    "import numpy as np\n",
    "import pandas as pd\n",
    "\n",
    "from sklearn.model_selection import train_test_split\n",
    "from sklearn.preprocessing import StandardScaler\n",
    "\n",
    "from keras.models import Sequential\n",
    "from keras.layers import Dense\n",
    "\n",
    "X = df.drop(['general_score', 'domein_environment','domein_social','domein_governance', 'ondernemingsnummer'], axis=1)\n",
    "y = df['domein_governance']\n",
    "\n",
    "X_train, X_test, y_train, y_test = train_test_split(X, y, test_size=0.2, random_state=42)\n",
    "\n",
    "scaler = MinMaxScaler()\n",
    "X_train = scaler.fit_transform(X_train)\n",
    "X_test = scaler.transform(X_test)\n",
    "\n",
    "model = Sequential()\n",
    "model.add(Dense(10, input_dim=X_train.shape[1], activation='relu'))\n",
    "model.add(Dense(1))\n",
    "\n",
    "model.compile(loss='mean_squared_error', optimizer='adam')\n",
    "\n",
    "model.fit(X_train, y_train, epochs=100, batch_size=32, verbose=0)\n",
    "\n",
    "test_loss = model.evaluate(X_test, y_test, verbose=0)\n",
    "print(f'Test loss: {test_loss}')"
   ]
  },
  {
   "cell_type": "code",
   "execution_count": null,
   "metadata": {},
   "outputs": [],
   "source": [
    "from keras.models import load_model\n",
    "model.save('ann-governance-score.h5')\n",
    "ann = load_model('ann-governance-score.h5')"
   ]
  }
 ],
 "metadata": {
  "kernelspec": {
   "display_name": "Python 3.10.4 64-bit",
   "language": "python",
   "name": "python3"
  },
  "language_info": {
   "codemirror_mode": {
    "name": "ipython",
    "version": 3
   },
   "file_extension": ".py",
   "mimetype": "text/x-python",
   "name": "python",
   "nbconvert_exporter": "python",
   "pygments_lexer": "ipython3",
   "version": "3.10.4 (tags/v3.10.4:9d38120, Mar 23 2022, 23:13:41) [MSC v.1929 64 bit (AMD64)]"
  },
  "orig_nbformat": 4,
  "vscode": {
   "interpreter": {
    "hash": "2826aba1e6a86f4d43162759cc60d91502a916d32d010281a6416e3f3957e99a"
   }
  }
 },
 "nbformat": 4,
 "nbformat_minor": 2
}
