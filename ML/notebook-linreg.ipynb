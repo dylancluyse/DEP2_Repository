{
 "cells": [
  {
   "cell_type": "markdown",
   "metadata": {},
   "source": [
    "Data ophalen. Dit is een aangepaste view."
   ]
  },
  {
   "cell_type": "code",
   "execution_count": 1,
   "metadata": {},
   "outputs": [],
   "source": [
    "from pymysql import Connect\n",
    "import pandas as pd\n",
    "import pyodbc, psycopg2\n",
    "\n",
    "db_conn = psycopg2.connect(database=\"depdatabase\", user=\"postgres\", password=\"DaddySzymon123\", host=\"vichogent.be\", port=\"40033\")\n",
    "\n",
    "cursor = db_conn.cursor()\n",
    "\n",
    "cursor.execute(f\"\"\"\n",
    "        select * from view_machine_learning_data\n",
    "\"\"\")\n",
    "\n",
    "df = pd.DataFrame(cursor.fetchall(), columns=['ondernemingsnummer', 'urban','balanstotaal','omzet', 'personeelsbestanden', 'foundingdate', 'environment','social','governance'])"
   ]
  },
  {
   "cell_type": "code",
   "execution_count": 2,
   "metadata": {},
   "outputs": [
    {
     "data": {
      "text/html": [
       "<div>\n",
       "<style scoped>\n",
       "    .dataframe tbody tr th:only-of-type {\n",
       "        vertical-align: middle;\n",
       "    }\n",
       "\n",
       "    .dataframe tbody tr th {\n",
       "        vertical-align: top;\n",
       "    }\n",
       "\n",
       "    .dataframe thead th {\n",
       "        text-align: right;\n",
       "    }\n",
       "</style>\n",
       "<table border=\"1\" class=\"dataframe\">\n",
       "  <thead>\n",
       "    <tr style=\"text-align: right;\">\n",
       "      <th></th>\n",
       "      <th>ondernemingsnummer</th>\n",
       "      <th>urban</th>\n",
       "      <th>balanstotaal</th>\n",
       "      <th>omzet</th>\n",
       "      <th>personeelsbestanden</th>\n",
       "      <th>foundingdate</th>\n",
       "      <th>environment</th>\n",
       "      <th>social</th>\n",
       "      <th>governance</th>\n",
       "    </tr>\n",
       "  </thead>\n",
       "  <tbody>\n",
       "    <tr>\n",
       "      <th>0</th>\n",
       "      <td>411961473</td>\n",
       "      <td>0.1904761904761904</td>\n",
       "      <td>5317456.02</td>\n",
       "      <td>12348474.46</td>\n",
       "      <td>44.0</td>\n",
       "      <td>1972-01-01</td>\n",
       "      <td>0.0</td>\n",
       "      <td>0.167493</td>\n",
       "      <td>0.612960</td>\n",
       "    </tr>\n",
       "    <tr>\n",
       "      <th>1</th>\n",
       "      <td>477176652</td>\n",
       "      <td>0.75</td>\n",
       "      <td>None</td>\n",
       "      <td>None</td>\n",
       "      <td>NaN</td>\n",
       "      <td>2002-03-26</td>\n",
       "      <td>0.0</td>\n",
       "      <td>0.167493</td>\n",
       "      <td>0.612960</td>\n",
       "    </tr>\n",
       "    <tr>\n",
       "      <th>2</th>\n",
       "      <td>421994738</td>\n",
       "      <td>0.6572222</td>\n",
       "      <td>5346109.79</td>\n",
       "      <td>0</td>\n",
       "      <td>12.0</td>\n",
       "      <td>1981-10-01</td>\n",
       "      <td>0.0</td>\n",
       "      <td>0.025496</td>\n",
       "      <td>0.014873</td>\n",
       "    </tr>\n",
       "    <tr>\n",
       "      <th>3</th>\n",
       "      <td>423861690</td>\n",
       "      <td>0.5333333333333333</td>\n",
       "      <td>2947305.45</td>\n",
       "      <td>0</td>\n",
       "      <td>16.0</td>\n",
       "      <td>1983-03-30</td>\n",
       "      <td>0.0</td>\n",
       "      <td>0.025496</td>\n",
       "      <td>0.300637</td>\n",
       "    </tr>\n",
       "    <tr>\n",
       "      <th>4</th>\n",
       "      <td>454287622</td>\n",
       "      <td>0.87777</td>\n",
       "      <td>None</td>\n",
       "      <td>None</td>\n",
       "      <td>NaN</td>\n",
       "      <td>1995-01-13</td>\n",
       "      <td>0.0</td>\n",
       "      <td>0.446884</td>\n",
       "      <td>0.311969</td>\n",
       "    </tr>\n",
       "  </tbody>\n",
       "</table>\n",
       "</div>"
      ],
      "text/plain": [
       "   ondernemingsnummer               urban balanstotaal        omzet  \\\n",
       "0           411961473  0.1904761904761904   5317456.02  12348474.46   \n",
       "1           477176652                0.75         None         None   \n",
       "2           421994738           0.6572222   5346109.79            0   \n",
       "3           423861690  0.5333333333333333   2947305.45            0   \n",
       "4           454287622             0.87777         None         None   \n",
       "\n",
       "   personeelsbestanden foundingdate  environment    social  governance  \n",
       "0                 44.0   1972-01-01          0.0  0.167493    0.612960  \n",
       "1                  NaN   2002-03-26          0.0  0.167493    0.612960  \n",
       "2                 12.0   1981-10-01          0.0  0.025496    0.014873  \n",
       "3                 16.0   1983-03-30          0.0  0.025496    0.300637  \n",
       "4                  NaN   1995-01-13          0.0  0.446884    0.311969  "
      ]
     },
     "execution_count": 2,
     "metadata": {},
     "output_type": "execute_result"
    }
   ],
   "source": [
    "df.head()"
   ]
  },
  {
   "cell_type": "markdown",
   "metadata": {},
   "source": [
    "Null-waarden droppen"
   ]
  },
  {
   "cell_type": "code",
   "execution_count": 3,
   "metadata": {},
   "outputs": [],
   "source": [
    "df = df.dropna()"
   ]
  },
  {
   "cell_type": "code",
   "execution_count": 4,
   "metadata": {},
   "outputs": [
    {
     "data": {
      "text/plain": [
       "1919"
      ]
     },
     "execution_count": 4,
     "metadata": {},
     "output_type": "execute_result"
    }
   ],
   "source": [
    "len(df)"
   ]
  },
  {
   "cell_type": "code",
   "execution_count": 5,
   "metadata": {},
   "outputs": [
    {
     "data": {
      "text/html": [
       "<div>\n",
       "<style scoped>\n",
       "    .dataframe tbody tr th:only-of-type {\n",
       "        vertical-align: middle;\n",
       "    }\n",
       "\n",
       "    .dataframe tbody tr th {\n",
       "        vertical-align: top;\n",
       "    }\n",
       "\n",
       "    .dataframe thead th {\n",
       "        text-align: right;\n",
       "    }\n",
       "</style>\n",
       "<table border=\"1\" class=\"dataframe\">\n",
       "  <thead>\n",
       "    <tr style=\"text-align: right;\">\n",
       "      <th></th>\n",
       "      <th>ondernemingsnummer</th>\n",
       "      <th>urban</th>\n",
       "      <th>balanstotaal</th>\n",
       "      <th>omzet</th>\n",
       "      <th>personeelsbestanden</th>\n",
       "      <th>foundingdate</th>\n",
       "      <th>environment</th>\n",
       "      <th>social</th>\n",
       "      <th>governance</th>\n",
       "    </tr>\n",
       "  </thead>\n",
       "  <tbody>\n",
       "    <tr>\n",
       "      <th>0</th>\n",
       "      <td>411961473</td>\n",
       "      <td>0.1904761904761904</td>\n",
       "      <td>5317456.02</td>\n",
       "      <td>12348474.46</td>\n",
       "      <td>44.0</td>\n",
       "      <td>1972-01-01</td>\n",
       "      <td>0.0</td>\n",
       "      <td>0.167493</td>\n",
       "      <td>0.612960</td>\n",
       "    </tr>\n",
       "    <tr>\n",
       "      <th>2</th>\n",
       "      <td>421994738</td>\n",
       "      <td>0.6572222</td>\n",
       "      <td>5346109.79</td>\n",
       "      <td>0</td>\n",
       "      <td>12.0</td>\n",
       "      <td>1981-10-01</td>\n",
       "      <td>0.0</td>\n",
       "      <td>0.025496</td>\n",
       "      <td>0.014873</td>\n",
       "    </tr>\n",
       "    <tr>\n",
       "      <th>3</th>\n",
       "      <td>423861690</td>\n",
       "      <td>0.5333333333333333</td>\n",
       "      <td>2947305.45</td>\n",
       "      <td>0</td>\n",
       "      <td>16.0</td>\n",
       "      <td>1983-03-30</td>\n",
       "      <td>0.0</td>\n",
       "      <td>0.025496</td>\n",
       "      <td>0.300637</td>\n",
       "    </tr>\n",
       "    <tr>\n",
       "      <th>5</th>\n",
       "      <td>405186123</td>\n",
       "      <td>0.2121212121212121</td>\n",
       "      <td>6162057.09</td>\n",
       "      <td>7943750.51</td>\n",
       "      <td>22.0</td>\n",
       "      <td>1960-08-12</td>\n",
       "      <td>0.0</td>\n",
       "      <td>0.388102</td>\n",
       "      <td>0.643059</td>\n",
       "    </tr>\n",
       "    <tr>\n",
       "      <th>7</th>\n",
       "      <td>422713726</td>\n",
       "      <td>1.178555</td>\n",
       "      <td>14317207.50</td>\n",
       "      <td>19350363.76</td>\n",
       "      <td>36.0</td>\n",
       "      <td>1982-04-13</td>\n",
       "      <td>0.0</td>\n",
       "      <td>0.388102</td>\n",
       "      <td>0.362252</td>\n",
       "    </tr>\n",
       "  </tbody>\n",
       "</table>\n",
       "</div>"
      ],
      "text/plain": [
       "   ondernemingsnummer               urban balanstotaal        omzet  \\\n",
       "0           411961473  0.1904761904761904   5317456.02  12348474.46   \n",
       "2           421994738           0.6572222   5346109.79            0   \n",
       "3           423861690  0.5333333333333333   2947305.45            0   \n",
       "5           405186123  0.2121212121212121   6162057.09   7943750.51   \n",
       "7           422713726            1.178555  14317207.50  19350363.76   \n",
       "\n",
       "   personeelsbestanden foundingdate  environment    social  governance  \n",
       "0                 44.0   1972-01-01          0.0  0.167493    0.612960  \n",
       "2                 12.0   1981-10-01          0.0  0.025496    0.014873  \n",
       "3                 16.0   1983-03-30          0.0  0.025496    0.300637  \n",
       "5                 22.0   1960-08-12          0.0  0.388102    0.643059  \n",
       "7                 36.0   1982-04-13          0.0  0.388102    0.362252  "
      ]
     },
     "execution_count": 5,
     "metadata": {},
     "output_type": "execute_result"
    }
   ],
   "source": [
    "df.head()"
   ]
  },
  {
   "cell_type": "markdown",
   "metadata": {},
   "source": [
    "Omzetten naar de gepaste datatypes:"
   ]
  },
  {
   "cell_type": "code",
   "execution_count": 6,
   "metadata": {},
   "outputs": [],
   "source": [
    "df['omzet'] = df['omzet'].astype('int64')\n",
    "df['balanstotaal'] = df['balanstotaal'].astype('int64')\n",
    "df['personeelsbestanden'] = df['personeelsbestanden'].astype('int64')\n",
    "df['urban'] = df['urban'].astype('float64')\n",
    "df['foundingdate'] = (pd.Timestamp.now() - pd.to_datetime(df['foundingdate'], format=\"%Y-%m-%d\")).dt.days / 365\n",
    "df['environment'] = df['environment'].astype('float64')\n",
    "df['social'] = df['social'].astype('float64')\n",
    "df['governance'] = df['governance'].astype('float64')"
   ]
  },
  {
   "cell_type": "code",
   "execution_count": 7,
   "metadata": {},
   "outputs": [
    {
     "data": {
      "text/plain": [
       "ondernemingsnummer       int64\n",
       "urban                  float64\n",
       "balanstotaal             int64\n",
       "omzet                    int64\n",
       "personeelsbestanden      int64\n",
       "foundingdate           float64\n",
       "environment            float64\n",
       "social                 float64\n",
       "governance             float64\n",
       "dtype: object"
      ]
     },
     "execution_count": 7,
     "metadata": {},
     "output_type": "execute_result"
    }
   ],
   "source": [
    "df.dtypes"
   ]
  },
  {
   "cell_type": "markdown",
   "metadata": {},
   "source": [
    "Outliers verwijderen"
   ]
  },
  {
   "cell_type": "code",
   "execution_count": 8,
   "metadata": {},
   "outputs": [],
   "source": [
    "from scipy import stats\n",
    "import numpy as np\n",
    "df = df[df['omzet']>0]\n",
    "df = df[df['balanstotaal']>0]\n",
    "df = df[df['personeelsbestanden']>0]\n",
    "df = df.drop('ondernemingsnummer', axis=1)"
   ]
  },
  {
   "cell_type": "code",
   "execution_count": 9,
   "metadata": {},
   "outputs": [
    {
     "data": {
      "text/plain": [
       "1255"
      ]
     },
     "execution_count": 9,
     "metadata": {},
     "output_type": "execute_result"
    }
   ],
   "source": [
    "len(df)"
   ]
  },
  {
   "cell_type": "code",
   "execution_count": 10,
   "metadata": {},
   "outputs": [
    {
     "name": "stdout",
     "output_type": "stream",
     "text": [
      "capping urban\n",
      "capping balanstotaal\n",
      "capping omzet\n",
      "capping personeelsbestanden\n",
      "capping foundingdate\n",
      "capping environment\n",
      "capping social\n",
      "capping governance\n"
     ]
    },
    {
     "name": "stderr",
     "output_type": "stream",
     "text": [
      "C:\\Users\\Dylan\\AppData\\Local\\Temp\\ipykernel_3596\\4078108386.py:7: SettingWithCopyWarning: \n",
      "A value is trying to be set on a copy of a slice from a DataFrame\n",
      "\n",
      "See the caveats in the documentation: https://pandas.pydata.org/pandas-docs/stable/user_guide/indexing.html#returning-a-view-versus-a-copy\n",
      "  df[col][df[col] <= percentiles[0]] = percentiles[0]\n",
      "C:\\Users\\Dylan\\AppData\\Local\\Temp\\ipykernel_3596\\4078108386.py:8: SettingWithCopyWarning: \n",
      "A value is trying to be set on a copy of a slice from a DataFrame\n",
      "\n",
      "See the caveats in the documentation: https://pandas.pydata.org/pandas-docs/stable/user_guide/indexing.html#returning-a-view-versus-a-copy\n",
      "  df[col][df[col] >= percentiles[1]] = percentiles[1]\n",
      "C:\\Users\\Dylan\\AppData\\Local\\Temp\\ipykernel_3596\\4078108386.py:7: SettingWithCopyWarning: \n",
      "A value is trying to be set on a copy of a slice from a DataFrame\n",
      "\n",
      "See the caveats in the documentation: https://pandas.pydata.org/pandas-docs/stable/user_guide/indexing.html#returning-a-view-versus-a-copy\n",
      "  df[col][df[col] <= percentiles[0]] = percentiles[0]\n",
      "C:\\Users\\Dylan\\AppData\\Local\\Temp\\ipykernel_3596\\4078108386.py:7: SettingWithCopyWarning: \n",
      "A value is trying to be set on a copy of a slice from a DataFrame\n",
      "\n",
      "See the caveats in the documentation: https://pandas.pydata.org/pandas-docs/stable/user_guide/indexing.html#returning-a-view-versus-a-copy\n",
      "  df[col][df[col] <= percentiles[0]] = percentiles[0]\n",
      "C:\\Users\\Dylan\\AppData\\Local\\Temp\\ipykernel_3596\\4078108386.py:8: SettingWithCopyWarning: \n",
      "A value is trying to be set on a copy of a slice from a DataFrame\n",
      "\n",
      "See the caveats in the documentation: https://pandas.pydata.org/pandas-docs/stable/user_guide/indexing.html#returning-a-view-versus-a-copy\n",
      "  df[col][df[col] >= percentiles[1]] = percentiles[1]\n",
      "C:\\Users\\Dylan\\AppData\\Local\\Temp\\ipykernel_3596\\4078108386.py:7: SettingWithCopyWarning: \n",
      "A value is trying to be set on a copy of a slice from a DataFrame\n",
      "\n",
      "See the caveats in the documentation: https://pandas.pydata.org/pandas-docs/stable/user_guide/indexing.html#returning-a-view-versus-a-copy\n",
      "  df[col][df[col] <= percentiles[0]] = percentiles[0]\n",
      "C:\\Users\\Dylan\\AppData\\Local\\Temp\\ipykernel_3596\\4078108386.py:8: SettingWithCopyWarning: \n",
      "A value is trying to be set on a copy of a slice from a DataFrame\n",
      "\n",
      "See the caveats in the documentation: https://pandas.pydata.org/pandas-docs/stable/user_guide/indexing.html#returning-a-view-versus-a-copy\n",
      "  df[col][df[col] >= percentiles[1]] = percentiles[1]\n",
      "C:\\Users\\Dylan\\AppData\\Local\\Temp\\ipykernel_3596\\4078108386.py:7: SettingWithCopyWarning: \n",
      "A value is trying to be set on a copy of a slice from a DataFrame\n",
      "\n",
      "See the caveats in the documentation: https://pandas.pydata.org/pandas-docs/stable/user_guide/indexing.html#returning-a-view-versus-a-copy\n",
      "  df[col][df[col] <= percentiles[0]] = percentiles[0]\n",
      "C:\\Users\\Dylan\\AppData\\Local\\Temp\\ipykernel_3596\\4078108386.py:8: SettingWithCopyWarning: \n",
      "A value is trying to be set on a copy of a slice from a DataFrame\n",
      "\n",
      "See the caveats in the documentation: https://pandas.pydata.org/pandas-docs/stable/user_guide/indexing.html#returning-a-view-versus-a-copy\n",
      "  df[col][df[col] >= percentiles[1]] = percentiles[1]\n",
      "C:\\Users\\Dylan\\AppData\\Local\\Temp\\ipykernel_3596\\4078108386.py:7: SettingWithCopyWarning: \n",
      "A value is trying to be set on a copy of a slice from a DataFrame\n",
      "\n",
      "See the caveats in the documentation: https://pandas.pydata.org/pandas-docs/stable/user_guide/indexing.html#returning-a-view-versus-a-copy\n",
      "  df[col][df[col] <= percentiles[0]] = percentiles[0]\n",
      "C:\\Users\\Dylan\\AppData\\Local\\Temp\\ipykernel_3596\\4078108386.py:8: SettingWithCopyWarning: \n",
      "A value is trying to be set on a copy of a slice from a DataFrame\n",
      "\n",
      "See the caveats in the documentation: https://pandas.pydata.org/pandas-docs/stable/user_guide/indexing.html#returning-a-view-versus-a-copy\n",
      "  df[col][df[col] >= percentiles[1]] = percentiles[1]\n",
      "C:\\Users\\Dylan\\AppData\\Local\\Temp\\ipykernel_3596\\4078108386.py:7: SettingWithCopyWarning: \n",
      "A value is trying to be set on a copy of a slice from a DataFrame\n",
      "\n",
      "See the caveats in the documentation: https://pandas.pydata.org/pandas-docs/stable/user_guide/indexing.html#returning-a-view-versus-a-copy\n",
      "  df[col][df[col] <= percentiles[0]] = percentiles[0]\n",
      "C:\\Users\\Dylan\\AppData\\Local\\Temp\\ipykernel_3596\\4078108386.py:8: SettingWithCopyWarning: \n",
      "A value is trying to be set on a copy of a slice from a DataFrame\n",
      "\n",
      "See the caveats in the documentation: https://pandas.pydata.org/pandas-docs/stable/user_guide/indexing.html#returning-a-view-versus-a-copy\n",
      "  df[col][df[col] >= percentiles[1]] = percentiles[1]\n",
      "C:\\Users\\Dylan\\AppData\\Local\\Temp\\ipykernel_3596\\4078108386.py:7: SettingWithCopyWarning: \n",
      "A value is trying to be set on a copy of a slice from a DataFrame\n",
      "\n",
      "See the caveats in the documentation: https://pandas.pydata.org/pandas-docs/stable/user_guide/indexing.html#returning-a-view-versus-a-copy\n",
      "  df[col][df[col] <= percentiles[0]] = percentiles[0]\n",
      "C:\\Users\\Dylan\\AppData\\Local\\Temp\\ipykernel_3596\\4078108386.py:8: SettingWithCopyWarning: \n",
      "A value is trying to be set on a copy of a slice from a DataFrame\n",
      "\n",
      "See the caveats in the documentation: https://pandas.pydata.org/pandas-docs/stable/user_guide/indexing.html#returning-a-view-versus-a-copy\n",
      "  df[col][df[col] >= percentiles[1]] = percentiles[1]\n"
     ]
    }
   ],
   "source": [
    "numerical_ix = df.select_dtypes(include=['int32','int64','float64']).columns\n",
    "\n",
    "for col in numerical_ix:\n",
    "        print(\"capping\",col)\n",
    "        if (((df[col].dtype)=='float64') | ((df[col].dtype)=='int64')):\n",
    "            percentiles = df[col].quantile([0.20,0.80]).values\n",
    "            df[col][df[col] <= percentiles[0]] = percentiles[0]\n",
    "            df[col][df[col] >= percentiles[1]] = percentiles[1]\n",
    "        else:\n",
    "            df[col]=df[col]\n",
    "\n"
   ]
  },
  {
   "cell_type": "markdown",
   "metadata": {},
   "source": [
    "Algemene score toevoegen"
   ]
  },
  {
   "cell_type": "code",
   "execution_count": 11,
   "metadata": {},
   "outputs": [],
   "source": [
    "df['general_score'] = df['governance'] + df['social'] + df['environment']"
   ]
  },
  {
   "cell_type": "code",
   "execution_count": 12,
   "metadata": {},
   "outputs": [
    {
     "data": {
      "text/html": [
       "<div>\n",
       "<style scoped>\n",
       "    .dataframe tbody tr th:only-of-type {\n",
       "        vertical-align: middle;\n",
       "    }\n",
       "\n",
       "    .dataframe tbody tr th {\n",
       "        vertical-align: top;\n",
       "    }\n",
       "\n",
       "    .dataframe thead th {\n",
       "        text-align: right;\n",
       "    }\n",
       "</style>\n",
       "<table border=\"1\" class=\"dataframe\">\n",
       "  <thead>\n",
       "    <tr style=\"text-align: right;\">\n",
       "      <th></th>\n",
       "      <th>urban</th>\n",
       "      <th>balanstotaal</th>\n",
       "      <th>omzet</th>\n",
       "      <th>personeelsbestanden</th>\n",
       "      <th>foundingdate</th>\n",
       "      <th>environment</th>\n",
       "      <th>social</th>\n",
       "      <th>governance</th>\n",
       "      <th>general_score</th>\n",
       "    </tr>\n",
       "  </thead>\n",
       "  <tbody>\n",
       "    <tr>\n",
       "      <th>0</th>\n",
       "      <td>0.533333</td>\n",
       "      <td>5894315.2</td>\n",
       "      <td>12348474.0</td>\n",
       "      <td>44</td>\n",
       "      <td>49.024658</td>\n",
       "      <td>0.206091</td>\n",
       "      <td>0.277620</td>\n",
       "      <td>0.612960</td>\n",
       "      <td>1.096671</td>\n",
       "    </tr>\n",
       "    <tr>\n",
       "      <th>5</th>\n",
       "      <td>0.533333</td>\n",
       "      <td>6162057.0</td>\n",
       "      <td>7943750.0</td>\n",
       "      <td>22</td>\n",
       "      <td>49.024658</td>\n",
       "      <td>0.206091</td>\n",
       "      <td>0.388102</td>\n",
       "      <td>0.643059</td>\n",
       "      <td>1.237252</td>\n",
       "    </tr>\n",
       "    <tr>\n",
       "      <th>7</th>\n",
       "      <td>1.178555</td>\n",
       "      <td>14317207.0</td>\n",
       "      <td>19350363.0</td>\n",
       "      <td>36</td>\n",
       "      <td>40.709589</td>\n",
       "      <td>0.206091</td>\n",
       "      <td>0.388102</td>\n",
       "      <td>0.394830</td>\n",
       "      <td>0.989023</td>\n",
       "    </tr>\n",
       "    <tr>\n",
       "      <th>9</th>\n",
       "      <td>1.322222</td>\n",
       "      <td>21262192.0</td>\n",
       "      <td>29011960.0</td>\n",
       "      <td>30</td>\n",
       "      <td>30.663014</td>\n",
       "      <td>0.206091</td>\n",
       "      <td>0.843555</td>\n",
       "      <td>0.819405</td>\n",
       "      <td>1.869051</td>\n",
       "    </tr>\n",
       "    <tr>\n",
       "      <th>13</th>\n",
       "      <td>1.443299</td>\n",
       "      <td>21472703.0</td>\n",
       "      <td>16278751.0</td>\n",
       "      <td>30</td>\n",
       "      <td>21.055890</td>\n",
       "      <td>0.206091</td>\n",
       "      <td>0.438031</td>\n",
       "      <td>0.853329</td>\n",
       "      <td>1.497450</td>\n",
       "    </tr>\n",
       "  </tbody>\n",
       "</table>\n",
       "</div>"
      ],
      "text/plain": [
       "       urban  balanstotaal       omzet  personeelsbestanden  foundingdate  \\\n",
       "0   0.533333     5894315.2  12348474.0                   44     49.024658   \n",
       "5   0.533333     6162057.0   7943750.0                   22     49.024658   \n",
       "7   1.178555    14317207.0  19350363.0                   36     40.709589   \n",
       "9   1.322222    21262192.0  29011960.0                   30     30.663014   \n",
       "13  1.443299    21472703.0  16278751.0                   30     21.055890   \n",
       "\n",
       "    environment    social  governance  general_score  \n",
       "0      0.206091  0.277620    0.612960       1.096671  \n",
       "5      0.206091  0.388102    0.643059       1.237252  \n",
       "7      0.206091  0.388102    0.394830       0.989023  \n",
       "9      0.206091  0.843555    0.819405       1.869051  \n",
       "13     0.206091  0.438031    0.853329       1.497450  "
      ]
     },
     "execution_count": 12,
     "metadata": {},
     "output_type": "execute_result"
    }
   ],
   "source": [
    "df.head()"
   ]
  },
  {
   "cell_type": "code",
   "execution_count": 13,
   "metadata": {},
   "outputs": [
    {
     "data": {
      "text/plain": [
       "1255"
      ]
     },
     "execution_count": 13,
     "metadata": {},
     "output_type": "execute_result"
    }
   ],
   "source": [
    "len(df)"
   ]
  },
  {
   "cell_type": "code",
   "execution_count": 14,
   "metadata": {},
   "outputs": [
    {
     "ename": "NameError",
     "evalue": "name 'sns' is not defined",
     "output_type": "error",
     "traceback": [
      "\u001b[1;31m---------------------------------------------------------------------------\u001b[0m",
      "\u001b[1;31mNameError\u001b[0m                                 Traceback (most recent call last)",
      "Cell \u001b[1;32mIn [14], line 1\u001b[0m\n\u001b[1;32m----> 1\u001b[0m sns\u001b[39m.\u001b[39mboxplot(data\u001b[39m=\u001b[39mdf, x\u001b[39m=\u001b[39m\u001b[39m'\u001b[39m\u001b[39mbalanstotaal\u001b[39m\u001b[39m'\u001b[39m)\n",
      "\u001b[1;31mNameError\u001b[0m: name 'sns' is not defined"
     ]
    }
   ],
   "source": [
    "sns.boxplot(data=df, x='balanstotaal')"
   ]
  },
  {
   "cell_type": "code",
   "execution_count": null,
   "metadata": {},
   "outputs": [
    {
     "data": {
      "text/plain": [
       "<AxesSubplot:xlabel='omzet'>"
      ]
     },
     "execution_count": 299,
     "metadata": {},
     "output_type": "execute_result"
    },
    {
     "data": {
      "image/png": "[encoded data removed]",
      "text/plain": [
       "<Figure size 640x480 with 1 Axes>"
      ]
     },
     "metadata": {},
     "output_type": "display_data"
    }
   ],
   "source": [
    "sns.boxplot(data=df, x='omzet')"
   ]
  },
  {
   "cell_type": "code",
   "execution_count": null,
   "metadata": {},
   "outputs": [],
   "source": [
    "X = df.drop(['general_score', 'environment','social','governance'], axis=1)\n",
    "y = df['general_score']\n",
    "\n",
    "from sklearn.model_selection import train_test_split\n",
    "X_train,X_test,y_train,y_test = train_test_split(X,y,random_state=42)"
   ]
  },
  {
   "cell_type": "code",
   "execution_count": null,
   "metadata": {},
   "outputs": [],
   "source": [
    "from sklearn.pipeline import Pipeline\n",
    "from sklearn.preprocessing import MinMaxScaler\n",
    "from sklearn.compose import ColumnTransformer\n",
    "\n",
    "numerical_ix = X.select_dtypes(include=['int32','int64','float64']).columns\n",
    "\n",
    "col_transform = ColumnTransformer(transformers=[\n",
    "    ('minmax',MinMaxScaler(), numerical_ix),\n",
    "])"
   ]
  },
  {
   "attachments": {},
   "cell_type": "markdown",
   "metadata": {},
   "source": [
    "# Data-Analyse"
   ]
  },
  {
   "cell_type": "code",
   "execution_count": null,
   "metadata": {},
   "outputs": [
    {
     "data": {
      "text/plain": [
       "<AxesSubplot:xlabel='environment', ylabel='Count'>"
      ]
     },
     "execution_count": 302,
     "metadata": {},
     "output_type": "execute_result"
    },
    {
     "data": {
      "image/png": "[encoded data removed]",
      "text/plain": [
       "<Figure size 640x480 with 1 Axes>"
      ]
     },
     "metadata": {},
     "output_type": "display_data"
    }
   ],
   "source": [
    "import seaborn as sns\n",
    "sns.histplot(data=df, x='environment', bins=10)"
   ]
  },
  {
   "cell_type": "code",
   "execution_count": null,
   "metadata": {},
   "outputs": [
    {
     "data": {
      "text/plain": [
       "<AxesSubplot:xlabel='social', ylabel='Count'>"
      ]
     },
     "execution_count": 303,
     "metadata": {},
     "output_type": "execute_result"
    },
    {
     "data": {
      "image/png": "[encoded data removed]",
      "text/plain": [
       "<Figure size 640x480 with 1 Axes>"
      ]
     },
     "metadata": {},
     "output_type": "display_data"
    }
   ],
   "source": [
    "sns.histplot(data=df, x='social', bins=10)"
   ]
  },
  {
   "cell_type": "code",
   "execution_count": null,
   "metadata": {},
   "outputs": [
    {
     "data": {
      "text/plain": [
       "<AxesSubplot:xlabel='governance', ylabel='Count'>"
      ]
     },
     "execution_count": 304,
     "metadata": {},
     "output_type": "execute_result"
    },
    {
     "data": {
      "image/png": "[encoded data removed]",
      "text/plain": [
       "<Figure size 640x480 with 1 Axes>"
      ]
     },
     "metadata": {},
     "output_type": "display_data"
    }
   ],
   "source": [
    "sns.histplot(data=df, x='governance', bins=10)"
   ]
  },
  {
   "cell_type": "code",
   "execution_count": null,
   "metadata": {},
   "outputs": [
    {
     "data": {
      "text/plain": [
       "<AxesSubplot:xlabel='omzet'>"
      ]
     },
     "execution_count": 305,
     "metadata": {},
     "output_type": "execute_result"
    },
    {
     "data": {
      "image/png": "[encoded data removed]",
      "text/plain": [
       "<Figure size 640x480 with 1 Axes>"
      ]
     },
     "metadata": {},
     "output_type": "display_data"
    }
   ],
   "source": [
    "sns.boxplot(data=df, x='omzet')"
   ]
  },
  {
   "attachments": {},
   "cell_type": "markdown",
   "metadata": {},
   "source": [
    "# Split"
   ]
  },
  {
   "cell_type": "code",
   "execution_count": null,
   "metadata": {},
   "outputs": [],
   "source": [
    "from sklearn.model_selection import train_test_split\n",
    "\n",
    "# Split the data into a training set and a test set\n",
    "X_train, X_test, y_train, y_test = train_test_split(X, y, test_size=0.2)"
   ]
  },
  {
   "attachments": {},
   "cell_type": "markdown",
   "metadata": {},
   "source": [
    "# Lineaire Regressie"
   ]
  },
  {
   "cell_type": "code",
   "execution_count": null,
   "metadata": {},
   "outputs": [],
   "source": [
    "from sklearn.linear_model import LinearRegression\n",
    "\n",
    "# Create the model\n",
    "model = LinearRegression()\n",
    "\n",
    "# Train the model using the training data\n",
    "model.fit(X_train, y_train)\n",
    "\n",
    "# Make predictions using the test data\n",
    "predictions = model.predict(X_test)\n"
   ]
  },
  {
   "cell_type": "code",
   "execution_count": null,
   "metadata": {},
   "outputs": [
    {
     "data": {
      "text/plain": [
       "array([1.69022621, 1.65535359, 1.60681243, 1.62967393, 1.75677081,\n",
       "       1.56936932, 1.69010935, 1.66285867, 1.63909509, 1.61540564,\n",
       "       1.66276144, 1.64814252, 1.67189944, 1.66152508, 1.74378903,\n",
       "       1.63963307, 1.73374293, 1.69373171, 1.65290981, 1.64781535,\n",
       "       1.63474427, 1.7448514 , 1.67811149, 1.69420615, 1.69980748,\n",
       "       1.69085175, 1.64875486, 1.77363913, 1.67916223, 1.61624324,\n",
       "       1.66276144, 1.70853573, 1.73416946, 1.63794013, 1.73876425,\n",
       "       1.66701179, 1.6752683 , 1.73376274, 1.77036139, 1.59785878,\n",
       "       1.68140524, 1.69542504, 1.66285867, 1.62751382, 1.66282746,\n",
       "       1.65511948, 1.6451496 , 1.66815422, 1.62628864, 1.63482729,\n",
       "       1.66206391, 1.68800314, 1.73008335, 1.74280751, 1.66240106,\n",
       "       1.63209918, 1.65200938, 1.64624895, 1.68463217, 1.76769559,\n",
       "       1.72447911, 1.76685194, 1.71969901, 1.70091827, 1.65356289,\n",
       "       1.70464968, 1.64063928, 1.63979806, 1.63669625, 1.60190631,\n",
       "       1.64988363, 1.81831395, 1.67746524, 1.662742  , 1.79036878,\n",
       "       1.69154596, 1.62559386, 1.567403  , 1.68469088, 1.65238719,\n",
       "       1.61114549, 1.63080687, 1.6607833 , 1.69092438, 1.65531201,\n",
       "       1.61829529, 1.60836073, 1.72331298, 1.76065932, 1.74164033,\n",
       "       1.63363873, 1.6803813 , 1.69232424, 1.61745077, 1.80700865,\n",
       "       1.59707312, 1.67897181, 1.77050259, 1.72421041, 1.60648465,\n",
       "       1.648578  , 1.61646437, 1.62479569, 1.72312265, 1.68402822,\n",
       "       1.64515781, 1.71929993, 1.59898699, 1.66009662, 1.67096793,\n",
       "       1.59809876, 1.66123085, 1.59999503, 1.65522122, 1.68648438,\n",
       "       1.68556277, 1.62205598, 1.63037873, 1.67374471, 1.70328869,\n",
       "       1.69197083, 1.6031364 , 1.64658752, 1.66368939, 1.67754949,\n",
       "       1.55335098, 1.78837072, 1.65747155, 1.76038307, 1.80763831,\n",
       "       1.64085314, 1.66444165, 1.66788688, 1.67453634, 1.68070813,\n",
       "       1.70316644, 1.69260773, 1.64980652, 1.59731141, 1.60766764,\n",
       "       1.64268509, 1.59527581, 1.66528532, 1.68205421, 1.73729098,\n",
       "       1.65176496, 1.76557111, 1.59816274, 1.6588352 , 1.65251125,\n",
       "       1.67422145, 1.71958166, 1.60705242, 1.60759389, 1.64990889,\n",
       "       1.6551002 , 1.68800305, 1.66162146, 1.55392414, 1.67458237,\n",
       "       1.63922466, 1.73086212, 1.66467536, 1.63999283, 1.66134337,\n",
       "       1.67483835, 1.76880907, 1.72435917, 1.69169024, 1.63574976,\n",
       "       1.63305233, 1.6165675 , 1.78545821, 1.7800668 , 1.64975972,\n",
       "       1.71426685, 1.60047912, 1.71678631, 1.63185775, 1.69313633,\n",
       "       1.67177476, 1.64493572, 1.74420636, 1.7330099 , 1.71975003,\n",
       "       1.69546062, 1.75618601, 1.64065326, 1.71548792, 1.62021507,\n",
       "       1.635403  , 1.67872481, 1.6695484 , 1.64723178, 1.68212319,\n",
       "       1.66494915, 1.76749155, 1.66596643, 1.60914292, 1.67746212,\n",
       "       1.64269198, 1.78440033, 1.66444774, 1.67528606, 1.66564325,\n",
       "       1.67164568, 1.63636008, 1.59037935, 1.64248307, 1.67470043,\n",
       "       1.60671071, 1.67233318, 1.6686344 , 1.63538157, 1.69348317,\n",
       "       1.76005813, 1.80215683, 1.65108198, 1.60734455, 1.61286552,\n",
       "       1.62755025, 1.64262487, 1.67750823, 1.73067223, 1.6664016 ,\n",
       "       1.62504254, 1.65561509, 1.70176467, 1.69831297, 1.80476708,\n",
       "       1.64269666, 1.6984777 , 1.66826481, 1.69737453, 1.71638376])"
      ]
     },
     "execution_count": 308,
     "metadata": {},
     "output_type": "execute_result"
    }
   ],
   "source": [
    "predictions"
   ]
  },
  {
   "cell_type": "code",
   "execution_count": null,
   "metadata": {},
   "outputs": [
    {
     "name": "stdout",
     "output_type": "stream",
     "text": [
      "[ 3.79017078e-02 -8.97059533e-10  3.20909342e-09  1.15418110e-03\n",
      "  2.74040111e-03]\n",
      "1.4503479282114609\n"
     ]
    }
   ],
   "source": [
    "# Print the model's coefficients and intercept\n",
    "print(model.coef_)\n",
    "print(model.intercept_)"
   ]
  },
  {
   "cell_type": "code",
   "execution_count": 310,
   "metadata": {},
   "outputs": [
    {
     "name": "stdout",
     "output_type": "stream",
     "text": [
      "MSE: 0.20766994148339865\n",
      "R²: 0.013346797444941494\n",
      "MAE: 0.3795685282144157\n"
     ]
    }
   ],
   "source": [
    "from sklearn.metrics import mean_squared_error\n",
    "\n",
    "# Compute the MSE for the model's predictions on the test set\n",
    "mse = mean_squared_error(y_test, predictions)\n",
    "print(f\"MSE: {mse}\")\n",
    "\n",
    "from sklearn.metrics import r2_score\n",
    "\n",
    "# Compute the R-squared for the model's predictions on the test set\n",
    "r2 = r2_score(y_test, predictions)\n",
    "print(f\"R²: {r2}\") # --> fit helemaal niet goed!\n",
    "\n",
    "from sklearn.metrics import mean_absolute_error\n",
    "\n",
    "# Compute the MAE for the model's predictions on the test set\n",
    "mae = mean_absolute_error(y_test, predictions)\n",
    "print(f\"MAE: {mae}\")"
   ]
  },
  {
   "attachments": {},
   "cell_type": "markdown",
   "metadata": {},
   "source": [
    "# Decision Tree Regression"
   ]
  },
  {
   "cell_type": "code",
   "execution_count": 311,
   "metadata": {},
   "outputs": [],
   "source": [
    "from sklearn.tree import DecisionTreeRegressor\n",
    "\n",
    "# Create the model\n",
    "model = DecisionTreeRegressor()\n",
    "\n",
    "# Train the model using the training data\n",
    "model.fit(X_train, y_train)\n",
    "\n",
    "# Make predictions using the test data\n",
    "predictions = model.predict(X_test)\n"
   ]
  },
  {
   "cell_type": "code",
   "execution_count": 312,
   "metadata": {},
   "outputs": [
    {
     "name": "stdout",
     "output_type": "stream",
     "text": [
      "MSE: 0.4071791462548239\n",
      "R²: -0.9345342219305841\n",
      "MAE: 0.5266606386979588\n"
     ]
    }
   ],
   "source": [
    "from sklearn.metrics import mean_squared_error\n",
    "\n",
    "# Compute the MSE for the model's predictions on the test set\n",
    "mse = mean_squared_error(y_test, predictions)\n",
    "print(f\"MSE: {mse}\")\n",
    "\n",
    "from sklearn.metrics import r2_score\n",
    "\n",
    "# Compute the R-squared for the model's predictions on the test set\n",
    "r2 = r2_score(y_test, predictions)\n",
    "print(f\"R²: {r2}\") # --> fit beter dan lineaire\n",
    "\n",
    "from sklearn.metrics import mean_absolute_error\n",
    "\n",
    "# Compute the MAE for the model's predictions on the test set\n",
    "mae = mean_absolute_error(y_test, predictions)\n",
    "print(f\"MAE: {mae}\")"
   ]
  }
 ],
 "metadata": {
  "kernelspec": {
   "display_name": "Python 3.10.4 64-bit",
   "language": "python",
   "name": "python3"
  },
  "language_info": {
   "codemirror_mode": {
    "name": "ipython",
    "version": 3
   },
   "file_extension": ".py",
   "mimetype": "text/x-python",
   "name": "python",
   "nbconvert_exporter": "python",
   "pygments_lexer": "ipython3",
   "version": "3.10.4"
  },
  "orig_nbformat": 4,
  "vscode": {
   "interpreter": {
    "hash": "2826aba1e6a86f4d43162759cc60d91502a916d32d010281a6416e3f3957e99a"
   }
  }
 },
 "nbformat": 4,
 "nbformat_minor": 2
}
