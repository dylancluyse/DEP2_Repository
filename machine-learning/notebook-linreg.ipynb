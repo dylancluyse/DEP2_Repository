{
 "cells": [
  {
   "cell_type": "markdown",
   "metadata": {},
   "source": [
    "Data ophalen. Dit is een aangepaste view."
   ]
  },
  {
   "cell_type": "code",
   "execution_count": 129,
   "metadata": {},
   "outputs": [],
   "source": [
    "from pymysql import Connect\n",
    "import pandas as pd\n",
    "import pyodbc, psycopg2\n",
    "\n",
    "db_conn = psycopg2.connect(database=\"depdatabase\", user=\"postgres\", password=\"DaddySzymon123\", host=\"vichogent.be\", port=\"40033\")\n",
    "\n",
    "cursor = db_conn.cursor()\n",
    "\n",
    "cursor.execute(f\"\"\"\n",
    "        select * from view_machine_learning_data\n",
    "\"\"\")\n",
    "\n",
    "df = pd.DataFrame(cursor.fetchall(), columns=['ondernemingsnummer', 'urban','balanstotaal','omzet', 'personeelsbestanden', 'foundingdate', 'environment','social','governance', 'general'])"
   ]
  },
  {
   "cell_type": "code",
   "execution_count": 130,
   "metadata": {},
   "outputs": [
    {
     "data": {
      "text/html": [
       "<div>\n",
       "<style scoped>\n",
       "    .dataframe tbody tr th:only-of-type {\n",
       "        vertical-align: middle;\n",
       "    }\n",
       "\n",
       "    .dataframe tbody tr th {\n",
       "        vertical-align: top;\n",
       "    }\n",
       "\n",
       "    .dataframe thead th {\n",
       "        text-align: right;\n",
       "    }\n",
       "</style>\n",
       "<table border=\"1\" class=\"dataframe\">\n",
       "  <thead>\n",
       "    <tr style=\"text-align: right;\">\n",
       "      <th></th>\n",
       "      <th>ondernemingsnummer</th>\n",
       "      <th>urban</th>\n",
       "      <th>balanstotaal</th>\n",
       "      <th>omzet</th>\n",
       "      <th>personeelsbestanden</th>\n",
       "      <th>foundingdate</th>\n",
       "      <th>environment</th>\n",
       "      <th>social</th>\n",
       "      <th>governance</th>\n",
       "      <th>general</th>\n",
       "    </tr>\n",
       "  </thead>\n",
       "  <tbody>\n",
       "    <tr>\n",
       "      <th>0</th>\n",
       "      <td>410917437</td>\n",
       "      <td>0.0</td>\n",
       "      <td>None</td>\n",
       "      <td>None</td>\n",
       "      <td>NaN</td>\n",
       "      <td>1961-03-30</td>\n",
       "      <td>0.0</td>\n",
       "      <td>0.018586</td>\n",
       "      <td>0.029217</td>\n",
       "      <td>0.015934</td>\n",
       "    </tr>\n",
       "    <tr>\n",
       "      <th>1</th>\n",
       "      <td>461056836</td>\n",
       "      <td>1.875</td>\n",
       "      <td>2805793.44</td>\n",
       "      <td>0</td>\n",
       "      <td>10.0</td>\n",
       "      <td>1997-07-07</td>\n",
       "      <td>0.0</td>\n",
       "      <td>0.000000</td>\n",
       "      <td>0.710802</td>\n",
       "      <td>0.236934</td>\n",
       "    </tr>\n",
       "    <tr>\n",
       "      <th>2</th>\n",
       "      <td>219395192</td>\n",
       "      <td>0.8490566037735849</td>\n",
       "      <td>None</td>\n",
       "      <td>None</td>\n",
       "      <td>NaN</td>\n",
       "      <td>1979-02-13</td>\n",
       "      <td>0.0</td>\n",
       "      <td>0.000000</td>\n",
       "      <td>0.633410</td>\n",
       "      <td>0.211137</td>\n",
       "    </tr>\n",
       "    <tr>\n",
       "      <th>3</th>\n",
       "      <td>447763183</td>\n",
       "      <td>1.4137931034482758</td>\n",
       "      <td>478133071.39</td>\n",
       "      <td>2438500.28</td>\n",
       "      <td>10.0</td>\n",
       "      <td>1992-06-30</td>\n",
       "      <td>0.0</td>\n",
       "      <td>0.000000</td>\n",
       "      <td>0.715486</td>\n",
       "      <td>0.238495</td>\n",
       "    </tr>\n",
       "    <tr>\n",
       "      <th>4</th>\n",
       "      <td>432406994</td>\n",
       "      <td>0.6572222</td>\n",
       "      <td>39999869.6</td>\n",
       "      <td>65496051.3</td>\n",
       "      <td>45.0</td>\n",
       "      <td>1987-11-10</td>\n",
       "      <td>0.0</td>\n",
       "      <td>0.000000</td>\n",
       "      <td>0.795257</td>\n",
       "      <td>0.265086</td>\n",
       "    </tr>\n",
       "  </tbody>\n",
       "</table>\n",
       "</div>"
      ],
      "text/plain": [
       "   ondernemingsnummer               urban  balanstotaal       omzet  \\\n",
       "0           410917437                 0.0          None        None   \n",
       "1           461056836               1.875    2805793.44           0   \n",
       "2           219395192  0.8490566037735849          None        None   \n",
       "3           447763183  1.4137931034482758  478133071.39  2438500.28   \n",
       "4           432406994           0.6572222    39999869.6  65496051.3   \n",
       "\n",
       "   personeelsbestanden foundingdate  environment    social  governance  \\\n",
       "0                  NaN   1961-03-30          0.0  0.018586    0.029217   \n",
       "1                 10.0   1997-07-07          0.0  0.000000    0.710802   \n",
       "2                  NaN   1979-02-13          0.0  0.000000    0.633410   \n",
       "3                 10.0   1992-06-30          0.0  0.000000    0.715486   \n",
       "4                 45.0   1987-11-10          0.0  0.000000    0.795257   \n",
       "\n",
       "    general  \n",
       "0  0.015934  \n",
       "1  0.236934  \n",
       "2  0.211137  \n",
       "3  0.238495  \n",
       "4  0.265086  "
      ]
     },
     "execution_count": 130,
     "metadata": {},
     "output_type": "execute_result"
    }
   ],
   "source": [
    "df.head()"
   ]
  },
  {
   "cell_type": "markdown",
   "metadata": {},
   "source": [
    "Null-waarden droppen"
   ]
  },
  {
   "cell_type": "code",
   "execution_count": 131,
   "metadata": {},
   "outputs": [],
   "source": [
    "df = df.dropna()"
   ]
  },
  {
   "cell_type": "code",
   "execution_count": 132,
   "metadata": {},
   "outputs": [
    {
     "data": {
      "text/plain": [
       "8678"
      ]
     },
     "execution_count": 132,
     "metadata": {},
     "output_type": "execute_result"
    }
   ],
   "source": [
    "len(df)"
   ]
  },
  {
   "cell_type": "code",
   "execution_count": 133,
   "metadata": {},
   "outputs": [
    {
     "data": {
      "text/html": [
       "<div>\n",
       "<style scoped>\n",
       "    .dataframe tbody tr th:only-of-type {\n",
       "        vertical-align: middle;\n",
       "    }\n",
       "\n",
       "    .dataframe tbody tr th {\n",
       "        vertical-align: top;\n",
       "    }\n",
       "\n",
       "    .dataframe thead th {\n",
       "        text-align: right;\n",
       "    }\n",
       "</style>\n",
       "<table border=\"1\" class=\"dataframe\">\n",
       "  <thead>\n",
       "    <tr style=\"text-align: right;\">\n",
       "      <th></th>\n",
       "      <th>ondernemingsnummer</th>\n",
       "      <th>urban</th>\n",
       "      <th>balanstotaal</th>\n",
       "      <th>omzet</th>\n",
       "      <th>personeelsbestanden</th>\n",
       "      <th>foundingdate</th>\n",
       "      <th>environment</th>\n",
       "      <th>social</th>\n",
       "      <th>governance</th>\n",
       "      <th>general</th>\n",
       "    </tr>\n",
       "  </thead>\n",
       "  <tbody>\n",
       "    <tr>\n",
       "      <th>1</th>\n",
       "      <td>461056836</td>\n",
       "      <td>1.875</td>\n",
       "      <td>2805793.44</td>\n",
       "      <td>0</td>\n",
       "      <td>10.0</td>\n",
       "      <td>1997-07-07</td>\n",
       "      <td>0.0</td>\n",
       "      <td>0.000000</td>\n",
       "      <td>0.710802</td>\n",
       "      <td>0.236934</td>\n",
       "    </tr>\n",
       "    <tr>\n",
       "      <th>3</th>\n",
       "      <td>447763183</td>\n",
       "      <td>1.4137931034482758</td>\n",
       "      <td>478133071.39</td>\n",
       "      <td>2438500.28</td>\n",
       "      <td>10.0</td>\n",
       "      <td>1992-06-30</td>\n",
       "      <td>0.0</td>\n",
       "      <td>0.000000</td>\n",
       "      <td>0.715486</td>\n",
       "      <td>0.238495</td>\n",
       "    </tr>\n",
       "    <tr>\n",
       "      <th>4</th>\n",
       "      <td>432406994</td>\n",
       "      <td>0.6572222</td>\n",
       "      <td>39999869.6</td>\n",
       "      <td>65496051.3</td>\n",
       "      <td>45.0</td>\n",
       "      <td>1987-11-10</td>\n",
       "      <td>0.0</td>\n",
       "      <td>0.000000</td>\n",
       "      <td>0.795257</td>\n",
       "      <td>0.265086</td>\n",
       "    </tr>\n",
       "    <tr>\n",
       "      <th>5</th>\n",
       "      <td>417609051</td>\n",
       "      <td>0.7692307692307693</td>\n",
       "      <td>26922177.69</td>\n",
       "      <td>50191983.53</td>\n",
       "      <td>66.0</td>\n",
       "      <td>1977-10-13</td>\n",
       "      <td>0.0</td>\n",
       "      <td>0.018586</td>\n",
       "      <td>0.000000</td>\n",
       "      <td>0.006195</td>\n",
       "    </tr>\n",
       "    <tr>\n",
       "      <th>6</th>\n",
       "      <td>432893182</td>\n",
       "      <td>0.2121212121212121</td>\n",
       "      <td>25955521</td>\n",
       "      <td>43827278</td>\n",
       "      <td>18.0</td>\n",
       "      <td>1988-01-04</td>\n",
       "      <td>0.0</td>\n",
       "      <td>0.000000</td>\n",
       "      <td>0.044086</td>\n",
       "      <td>0.014695</td>\n",
       "    </tr>\n",
       "  </tbody>\n",
       "</table>\n",
       "</div>"
      ],
      "text/plain": [
       "   ondernemingsnummer               urban  balanstotaal        omzet  \\\n",
       "1           461056836               1.875    2805793.44            0   \n",
       "3           447763183  1.4137931034482758  478133071.39   2438500.28   \n",
       "4           432406994           0.6572222    39999869.6   65496051.3   \n",
       "5           417609051  0.7692307692307693   26922177.69  50191983.53   \n",
       "6           432893182  0.2121212121212121      25955521     43827278   \n",
       "\n",
       "   personeelsbestanden foundingdate  environment    social  governance  \\\n",
       "1                 10.0   1997-07-07          0.0  0.000000    0.710802   \n",
       "3                 10.0   1992-06-30          0.0  0.000000    0.715486   \n",
       "4                 45.0   1987-11-10          0.0  0.000000    0.795257   \n",
       "5                 66.0   1977-10-13          0.0  0.018586    0.000000   \n",
       "6                 18.0   1988-01-04          0.0  0.000000    0.044086   \n",
       "\n",
       "    general  \n",
       "1  0.236934  \n",
       "3  0.238495  \n",
       "4  0.265086  \n",
       "5  0.006195  \n",
       "6  0.014695  "
      ]
     },
     "execution_count": 133,
     "metadata": {},
     "output_type": "execute_result"
    }
   ],
   "source": [
    "df.head()"
   ]
  },
  {
   "cell_type": "markdown",
   "metadata": {},
   "source": [
    "Omzetten naar de gepaste datatypes:"
   ]
  },
  {
   "cell_type": "code",
   "execution_count": 134,
   "metadata": {},
   "outputs": [],
   "source": [
    "df['omzet'] = df['omzet'].astype('int64')\n",
    "df['balanstotaal'] = df['balanstotaal'].astype('int64')\n",
    "df['personeelsbestanden'] = df['personeelsbestanden'].astype('int64')\n",
    "df['urban'] = df['urban'].astype('float64')\n",
    "df['foundingdate'] = (pd.Timestamp.now() - pd.to_datetime(df['foundingdate'], format=\"%Y-%m-%d\")).dt.days / 365\n",
    "df['environment'] = df['environment'].astype('float64')\n",
    "df['social'] = df['social'].astype('float64')\n",
    "df['governance'] = df['governance'].astype('float64')\n",
    "df['general'] = df['general'].astype('float64')"
   ]
  },
  {
   "cell_type": "code",
   "execution_count": 135,
   "metadata": {},
   "outputs": [],
   "source": [
    "df['environment'] = df['environment'] * 100\n",
    "df['social'] = df['social'] * 100\n",
    "df['governance'] = df['governance'] * 100\n",
    "df['general'] = df['general'] * 100"
   ]
  },
  {
   "cell_type": "code",
   "execution_count": 136,
   "metadata": {},
   "outputs": [
    {
     "data": {
      "text/plain": [
       "ondernemingsnummer       int64\n",
       "urban                  float64\n",
       "balanstotaal             int64\n",
       "omzet                    int64\n",
       "personeelsbestanden      int64\n",
       "foundingdate           float64\n",
       "environment            float64\n",
       "social                 float64\n",
       "governance             float64\n",
       "general                float64\n",
       "dtype: object"
      ]
     },
     "execution_count": 136,
     "metadata": {},
     "output_type": "execute_result"
    }
   ],
   "source": [
    "df.dtypes"
   ]
  },
  {
   "cell_type": "markdown",
   "metadata": {},
   "source": [
    "Outliers verwijderen"
   ]
  },
  {
   "cell_type": "code",
   "execution_count": 137,
   "metadata": {},
   "outputs": [
    {
     "data": {
      "text/plain": [
       "8678"
      ]
     },
     "execution_count": 137,
     "metadata": {},
     "output_type": "execute_result"
    }
   ],
   "source": [
    "len(df)"
   ]
  },
  {
   "cell_type": "code",
   "execution_count": 138,
   "metadata": {},
   "outputs": [
    {
     "name": "stdout",
     "output_type": "stream",
     "text": [
      "capping ondernemingsnummer\n",
      "capping urban\n",
      "capping balanstotaal\n",
      "capping omzet\n",
      "capping personeelsbestanden\n",
      "capping foundingdate\n",
      "capping environment\n",
      "capping social\n",
      "capping governance\n",
      "capping general\n"
     ]
    },
    {
     "name": "stderr",
     "output_type": "stream",
     "text": [
      "C:\\Users\\Dylan\\AppData\\Local\\Temp\\ipykernel_15652\\4078108386.py:7: SettingWithCopyWarning: \n",
      "A value is trying to be set on a copy of a slice from a DataFrame\n",
      "\n",
      "See the caveats in the documentation: https://pandas.pydata.org/pandas-docs/stable/user_guide/indexing.html#returning-a-view-versus-a-copy\n",
      "  df[col][df[col] <= percentiles[0]] = percentiles[0]\n",
      "C:\\Users\\Dylan\\AppData\\Local\\Temp\\ipykernel_15652\\4078108386.py:7: SettingWithCopyWarning: \n",
      "A value is trying to be set on a copy of a slice from a DataFrame\n",
      "\n",
      "See the caveats in the documentation: https://pandas.pydata.org/pandas-docs/stable/user_guide/indexing.html#returning-a-view-versus-a-copy\n",
      "  df[col][df[col] <= percentiles[0]] = percentiles[0]\n",
      "C:\\Users\\Dylan\\AppData\\Local\\Temp\\ipykernel_15652\\4078108386.py:8: SettingWithCopyWarning: \n",
      "A value is trying to be set on a copy of a slice from a DataFrame\n",
      "\n",
      "See the caveats in the documentation: https://pandas.pydata.org/pandas-docs/stable/user_guide/indexing.html#returning-a-view-versus-a-copy\n",
      "  df[col][df[col] >= percentiles[1]] = percentiles[1]\n",
      "C:\\Users\\Dylan\\AppData\\Local\\Temp\\ipykernel_15652\\4078108386.py:7: SettingWithCopyWarning: \n",
      "A value is trying to be set on a copy of a slice from a DataFrame\n",
      "\n",
      "See the caveats in the documentation: https://pandas.pydata.org/pandas-docs/stable/user_guide/indexing.html#returning-a-view-versus-a-copy\n",
      "  df[col][df[col] <= percentiles[0]] = percentiles[0]\n",
      "C:\\Users\\Dylan\\AppData\\Local\\Temp\\ipykernel_15652\\4078108386.py:8: SettingWithCopyWarning: \n",
      "A value is trying to be set on a copy of a slice from a DataFrame\n",
      "\n",
      "See the caveats in the documentation: https://pandas.pydata.org/pandas-docs/stable/user_guide/indexing.html#returning-a-view-versus-a-copy\n",
      "  df[col][df[col] >= percentiles[1]] = percentiles[1]\n",
      "C:\\Users\\Dylan\\AppData\\Local\\Temp\\ipykernel_15652\\4078108386.py:7: SettingWithCopyWarning: \n",
      "A value is trying to be set on a copy of a slice from a DataFrame\n",
      "\n",
      "See the caveats in the documentation: https://pandas.pydata.org/pandas-docs/stable/user_guide/indexing.html#returning-a-view-versus-a-copy\n",
      "  df[col][df[col] <= percentiles[0]] = percentiles[0]\n",
      "C:\\Users\\Dylan\\AppData\\Local\\Temp\\ipykernel_15652\\4078108386.py:8: SettingWithCopyWarning: \n",
      "A value is trying to be set on a copy of a slice from a DataFrame\n",
      "\n",
      "See the caveats in the documentation: https://pandas.pydata.org/pandas-docs/stable/user_guide/indexing.html#returning-a-view-versus-a-copy\n",
      "  df[col][df[col] >= percentiles[1]] = percentiles[1]\n",
      "C:\\Users\\Dylan\\AppData\\Local\\Temp\\ipykernel_15652\\4078108386.py:7: SettingWithCopyWarning: \n",
      "A value is trying to be set on a copy of a slice from a DataFrame\n",
      "\n",
      "See the caveats in the documentation: https://pandas.pydata.org/pandas-docs/stable/user_guide/indexing.html#returning-a-view-versus-a-copy\n",
      "  df[col][df[col] <= percentiles[0]] = percentiles[0]\n",
      "C:\\Users\\Dylan\\AppData\\Local\\Temp\\ipykernel_15652\\4078108386.py:8: SettingWithCopyWarning: \n",
      "A value is trying to be set on a copy of a slice from a DataFrame\n",
      "\n",
      "See the caveats in the documentation: https://pandas.pydata.org/pandas-docs/stable/user_guide/indexing.html#returning-a-view-versus-a-copy\n",
      "  df[col][df[col] >= percentiles[1]] = percentiles[1]\n",
      "C:\\Users\\Dylan\\AppData\\Local\\Temp\\ipykernel_15652\\4078108386.py:7: SettingWithCopyWarning: \n",
      "A value is trying to be set on a copy of a slice from a DataFrame\n",
      "\n",
      "See the caveats in the documentation: https://pandas.pydata.org/pandas-docs/stable/user_guide/indexing.html#returning-a-view-versus-a-copy\n",
      "  df[col][df[col] <= percentiles[0]] = percentiles[0]\n",
      "C:\\Users\\Dylan\\AppData\\Local\\Temp\\ipykernel_15652\\4078108386.py:8: SettingWithCopyWarning: \n",
      "A value is trying to be set on a copy of a slice from a DataFrame\n",
      "\n",
      "See the caveats in the documentation: https://pandas.pydata.org/pandas-docs/stable/user_guide/indexing.html#returning-a-view-versus-a-copy\n",
      "  df[col][df[col] >= percentiles[1]] = percentiles[1]\n",
      "C:\\Users\\Dylan\\AppData\\Local\\Temp\\ipykernel_15652\\4078108386.py:7: SettingWithCopyWarning: \n",
      "A value is trying to be set on a copy of a slice from a DataFrame\n",
      "\n",
      "See the caveats in the documentation: https://pandas.pydata.org/pandas-docs/stable/user_guide/indexing.html#returning-a-view-versus-a-copy\n",
      "  df[col][df[col] <= percentiles[0]] = percentiles[0]\n",
      "C:\\Users\\Dylan\\AppData\\Local\\Temp\\ipykernel_15652\\4078108386.py:8: SettingWithCopyWarning: \n",
      "A value is trying to be set on a copy of a slice from a DataFrame\n",
      "\n",
      "See the caveats in the documentation: https://pandas.pydata.org/pandas-docs/stable/user_guide/indexing.html#returning-a-view-versus-a-copy\n",
      "  df[col][df[col] >= percentiles[1]] = percentiles[1]\n",
      "C:\\Users\\Dylan\\AppData\\Local\\Temp\\ipykernel_15652\\4078108386.py:7: SettingWithCopyWarning: \n",
      "A value is trying to be set on a copy of a slice from a DataFrame\n",
      "\n",
      "See the caveats in the documentation: https://pandas.pydata.org/pandas-docs/stable/user_guide/indexing.html#returning-a-view-versus-a-copy\n",
      "  df[col][df[col] <= percentiles[0]] = percentiles[0]\n",
      "C:\\Users\\Dylan\\AppData\\Local\\Temp\\ipykernel_15652\\4078108386.py:8: SettingWithCopyWarning: \n",
      "A value is trying to be set on a copy of a slice from a DataFrame\n",
      "\n",
      "See the caveats in the documentation: https://pandas.pydata.org/pandas-docs/stable/user_guide/indexing.html#returning-a-view-versus-a-copy\n",
      "  df[col][df[col] >= percentiles[1]] = percentiles[1]\n",
      "C:\\Users\\Dylan\\AppData\\Local\\Temp\\ipykernel_15652\\4078108386.py:7: SettingWithCopyWarning: \n",
      "A value is trying to be set on a copy of a slice from a DataFrame\n",
      "\n",
      "See the caveats in the documentation: https://pandas.pydata.org/pandas-docs/stable/user_guide/indexing.html#returning-a-view-versus-a-copy\n",
      "  df[col][df[col] <= percentiles[0]] = percentiles[0]\n",
      "C:\\Users\\Dylan\\AppData\\Local\\Temp\\ipykernel_15652\\4078108386.py:8: SettingWithCopyWarning: \n",
      "A value is trying to be set on a copy of a slice from a DataFrame\n",
      "\n",
      "See the caveats in the documentation: https://pandas.pydata.org/pandas-docs/stable/user_guide/indexing.html#returning-a-view-versus-a-copy\n",
      "  df[col][df[col] >= percentiles[1]] = percentiles[1]\n",
      "C:\\Users\\Dylan\\AppData\\Local\\Temp\\ipykernel_15652\\4078108386.py:7: SettingWithCopyWarning: \n",
      "A value is trying to be set on a copy of a slice from a DataFrame\n",
      "\n",
      "See the caveats in the documentation: https://pandas.pydata.org/pandas-docs/stable/user_guide/indexing.html#returning-a-view-versus-a-copy\n",
      "  df[col][df[col] <= percentiles[0]] = percentiles[0]\n",
      "C:\\Users\\Dylan\\AppData\\Local\\Temp\\ipykernel_15652\\4078108386.py:8: SettingWithCopyWarning: \n",
      "A value is trying to be set on a copy of a slice from a DataFrame\n",
      "\n",
      "See the caveats in the documentation: https://pandas.pydata.org/pandas-docs/stable/user_guide/indexing.html#returning-a-view-versus-a-copy\n",
      "  df[col][df[col] >= percentiles[1]] = percentiles[1]\n"
     ]
    }
   ],
   "source": [
    "numerical_ix = df.select_dtypes(include=['int32','int64','float64']).columns\n",
    "\n",
    "for col in numerical_ix:\n",
    "        print(\"capping\",col)\n",
    "        if (((df[col].dtype)=='float64') | ((df[col].dtype)=='int64')):\n",
    "            percentiles = df[col].quantile([0.20,0.80]).values\n",
    "            df[col][df[col] <= percentiles[0]] = percentiles[0]\n",
    "            df[col][df[col] >= percentiles[1]] = percentiles[1]\n",
    "        else:\n",
    "            df[col]=df[col]\n",
    "\n"
   ]
  },
  {
   "cell_type": "markdown",
   "metadata": {},
   "source": [
    "Algemene score toevoegen"
   ]
  },
  {
   "cell_type": "code",
   "execution_count": 139,
   "metadata": {},
   "outputs": [
    {
     "data": {
      "text/html": [
       "<div>\n",
       "<style scoped>\n",
       "    .dataframe tbody tr th:only-of-type {\n",
       "        vertical-align: middle;\n",
       "    }\n",
       "\n",
       "    .dataframe tbody tr th {\n",
       "        vertical-align: top;\n",
       "    }\n",
       "\n",
       "    .dataframe thead th {\n",
       "        text-align: right;\n",
       "    }\n",
       "</style>\n",
       "<table border=\"1\" class=\"dataframe\">\n",
       "  <thead>\n",
       "    <tr style=\"text-align: right;\">\n",
       "      <th></th>\n",
       "      <th>ondernemingsnummer</th>\n",
       "      <th>urban</th>\n",
       "      <th>balanstotaal</th>\n",
       "      <th>omzet</th>\n",
       "      <th>personeelsbestanden</th>\n",
       "      <th>foundingdate</th>\n",
       "      <th>environment</th>\n",
       "      <th>social</th>\n",
       "      <th>governance</th>\n",
       "      <th>general</th>\n",
       "    </tr>\n",
       "  </thead>\n",
       "  <tbody>\n",
       "    <tr>\n",
       "      <th>1</th>\n",
       "      <td>461056836.0</td>\n",
       "      <td>1.443299</td>\n",
       "      <td>2850100.0</td>\n",
       "      <td>0.0</td>\n",
       "      <td>11</td>\n",
       "      <td>25.465753</td>\n",
       "      <td>1.813992</td>\n",
       "      <td>13.262954</td>\n",
       "      <td>71.080217</td>\n",
       "      <td>23.693406</td>\n",
       "    </tr>\n",
       "    <tr>\n",
       "      <th>3</th>\n",
       "      <td>447763183.0</td>\n",
       "      <td>1.413793</td>\n",
       "      <td>14182106.8</td>\n",
       "      <td>2438500.0</td>\n",
       "      <td>11</td>\n",
       "      <td>30.487671</td>\n",
       "      <td>1.813992</td>\n",
       "      <td>13.262954</td>\n",
       "      <td>71.548584</td>\n",
       "      <td>23.849528</td>\n",
       "    </tr>\n",
       "    <tr>\n",
       "      <th>4</th>\n",
       "      <td>432406994.0</td>\n",
       "      <td>0.657222</td>\n",
       "      <td>14182106.8</td>\n",
       "      <td>17442096.6</td>\n",
       "      <td>43</td>\n",
       "      <td>35.128767</td>\n",
       "      <td>1.813992</td>\n",
       "      <td>13.262954</td>\n",
       "      <td>79.525686</td>\n",
       "      <td>26.508562</td>\n",
       "    </tr>\n",
       "    <tr>\n",
       "      <th>5</th>\n",
       "      <td>417691699.2</td>\n",
       "      <td>0.769231</td>\n",
       "      <td>14182106.8</td>\n",
       "      <td>17442096.6</td>\n",
       "      <td>43</td>\n",
       "      <td>45.098082</td>\n",
       "      <td>1.813992</td>\n",
       "      <td>13.262954</td>\n",
       "      <td>19.656531</td>\n",
       "      <td>16.722425</td>\n",
       "    </tr>\n",
       "    <tr>\n",
       "      <th>6</th>\n",
       "      <td>432893182.0</td>\n",
       "      <td>0.514286</td>\n",
       "      <td>14182106.8</td>\n",
       "      <td>17442096.6</td>\n",
       "      <td>18</td>\n",
       "      <td>34.978082</td>\n",
       "      <td>1.813992</td>\n",
       "      <td>13.262954</td>\n",
       "      <td>19.656531</td>\n",
       "      <td>16.722425</td>\n",
       "    </tr>\n",
       "  </tbody>\n",
       "</table>\n",
       "</div>"
      ],
      "text/plain": [
       "   ondernemingsnummer     urban  balanstotaal       omzet  \\\n",
       "1         461056836.0  1.443299     2850100.0         0.0   \n",
       "3         447763183.0  1.413793    14182106.8   2438500.0   \n",
       "4         432406994.0  0.657222    14182106.8  17442096.6   \n",
       "5         417691699.2  0.769231    14182106.8  17442096.6   \n",
       "6         432893182.0  0.514286    14182106.8  17442096.6   \n",
       "\n",
       "   personeelsbestanden  foundingdate  environment     social  governance  \\\n",
       "1                   11     25.465753     1.813992  13.262954   71.080217   \n",
       "3                   11     30.487671     1.813992  13.262954   71.548584   \n",
       "4                   43     35.128767     1.813992  13.262954   79.525686   \n",
       "5                   43     45.098082     1.813992  13.262954   19.656531   \n",
       "6                   18     34.978082     1.813992  13.262954   19.656531   \n",
       "\n",
       "     general  \n",
       "1  23.693406  \n",
       "3  23.849528  \n",
       "4  26.508562  \n",
       "5  16.722425  \n",
       "6  16.722425  "
      ]
     },
     "execution_count": 139,
     "metadata": {},
     "output_type": "execute_result"
    }
   ],
   "source": [
    "df.head()"
   ]
  },
  {
   "cell_type": "code",
   "execution_count": 140,
   "metadata": {},
   "outputs": [
    {
     "data": {
      "text/plain": [
       "8678"
      ]
     },
     "execution_count": 140,
     "metadata": {},
     "output_type": "execute_result"
    }
   ],
   "source": [
    "len(df)"
   ]
  },
  {
   "cell_type": "code",
   "execution_count": 141,
   "metadata": {},
   "outputs": [
    {
     "data": {
      "text/plain": [
       "<AxesSubplot:xlabel='balanstotaal'>"
      ]
     },
     "execution_count": 141,
     "metadata": {},
     "output_type": "execute_result"
    },
    {
     "data": {
      "image/png": "[encoded data removed]",
      "text/plain": [
       "<Figure size 640x480 with 1 Axes>"
      ]
     },
     "metadata": {},
     "output_type": "display_data"
    }
   ],
   "source": [
    "import seaborn as sns\n",
    "sns.boxplot(data=df, x='balanstotaal')"
   ]
  },
  {
   "cell_type": "code",
   "execution_count": 142,
   "metadata": {},
   "outputs": [
    {
     "data": {
      "text/plain": [
       "<AxesSubplot:xlabel='omzet'>"
      ]
     },
     "execution_count": 142,
     "metadata": {},
     "output_type": "execute_result"
    },
    {
     "data": {
      "image/png": "[encoded data removed]",
      "text/plain": [
       "<Figure size 640x480 with 1 Axes>"
      ]
     },
     "metadata": {},
     "output_type": "display_data"
    }
   ],
   "source": [
    "sns.boxplot(data=df, x='omzet')"
   ]
  },
  {
   "cell_type": "code",
   "execution_count": 143,
   "metadata": {},
   "outputs": [
    {
     "data": {
      "text/plain": [
       "<AxesSubplot:xlabel='personeelsbestanden'>"
      ]
     },
     "execution_count": 143,
     "metadata": {},
     "output_type": "execute_result"
    },
    {
     "data": {
      "image/png": "[encoded data removed]",
      "text/plain": [
       "<Figure size 640x480 with 1 Axes>"
      ]
     },
     "metadata": {},
     "output_type": "display_data"
    }
   ],
   "source": [
    "sns.boxplot(data=df, x='personeelsbestanden')"
   ]
  },
  {
   "cell_type": "code",
   "execution_count": 161,
   "metadata": {},
   "outputs": [],
   "source": [
    "X = df.drop(['general', 'environment','social','governance', 'ondernemingsnummer'], axis=1)\n",
    "y = df['general']\n",
    "\n",
    "from sklearn.model_selection import train_test_split\n",
    "X_train,X_test,y_train,y_test = train_test_split(X,y,random_state=42)"
   ]
  },
  {
   "cell_type": "code",
   "execution_count": 162,
   "metadata": {},
   "outputs": [],
   "source": [
    "from sklearn.pipeline import Pipeline\n",
    "from sklearn.preprocessing import MinMaxScaler\n",
    "from sklearn.compose import ColumnTransformer\n",
    "\n",
    "numerical_ix = X.select_dtypes(include=['int32','int64','float64']).columns\n",
    "\n",
    "col_transform = ColumnTransformer(transformers=[\n",
    "    ('minmax',MinMaxScaler(), numerical_ix),\n",
    "])"
   ]
  },
  {
   "attachments": {},
   "cell_type": "markdown",
   "metadata": {},
   "source": [
    "# Data-Analyse"
   ]
  },
  {
   "cell_type": "code",
   "execution_count": 163,
   "metadata": {},
   "outputs": [
    {
     "data": {
      "text/plain": [
       "(38.36, 43.77]                  717\n",
       "(43.77, 49.179]                 620\n",
       "(32.951, 38.36]                 540\n",
       "(65.408, 70.818]                491\n",
       "(49.179, 54.589]                474\n",
       "(16.666999999999998, 22.132]    399\n",
       "(54.589, 59.999]                382\n",
       "(59.999, 65.408]                252\n",
       "(27.541, 32.951]                204\n",
       "(22.132, 27.541]                 83\n",
       "Name: general, dtype: int64"
      ]
     },
     "execution_count": 163,
     "metadata": {},
     "output_type": "execute_result"
    }
   ],
   "source": [
    "df['general'].value_counts(bins=10)"
   ]
  },
  {
   "cell_type": "code",
   "execution_count": 164,
   "metadata": {},
   "outputs": [
    {
     "data": {
      "text/plain": [
       "<AxesSubplot:xlabel='general', ylabel='Count'>"
      ]
     },
     "execution_count": 164,
     "metadata": {},
     "output_type": "execute_result"
    },
    {
     "data": {
      "image/png": "[encoded data removed]",
      "text/plain": [
       "<Figure size 640x480 with 1 Axes>"
      ]
     },
     "metadata": {},
     "output_type": "display_data"
    }
   ],
   "source": [
    "import seaborn as sns\n",
    "sns.histplot(data=df, x='general', bins=10)"
   ]
  },
  {
   "cell_type": "code",
   "execution_count": 165,
   "metadata": {},
   "outputs": [],
   "source": [
    "under_30 = df[df['general'] < 30]\n",
    "under_30 = under_30.sample(n=500)\n",
    "middle = df[(df['general'] >= 30) & (df['general'] <= 65)]\n",
    "above_65 = df[df['general'] > 65]\n",
    "above_65 = above_65.sample(n=500)"
   ]
  },
  {
   "cell_type": "code",
   "execution_count": 166,
   "metadata": {},
   "outputs": [
    {
     "name": "stdout",
     "output_type": "stream",
     "text": [
      "500 3162 500\n"
     ]
    }
   ],
   "source": [
    "print(len(under_30), len(middle), len(above_65))"
   ]
  },
  {
   "cell_type": "code",
   "execution_count": 167,
   "metadata": {},
   "outputs": [],
   "source": [
    "df = pd.concat([under_30, middle, above_65])"
   ]
  },
  {
   "cell_type": "code",
   "execution_count": 168,
   "metadata": {},
   "outputs": [
    {
     "data": {
      "text/plain": [
       "<AxesSubplot:xlabel='general', ylabel='Count'>"
      ]
     },
     "execution_count": 168,
     "metadata": {},
     "output_type": "execute_result"
    },
    {
     "data": {
      "image/png": "[encoded data removed]",
      "text/plain": [
       "<Figure size 640x480 with 1 Axes>"
      ]
     },
     "metadata": {},
     "output_type": "display_data"
    }
   ],
   "source": [
    "sns.histplot(data=df, x='general', bins=10)"
   ]
  },
  {
   "attachments": {},
   "cell_type": "markdown",
   "metadata": {},
   "source": [
    "# Split"
   ]
  },
  {
   "cell_type": "code",
   "execution_count": 169,
   "metadata": {},
   "outputs": [],
   "source": [
    "from sklearn.model_selection import train_test_split\n",
    "X_train, X_test, y_train, y_test = train_test_split(X, y, test_size=0.2)"
   ]
  },
  {
   "attachments": {},
   "cell_type": "markdown",
   "metadata": {},
   "source": [
    "# Lineaire Regressie"
   ]
  },
  {
   "cell_type": "code",
   "execution_count": 170,
   "metadata": {},
   "outputs": [],
   "source": [
    "from sklearn.linear_model import LinearRegression\n",
    "\n",
    "# Create the model\n",
    "model = LinearRegression()\n",
    "\n",
    "# Train the model using the training data\n",
    "model.fit(X_train, y_train)\n",
    "\n",
    "# Make predictions using the test data\n",
    "predictions = model.predict(X_test)"
   ]
  },
  {
   "cell_type": "code",
   "execution_count": 171,
   "metadata": {},
   "outputs": [
    {
     "data": {
      "text/plain": [
       "array([42.2791954 , 45.75386673, 39.62031785, 48.9726605 , 52.53534647,\n",
       "       41.22098287, 51.15131539, 44.017639  , 40.38152592, 51.66061107,\n",
       "       39.73644065, 51.54289836, 43.69236304, 37.85864218, 55.67338132,\n",
       "       46.94208916, 50.12085009, 49.4206451 , 52.30734292, 40.51880711,\n",
       "       41.10342165, 50.45861959, 39.14404524, 45.55116947, 39.03267849,\n",
       "       39.68395999, 38.53511153, 46.27409597, 49.72912141, 45.09504474,\n",
       "       50.42294882, 51.95978349, 40.54305571, 49.58524959, 37.97990918,\n",
       "       46.26922021, 42.63500234, 56.05467454, 47.75114643, 39.77313408,\n",
       "       53.46770891, 42.85188512, 47.34823915, 54.55804691, 44.2722539 ,\n",
       "       51.18534756, 44.46721109, 48.24123444, 55.82360472, 45.72989745,\n",
       "       43.05560071, 40.61174737, 44.21548339, 54.57328689, 40.21144886,\n",
       "       51.77606969, 54.24790385, 53.91014112, 42.43738728, 41.23875537,\n",
       "       49.81534822, 52.19305845, 40.26133768, 41.08507978, 41.78498575,\n",
       "       53.46263312, 39.49434098, 39.13379765, 56.16169079, 38.85476421,\n",
       "       39.66436446, 53.06976221, 37.65043218, 52.10154988, 55.70888217,\n",
       "       41.33273161, 50.29775991, 53.07585359, 42.11133422, 40.01712177,\n",
       "       38.81576308, 44.85876759, 49.41751454, 55.89950431, 39.03229608,\n",
       "       35.8982777 , 42.20823129, 39.93963015, 48.65020219, 56.23095054,\n",
       "       42.90357173, 40.72780005, 42.62176332, 51.63468335, 37.89737504,\n",
       "       52.97654394, 52.04028825, 47.53209029, 55.08031283, 44.71015868,\n",
       "       43.00422165, 39.52409123, 44.54679019, 54.59321621, 40.23481646,\n",
       "       48.62104431, 54.57328689, 53.01826137, 36.83750318, 48.46048508,\n",
       "       44.45089622, 46.10595578, 40.71966631, 42.09925138, 39.35436885,\n",
       "       44.88775441, 42.77538989, 52.4771746 , 52.09182291, 42.8176687 ,\n",
       "       52.47845319, 43.06940964, 46.72357293, 39.81018182, 48.9353553 ,\n",
       "       51.73371897, 44.11961853, 47.2059959 , 40.60896354, 56.23203284,\n",
       "       40.35671372, 40.03891611, 47.7261888 , 49.55623303, 40.59649702,\n",
       "       39.73266035, 38.64272323, 40.6534543 , 53.11048223, 41.06557982,\n",
       "       48.94641754, 39.73455149, 47.6910408 , 54.89080255, 42.50027218,\n",
       "       54.82511288, 43.33710102, 44.7846491 , 52.33490566, 42.77824014,\n",
       "       45.95167034, 40.47818844, 47.64293715, 52.76639364, 44.91098292,\n",
       "       41.07025902, 38.94565804, 44.05653481, 51.54362995, 41.71342324,\n",
       "       52.31371975, 51.57387274, 43.80940849, 40.37794917, 46.15420339,\n",
       "       41.61030765, 47.97513546, 45.58489163, 38.28132779, 40.33113753,\n",
       "       43.119238  , 52.67134512, 44.14038511, 45.72704638, 53.69738546,\n",
       "       42.64289645, 53.8982916 , 52.86482745, 40.20041595, 44.69900409,\n",
       "       44.26405153, 52.8275848 , 48.38263426, 39.78956487, 46.02137397,\n",
       "       50.50031173, 39.7596802 , 45.79710381, 52.89115757, 51.09146602,\n",
       "       39.32836327, 40.89534212, 54.09224921, 46.24481047, 49.4553984 ,\n",
       "       53.42051676, 42.36365244, 52.2759332 , 40.39241444, 42.28877928,\n",
       "       45.28380989, 46.72124348, 53.94916607, 52.90914745, 52.10154988,\n",
       "       41.25341795, 37.88037526, 53.7449631 , 40.01160761, 53.30742533,\n",
       "       39.16634219, 53.71082632, 51.85038609, 40.27047462, 40.42033709,\n",
       "       51.89720785, 52.53656126, 45.95837478, 48.87502858, 47.38038951,\n",
       "       49.8198283 , 39.79967724, 54.95125519, 42.77391149, 48.66161263,\n",
       "       38.79410694, 46.32636743, 48.53465344, 49.52816455, 55.33959027,\n",
       "       37.46124851, 38.031931  , 49.37941874, 52.7131552 , 50.79805636,\n",
       "       40.67378671, 51.54547175, 42.27970613, 38.17929983, 40.72045953,\n",
       "       50.9224458 , 49.71913313, 46.31172212, 45.23054822, 40.80252317,\n",
       "       46.51761887, 54.27166837, 47.65858103, 37.85864218, 42.57659787,\n",
       "       42.16075902, 49.01539758, 43.58533839, 47.11632102, 40.78818464,\n",
       "       53.64286162, 42.11204989, 52.98367739, 40.05277203, 45.56641968,\n",
       "       46.13414089, 53.37403262, 50.53664657, 51.79339657, 47.48534723,\n",
       "       42.76565931, 48.00871678, 52.31563369, 54.78624526, 53.33019746,\n",
       "       54.24625788, 40.77446441, 39.70135806, 50.08019602, 46.95087102,\n",
       "       37.51248171, 47.69929527, 56.23203284, 39.41669472, 50.79441064,\n",
       "       41.9279959 , 36.20388596, 54.40957874, 39.822096  , 42.88669325,\n",
       "       54.27166837, 41.38054078, 54.02113686, 41.33315924, 51.66883922,\n",
       "       44.69313491, 40.24843741, 38.76585732, 45.53701646, 44.13848132,\n",
       "       41.26443912, 49.47308473, 43.47159089, 55.2472442 , 40.68865053,\n",
       "       54.78690582, 43.4131052 , 42.40545256, 51.63119099, 50.45626626,\n",
       "       46.92546635, 42.50047827, 38.04478034, 41.01424265, 47.60739447,\n",
       "       48.19952728, 48.15657445, 48.94990022, 45.21313999, 49.52153262,\n",
       "       50.24959993, 50.05874146, 50.42553569, 40.78975003, 41.25236122,\n",
       "       41.82378478, 36.98593137, 39.3372399 , 42.18161003, 40.89391803,\n",
       "       42.50731589, 39.42330549, 36.6694826 , 50.76036351, 43.47333632,\n",
       "       44.06363658, 49.33933766, 51.37848711, 51.67822494, 54.59321621,\n",
       "       42.28986158, 48.82987226, 53.17350282, 40.02212287, 43.58557429,\n",
       "       51.01316616, 45.72797702, 51.00387019, 40.58811726, 49.45698907,\n",
       "       46.79323828, 40.59800283, 47.44105128, 43.99285505, 39.06334028,\n",
       "       39.90596101, 54.76839079, 45.65441637, 39.38614412, 42.58610402,\n",
       "       36.00878955, 49.85382113, 56.23203284, 41.29494883, 39.80938988,\n",
       "       50.56289321, 52.1963768 , 46.27446201, 47.86350244, 47.08080671,\n",
       "       52.47469306, 39.94683445, 53.25678003, 40.50666755, 50.14118541,\n",
       "       40.34604452, 52.77817246, 38.62886139, 48.0607648 , 40.32456195,\n",
       "       53.18180048, 47.11167895, 43.87544876, 39.01025849, 48.77442554,\n",
       "       42.02809062, 43.17055765, 48.15755971, 54.42275259, 37.77353334,\n",
       "       41.31402436, 43.40526857, 53.66158372, 42.92547388, 39.32717116,\n",
       "       43.81658571, 50.2538944 , 43.5072432 , 40.73386825, 51.06613724,\n",
       "       47.69514214, 41.44006844, 40.32386047, 51.84371189, 52.41346898,\n",
       "       42.58787297, 49.52557279, 45.32518999, 53.37747211, 41.3165534 ,\n",
       "       49.70746313, 41.65599207, 40.12191851, 53.79221204, 39.38882419,\n",
       "       50.50222117, 39.13947598, 47.15303166, 50.14118541, 41.31948939,\n",
       "       48.53671853, 45.25921627, 40.6447199 , 52.50756657, 50.8625189 ,\n",
       "       40.77091508, 48.77311486, 39.32037961, 39.84369137, 39.99822353,\n",
       "       45.4569429 , 45.14936469, 46.907089  , 48.54794335, 40.55694421,\n",
       "       44.24732388, 53.34995683, 38.66153835, 39.12319318, 51.0939974 ,\n",
       "       40.71787526, 40.99925353, 52.37465067, 51.23842054, 46.604648  ,\n",
       "       46.25427154, 47.92745344, 54.71209777, 52.59168068, 39.00803658,\n",
       "       44.98582109, 42.52310551, 48.33534116, 37.74597593, 39.60187931,\n",
       "       43.30816275, 52.25098308, 37.92197552, 37.87046003, 38.26360884,\n",
       "       46.2183126 , 52.16923236, 50.66377674, 44.46699178, 50.34839281,\n",
       "       38.48042887, 45.60648769, 41.83218834, 39.65508516, 41.88921442,\n",
       "       39.11350098, 36.62195676, 55.97654134, 55.95066466, 41.5150961 ,\n",
       "       56.22441289, 51.48017421, 50.59492554, 42.53058935, 51.86083986,\n",
       "       42.07068849, 51.9761096 , 40.50994568, 41.60260984, 43.02113045,\n",
       "       46.26128906, 53.4312709 , 50.25130758, 53.26910105, 39.05158837,\n",
       "       48.58683332, 42.49082784, 51.94483741, 42.01816243, 44.74625823,\n",
       "       37.95060675, 42.98600762, 40.74517601, 50.56935876, 45.29282908,\n",
       "       48.00898325, 46.26997928, 37.90724885, 40.34260613, 52.54510022,\n",
       "       47.91180633, 42.43754742, 42.95406219, 43.14104351, 44.28994174,\n",
       "       48.06327177, 39.81412394, 47.21138644, 50.91266964, 37.64551692,\n",
       "       39.60280173, 39.47743423, 46.59240003, 42.1008411 , 53.04729216,\n",
       "       52.22981438, 54.57107962, 41.00839786, 48.68747195, 50.61473122,\n",
       "       48.16260215, 44.27255861, 39.0131007 , 51.03704682, 48.08920492,\n",
       "       51.14176294, 37.81098752, 49.42386989, 38.63967106, 39.92263597,\n",
       "       50.00432667, 47.89023994, 41.3559761 , 52.86482745, 53.42756382,\n",
       "       53.45101187, 43.92655356, 47.94309446, 39.41006074, 46.88989953,\n",
       "       40.22572922, 39.33388305, 41.68124963, 42.95839388, 43.95549468,\n",
       "       53.12582962, 43.62242553, 40.6361044 , 52.08052012, 42.35437616,\n",
       "       39.29158956, 40.99675746, 52.0207229 , 41.88997115, 51.40687726,\n",
       "       45.4996809 , 50.20331918, 38.19509278, 54.74043901, 36.47534835,\n",
       "       39.13428767, 38.90028213, 49.77562815, 51.11479447, 38.95829475,\n",
       "       40.57300253, 38.7819721 , 50.3057141 , 50.30211984, 41.03250823,\n",
       "       45.78416346, 38.8527114 , 37.01552209, 38.9799923 , 51.21434603,\n",
       "       53.69228973, 40.86565602, 53.7103779 , 40.0151749 , 42.00930557,\n",
       "       51.02163384, 39.58134964, 52.10154988, 41.63477039, 52.16148541,\n",
       "       51.84627147, 49.19348833, 39.08441634, 44.77231551, 41.51457041,\n",
       "       45.94472881, 53.55150602, 48.45041691, 51.47040733, 48.98130525,\n",
       "       39.72716981, 45.00602922, 41.39603877, 49.69420168, 36.78759309,\n",
       "       40.05099914, 44.43632554, 40.6876783 , 54.66353195, 44.86515032,\n",
       "       52.26651568, 55.03557173, 46.170821  , 44.11060947, 48.26290021,\n",
       "       47.70070945, 40.79001661, 51.28250935, 42.24134679, 47.87269695,\n",
       "       49.66142406, 42.78094658, 37.26631809, 49.23801312, 41.62985349,\n",
       "       54.27166837, 39.19178348, 50.06331983, 46.80472138, 44.0980845 ,\n",
       "       38.76408096, 36.83297464, 41.14166545, 40.61978646, 53.69329217,\n",
       "       53.14930047, 49.23901644, 41.62259163, 39.34375471, 56.23203284,\n",
       "       40.05052132, 42.93319138, 44.39258201, 49.66619757, 52.49375662,\n",
       "       47.1800671 , 52.10154988, 46.6380608 , 48.69008526, 42.51065312,\n",
       "       51.09895006, 53.56690745, 40.26655244, 40.19426175, 39.07506852,\n",
       "       51.82044519, 40.79781238, 44.04327272, 41.10166696, 49.03493595,\n",
       "       55.80519731, 50.41603905, 51.11514998, 44.93417544, 53.490283  ,\n",
       "       44.4329825 , 52.9274089 , 42.72699001, 51.46847147, 53.56447696,\n",
       "       40.9010999 , 50.92266835, 40.90768186, 40.25836771, 40.76134562,\n",
       "       37.65617652, 55.96075594, 48.53400981, 37.98618932, 49.88203384,\n",
       "       42.61588752, 53.56264946, 43.45966373, 40.89701178, 53.22999057,\n",
       "       39.0886825 , 41.79995719, 55.97185257, 50.11477672, 43.66766216,\n",
       "       38.81821951, 47.08011156, 45.80671642, 47.42720379, 54.06564222,\n",
       "       55.65577789, 50.63802011, 43.01980053, 49.4752286 , 39.55235991,\n",
       "       42.81817913, 36.98464278, 38.07855164, 42.43379805, 37.89578743,\n",
       "       50.33034187, 54.89921421, 42.62129747, 50.6588253 , 47.29661426,\n",
       "       46.78592342, 40.18779075, 53.51290466, 53.72470943, 46.46420825,\n",
       "       41.3276852 , 39.98222523, 45.40954888, 38.12216843, 47.81898118,\n",
       "       43.26439801, 46.05216145, 40.51813257, 45.96536996, 43.59452099,\n",
       "       41.00283893, 52.63305573, 49.14532786, 43.89834754, 41.31042812,\n",
       "       45.87998168, 41.95112939, 42.15144054, 52.95391065, 46.2795083 ,\n",
       "       40.33037919, 47.06659034, 47.93047587, 53.45974608, 43.10223408,\n",
       "       53.56088645, 39.69180335, 54.63096612, 38.13884254, 41.67664436,\n",
       "       52.03376358, 39.31002984, 55.3747561 , 43.84283387, 39.34620735,\n",
       "       44.46311128, 45.41492593, 50.83955199, 53.14919454, 43.95104108,\n",
       "       56.23203284, 46.90454569, 42.87181066, 37.74772601, 48.73407246,\n",
       "       51.24700509, 42.74032076, 42.44241677, 39.74517513, 50.19236131,\n",
       "       51.5438926 , 51.15095891, 44.27590127, 38.30736047, 41.15166989,\n",
       "       41.48933728, 50.06497673, 38.58762765, 37.40257112, 39.49475787,\n",
       "       50.56406665, 39.79024633, 50.06807711, 53.00504348, 48.28558898,\n",
       "       49.38190263, 52.22462834, 38.7719353 , 39.99795696, 51.80556088,\n",
       "       54.81110143, 36.32032998, 40.80856472, 52.79896877, 47.99294531,\n",
       "       40.04017234, 40.49262882, 46.2645878 , 46.52398182, 48.97148601,\n",
       "       50.77412424, 50.14118541, 41.63645073, 50.87294962, 53.74695289,\n",
       "       45.83325462, 39.85438128, 47.78275799, 42.08020944, 52.60874556,\n",
       "       47.71056515, 50.14118541, 52.93288507, 45.24571767, 38.5423807 ,\n",
       "       48.51474983, 38.07855164, 53.02722318, 46.08476924, 48.43246605,\n",
       "       35.8982777 , 36.34058032, 39.47125325, 40.61884229, 52.9175    ,\n",
       "       49.44379721, 50.33973095, 52.57758757, 40.61293226, 44.85389942,\n",
       "       45.71911297, 41.00677561, 43.69444112, 48.1892138 , 45.06869206,\n",
       "       40.87125684, 45.25304184, 43.23496601, 54.46082069, 41.9659872 ,\n",
       "       37.4295609 , 42.4029154 , 38.89419472])"
      ]
     },
     "execution_count": 171,
     "metadata": {},
     "output_type": "execute_result"
    }
   ],
   "source": [
    "predictions"
   ]
  },
  {
   "cell_type": "code",
   "execution_count": 172,
   "metadata": {},
   "outputs": [
    {
     "name": "stdout",
     "output_type": "stream",
     "text": [
      "[2.11015770e+00 1.92399632e-07 5.62529180e-07 7.03420459e-02\n",
      " 1.39576933e-01]\n",
      "31.32676402701166\n"
     ]
    }
   ],
   "source": [
    "# Print the model's coefficients and intercept\n",
    "print(model.coef_)\n",
    "print(model.intercept_)"
   ]
  },
  {
   "cell_type": "code",
   "execution_count": 173,
   "metadata": {},
   "outputs": [
    {
     "name": "stdout",
     "output_type": "stream",
     "text": [
      "MSE: 191.52217197637756\n",
      "R²: 0.08433375313195457\n",
      "MAE: 11.188768250094856\n"
     ]
    }
   ],
   "source": [
    "from sklearn.metrics import mean_squared_error\n",
    "\n",
    "# Compute the MSE for the model's predictions on the test set\n",
    "mse = mean_squared_error(y_test, predictions)\n",
    "print(f\"MSE: {mse}\")\n",
    "\n",
    "from sklearn.metrics import r2_score\n",
    "\n",
    "# Compute the R-squared for the model's predictions on the test set\n",
    "r2 = r2_score(y_test, predictions)\n",
    "print(f\"R²: {r2}\") # --> fit helemaal niet goed!\n",
    "\n",
    "from sklearn.metrics import mean_absolute_error\n",
    "\n",
    "# Compute the MAE for the model's predictions on the test set\n",
    "mae = mean_absolute_error(y_test, predictions)\n",
    "print(f\"MAE: {mae}\")"
   ]
  },
  {
   "cell_type": "code",
   "execution_count": 174,
   "metadata": {},
   "outputs": [],
   "source": [
    "import pickle\n",
    "from sklearn.linear_model import LinearRegression\n",
    "\n",
    "# Train a linear regression model\n",
    "model = LinearRegression()\n",
    "model.fit(X_train, y_train)\n",
    "\n",
    "# Save the model to a file\n",
    "with open('linear-reg.pkl', 'wb') as f:\n",
    "    pickle.dump(model, f)"
   ]
  }
 ],
 "metadata": {
  "kernelspec": {
   "display_name": "Python 3.10.4 64-bit",
   "language": "python",
   "name": "python3"
  },
  "language_info": {
   "codemirror_mode": {
    "name": "ipython",
    "version": 3
   },
   "file_extension": ".py",
   "mimetype": "text/x-python",
   "name": "python",
   "nbconvert_exporter": "python",
   "pygments_lexer": "ipython3",
   "version": "3.10.4"
  },
  "orig_nbformat": 4,
  "vscode": {
   "interpreter": {
    "hash": "2826aba1e6a86f4d43162759cc60d91502a916d32d010281a6416e3f3957e99a"
   }
  }
 },
 "nbformat": 4,
 "nbformat_minor": 2
}
