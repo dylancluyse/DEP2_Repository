{
 "cells": [
  {
   "cell_type": "markdown",
   "metadata": {},
   "source": [
    "Data ophalen. Dit is een aangepaste view."
   ]
  },
  {
   "cell_type": "code",
   "execution_count": 203,
   "metadata": {},
   "outputs": [],
   "source": [
    "from pymysql import Connect\n",
    "import pandas as pd\n",
    "import pyodbc, psycopg2\n",
    "\n",
    "db_conn = psycopg2.connect(database=\"depdatabase\", user=\"postgres\", password=\"DaddySzymon123\", host=\"vichogent.be\", port=\"40033\")\n",
    "\n",
    "cursor = db_conn.cursor()\n",
    "\n",
    "cursor.execute(f\"\"\"\n",
    "        select * from view_machine_learning_data\n",
    "\"\"\")\n",
    "\n",
    "df = pd.DataFrame(cursor.fetchall(), columns=['ondernemingsnummer', 'urban','balanstotaal','omzet', 'personeelsbestanden', 'foundingdate', 'environment','social','governance', 'general'])"
   ]
  },
  {
   "cell_type": "code",
   "execution_count": 205,
   "metadata": {},
   "outputs": [
    {
     "data": {
      "text/html": [
       "<div>\n",
       "<style scoped>\n",
       "    .dataframe tbody tr th:only-of-type {\n",
       "        vertical-align: middle;\n",
       "    }\n",
       "\n",
       "    .dataframe tbody tr th {\n",
       "        vertical-align: top;\n",
       "    }\n",
       "\n",
       "    .dataframe thead th {\n",
       "        text-align: right;\n",
       "    }\n",
       "</style>\n",
       "<table border=\"1\" class=\"dataframe\">\n",
       "  <thead>\n",
       "    <tr style=\"text-align: right;\">\n",
       "      <th></th>\n",
       "      <th>ondernemingsnummer</th>\n",
       "      <th>urban</th>\n",
       "      <th>balanstotaal</th>\n",
       "      <th>omzet</th>\n",
       "      <th>personeelsbestanden</th>\n",
       "      <th>foundingdate</th>\n",
       "      <th>environment</th>\n",
       "      <th>social</th>\n",
       "      <th>governance</th>\n",
       "      <th>general</th>\n",
       "    </tr>\n",
       "  </thead>\n",
       "  <tbody>\n",
       "    <tr>\n",
       "      <th>0</th>\n",
       "      <td>410917437</td>\n",
       "      <td>0.0</td>\n",
       "      <td>None</td>\n",
       "      <td>None</td>\n",
       "      <td>NaN</td>\n",
       "      <td>1961-03-30</td>\n",
       "      <td>0.0</td>\n",
       "      <td>0.018586</td>\n",
       "      <td>0.029217</td>\n",
       "      <td>0.015934</td>\n",
       "    </tr>\n",
       "    <tr>\n",
       "      <th>1</th>\n",
       "      <td>461056836</td>\n",
       "      <td>1.875</td>\n",
       "      <td>2805793.44</td>\n",
       "      <td>0</td>\n",
       "      <td>10.0</td>\n",
       "      <td>1997-07-07</td>\n",
       "      <td>0.0</td>\n",
       "      <td>0.000000</td>\n",
       "      <td>0.710802</td>\n",
       "      <td>0.236934</td>\n",
       "    </tr>\n",
       "    <tr>\n",
       "      <th>2</th>\n",
       "      <td>219395192</td>\n",
       "      <td>0.8490566037735849</td>\n",
       "      <td>None</td>\n",
       "      <td>None</td>\n",
       "      <td>NaN</td>\n",
       "      <td>1979-02-13</td>\n",
       "      <td>0.0</td>\n",
       "      <td>0.000000</td>\n",
       "      <td>0.633410</td>\n",
       "      <td>0.211137</td>\n",
       "    </tr>\n",
       "    <tr>\n",
       "      <th>3</th>\n",
       "      <td>447763183</td>\n",
       "      <td>1.4137931034482758</td>\n",
       "      <td>478133071.39</td>\n",
       "      <td>2438500.28</td>\n",
       "      <td>10.0</td>\n",
       "      <td>1992-06-30</td>\n",
       "      <td>0.0</td>\n",
       "      <td>0.000000</td>\n",
       "      <td>0.715486</td>\n",
       "      <td>0.238495</td>\n",
       "    </tr>\n",
       "    <tr>\n",
       "      <th>4</th>\n",
       "      <td>432406994</td>\n",
       "      <td>0.6572222</td>\n",
       "      <td>39999869.6</td>\n",
       "      <td>65496051.3</td>\n",
       "      <td>45.0</td>\n",
       "      <td>1987-11-10</td>\n",
       "      <td>0.0</td>\n",
       "      <td>0.000000</td>\n",
       "      <td>0.795257</td>\n",
       "      <td>0.265086</td>\n",
       "    </tr>\n",
       "  </tbody>\n",
       "</table>\n",
       "</div>"
      ],
      "text/plain": [
       "   ondernemingsnummer               urban  balanstotaal       omzet  \\\n",
       "0           410917437                 0.0          None        None   \n",
       "1           461056836               1.875    2805793.44           0   \n",
       "2           219395192  0.8490566037735849          None        None   \n",
       "3           447763183  1.4137931034482758  478133071.39  2438500.28   \n",
       "4           432406994           0.6572222    39999869.6  65496051.3   \n",
       "\n",
       "   personeelsbestanden foundingdate  environment    social  governance  \\\n",
       "0                  NaN   1961-03-30          0.0  0.018586    0.029217   \n",
       "1                 10.0   1997-07-07          0.0  0.000000    0.710802   \n",
       "2                  NaN   1979-02-13          0.0  0.000000    0.633410   \n",
       "3                 10.0   1992-06-30          0.0  0.000000    0.715486   \n",
       "4                 45.0   1987-11-10          0.0  0.000000    0.795257   \n",
       "\n",
       "    general  \n",
       "0  0.015934  \n",
       "1  0.236934  \n",
       "2  0.211137  \n",
       "3  0.238495  \n",
       "4  0.265086  "
      ]
     },
     "execution_count": 205,
     "metadata": {},
     "output_type": "execute_result"
    }
   ],
   "source": [
    "df.head()"
   ]
  },
  {
   "cell_type": "code",
   "execution_count": 206,
   "metadata": {},
   "outputs": [],
   "source": [
    "df['social'] = df['social']  * 100\n",
    "df['governance'] = df['governance']  * 100\n",
    "df['environment'] = df['environment'] * 100\n",
    "df['general'] = df['general'] * 100"
   ]
  },
  {
   "cell_type": "markdown",
   "metadata": {},
   "source": [
    "Null-waarden droppen"
   ]
  },
  {
   "cell_type": "code",
   "execution_count": 207,
   "metadata": {},
   "outputs": [],
   "source": [
    "df = df.dropna()"
   ]
  },
  {
   "cell_type": "code",
   "execution_count": 208,
   "metadata": {},
   "outputs": [
    {
     "data": {
      "text/plain": [
       "8678"
      ]
     },
     "execution_count": 208,
     "metadata": {},
     "output_type": "execute_result"
    }
   ],
   "source": [
    "len(df)"
   ]
  },
  {
   "cell_type": "code",
   "execution_count": 209,
   "metadata": {},
   "outputs": [
    {
     "data": {
      "text/html": [
       "<div>\n",
       "<style scoped>\n",
       "    .dataframe tbody tr th:only-of-type {\n",
       "        vertical-align: middle;\n",
       "    }\n",
       "\n",
       "    .dataframe tbody tr th {\n",
       "        vertical-align: top;\n",
       "    }\n",
       "\n",
       "    .dataframe thead th {\n",
       "        text-align: right;\n",
       "    }\n",
       "</style>\n",
       "<table border=\"1\" class=\"dataframe\">\n",
       "  <thead>\n",
       "    <tr style=\"text-align: right;\">\n",
       "      <th></th>\n",
       "      <th>ondernemingsnummer</th>\n",
       "      <th>urban</th>\n",
       "      <th>balanstotaal</th>\n",
       "      <th>omzet</th>\n",
       "      <th>personeelsbestanden</th>\n",
       "      <th>foundingdate</th>\n",
       "      <th>environment</th>\n",
       "      <th>social</th>\n",
       "      <th>governance</th>\n",
       "      <th>general</th>\n",
       "    </tr>\n",
       "  </thead>\n",
       "  <tbody>\n",
       "    <tr>\n",
       "      <th>1</th>\n",
       "      <td>461056836</td>\n",
       "      <td>1.875</td>\n",
       "      <td>2805793.44</td>\n",
       "      <td>0</td>\n",
       "      <td>10.0</td>\n",
       "      <td>1997-07-07</td>\n",
       "      <td>0.0</td>\n",
       "      <td>0.000000</td>\n",
       "      <td>71.080217</td>\n",
       "      <td>23.693406</td>\n",
       "    </tr>\n",
       "    <tr>\n",
       "      <th>3</th>\n",
       "      <td>447763183</td>\n",
       "      <td>1.4137931034482758</td>\n",
       "      <td>478133071.39</td>\n",
       "      <td>2438500.28</td>\n",
       "      <td>10.0</td>\n",
       "      <td>1992-06-30</td>\n",
       "      <td>0.0</td>\n",
       "      <td>0.000000</td>\n",
       "      <td>71.548584</td>\n",
       "      <td>23.849528</td>\n",
       "    </tr>\n",
       "    <tr>\n",
       "      <th>4</th>\n",
       "      <td>432406994</td>\n",
       "      <td>0.6572222</td>\n",
       "      <td>39999869.6</td>\n",
       "      <td>65496051.3</td>\n",
       "      <td>45.0</td>\n",
       "      <td>1987-11-10</td>\n",
       "      <td>0.0</td>\n",
       "      <td>0.000000</td>\n",
       "      <td>79.525686</td>\n",
       "      <td>26.508562</td>\n",
       "    </tr>\n",
       "    <tr>\n",
       "      <th>5</th>\n",
       "      <td>417609051</td>\n",
       "      <td>0.7692307692307693</td>\n",
       "      <td>26922177.69</td>\n",
       "      <td>50191983.53</td>\n",
       "      <td>66.0</td>\n",
       "      <td>1977-10-13</td>\n",
       "      <td>0.0</td>\n",
       "      <td>1.858598</td>\n",
       "      <td>0.000000</td>\n",
       "      <td>0.619533</td>\n",
       "    </tr>\n",
       "    <tr>\n",
       "      <th>6</th>\n",
       "      <td>432893182</td>\n",
       "      <td>0.2121212121212121</td>\n",
       "      <td>25955521</td>\n",
       "      <td>43827278</td>\n",
       "      <td>18.0</td>\n",
       "      <td>1988-01-04</td>\n",
       "      <td>0.0</td>\n",
       "      <td>0.000000</td>\n",
       "      <td>4.408594</td>\n",
       "      <td>1.469531</td>\n",
       "    </tr>\n",
       "  </tbody>\n",
       "</table>\n",
       "</div>"
      ],
      "text/plain": [
       "   ondernemingsnummer               urban  balanstotaal        omzet  \\\n",
       "1           461056836               1.875    2805793.44            0   \n",
       "3           447763183  1.4137931034482758  478133071.39   2438500.28   \n",
       "4           432406994           0.6572222    39999869.6   65496051.3   \n",
       "5           417609051  0.7692307692307693   26922177.69  50191983.53   \n",
       "6           432893182  0.2121212121212121      25955521     43827278   \n",
       "\n",
       "   personeelsbestanden foundingdate  environment    social  governance  \\\n",
       "1                 10.0   1997-07-07          0.0  0.000000   71.080217   \n",
       "3                 10.0   1992-06-30          0.0  0.000000   71.548584   \n",
       "4                 45.0   1987-11-10          0.0  0.000000   79.525686   \n",
       "5                 66.0   1977-10-13          0.0  1.858598    0.000000   \n",
       "6                 18.0   1988-01-04          0.0  0.000000    4.408594   \n",
       "\n",
       "     general  \n",
       "1  23.693406  \n",
       "3  23.849528  \n",
       "4  26.508562  \n",
       "5   0.619533  \n",
       "6   1.469531  "
      ]
     },
     "execution_count": 209,
     "metadata": {},
     "output_type": "execute_result"
    }
   ],
   "source": [
    "df.head()"
   ]
  },
  {
   "cell_type": "markdown",
   "metadata": {},
   "source": [
    "Omzetten naar de gepaste datatypes:"
   ]
  },
  {
   "cell_type": "code",
   "execution_count": 210,
   "metadata": {},
   "outputs": [],
   "source": [
    "df['omzet'] = df['omzet'].astype('int64')\n",
    "df['balanstotaal'] = df['balanstotaal'].astype('int64')\n",
    "df['personeelsbestanden'] = df['personeelsbestanden'].astype('int64')\n",
    "df['urban'] = df['urban'].astype('float64')\n",
    "df['foundingdate'] = (pd.Timestamp.now() - pd.to_datetime(df['foundingdate'], format=\"%Y-%m-%d\")).dt.days / 365\n",
    "df['environment'] = df['environment'].astype('float64')\n",
    "df['social'] = df['social'].astype('float64')\n",
    "df['governance'] = df['governance'].astype('float64')"
   ]
  },
  {
   "cell_type": "code",
   "execution_count": 211,
   "metadata": {},
   "outputs": [
    {
     "data": {
      "text/plain": [
       "ondernemingsnummer       int64\n",
       "urban                  float64\n",
       "balanstotaal             int64\n",
       "omzet                    int64\n",
       "personeelsbestanden      int64\n",
       "foundingdate           float64\n",
       "environment            float64\n",
       "social                 float64\n",
       "governance             float64\n",
       "general                float64\n",
       "dtype: object"
      ]
     },
     "execution_count": 211,
     "metadata": {},
     "output_type": "execute_result"
    }
   ],
   "source": [
    "df.dtypes"
   ]
  },
  {
   "cell_type": "code",
   "execution_count": 212,
   "metadata": {},
   "outputs": [
    {
     "data": {
      "text/plain": [
       "8678"
      ]
     },
     "execution_count": 212,
     "metadata": {},
     "output_type": "execute_result"
    }
   ],
   "source": [
    "len(df)"
   ]
  },
  {
   "cell_type": "code",
   "execution_count": 213,
   "metadata": {},
   "outputs": [],
   "source": [
    "X = df.drop(['general', 'environment','social','governance', 'ondernemingsnummer'], axis=1)\n",
    "y = df['general']\n",
    "\n",
    "from sklearn.model_selection import train_test_split\n",
    "X_train,X_test,y_train,y_test = train_test_split(X,y,random_state=42)"
   ]
  },
  {
   "cell_type": "code",
   "execution_count": 214,
   "metadata": {},
   "outputs": [],
   "source": [
    "from sklearn.pipeline import Pipeline\n",
    "from sklearn.preprocessing import MinMaxScaler\n",
    "from sklearn.compose import ColumnTransformer\n",
    "\n",
    "numerical_ix = X.select_dtypes(include=['int32','int64','float64']).columns\n",
    "\n",
    "col_transform = ColumnTransformer(transformers=[\n",
    "    ('minmax',MinMaxScaler(), numerical_ix),\n",
    "])"
   ]
  },
  {
   "attachments": {},
   "cell_type": "markdown",
   "metadata": {},
   "source": [
    "# Data-Analyse"
   ]
  },
  {
   "cell_type": "code",
   "execution_count": 215,
   "metadata": {},
   "outputs": [
    {
     "data": {
      "text/plain": [
       "<AxesSubplot:xlabel='environment', ylabel='Count'>"
      ]
     },
     "execution_count": 215,
     "metadata": {},
     "output_type": "execute_result"
    },
    {
     "data": {
      "image/png": "[encoded data removed]",
      "text/plain": [
       "<Figure size 640x480 with 1 Axes>"
      ]
     },
     "metadata": {},
     "output_type": "display_data"
    }
   ],
   "source": [
    "import seaborn as sns\n",
    "sns.histplot(data=df, x='environment', bins=10)"
   ]
  },
  {
   "cell_type": "code",
   "execution_count": 216,
   "metadata": {},
   "outputs": [
    {
     "data": {
      "text/plain": [
       "<AxesSubplot:xlabel='social', ylabel='Count'>"
      ]
     },
     "execution_count": 216,
     "metadata": {},
     "output_type": "execute_result"
    },
    {
     "data": {
      "image/png": "[encoded data removed]",
      "text/plain": [
       "<Figure size 640x480 with 1 Axes>"
      ]
     },
     "metadata": {},
     "output_type": "display_data"
    }
   ],
   "source": [
    "sns.histplot(data=df, x='social', bins=10)"
   ]
  },
  {
   "cell_type": "code",
   "execution_count": 217,
   "metadata": {},
   "outputs": [
    {
     "data": {
      "text/plain": [
       "<AxesSubplot:xlabel='governance', ylabel='Count'>"
      ]
     },
     "execution_count": 217,
     "metadata": {},
     "output_type": "execute_result"
    },
    {
     "data": {
      "image/png": "[encoded data removed]",
      "text/plain": [
       "<Figure size 640x480 with 1 Axes>"
      ]
     },
     "metadata": {},
     "output_type": "display_data"
    }
   ],
   "source": [
    "sns.histplot(data=df, x='governance', bins=10)"
   ]
  },
  {
   "attachments": {},
   "cell_type": "markdown",
   "metadata": {},
   "source": [
    "# ANN: Drie outputs"
   ]
  },
  {
   "cell_type": "code",
   "execution_count": 218,
   "metadata": {},
   "outputs": [],
   "source": [
    "import tensorflow as tf\n",
    "\n",
    "# Define the model architecture\n",
    "model = tf.keras.Sequential([\n",
    "    # Add a fully connected layer with 64 units and ReLU activation\n",
    "    tf.keras.layers.Dense(64, activation='relu', input_shape=(5,)),\n",
    "    # Add a fully connected layer with 32 units and ReLU activation\n",
    "    tf.keras.layers.Dense(32, activation='relu'),\n",
    "    # Add a fully connected layer with 3 units and sigmoid activation\n",
    "    tf.keras.layers.Dense(3, activation='sigmoid')\n",
    "])\n",
    "\n",
    "# Compile the model with a mean squared error loss function and an Adam optimizer\n",
    "model.compile(loss='mse', optimizer='adam', metrics=['accuracy'])\n"
   ]
  },
  {
   "cell_type": "code",
   "execution_count": 219,
   "metadata": {},
   "outputs": [
    {
     "data": {
      "text/html": [
       "<div>\n",
       "<style scoped>\n",
       "    .dataframe tbody tr th:only-of-type {\n",
       "        vertical-align: middle;\n",
       "    }\n",
       "\n",
       "    .dataframe tbody tr th {\n",
       "        vertical-align: top;\n",
       "    }\n",
       "\n",
       "    .dataframe thead th {\n",
       "        text-align: right;\n",
       "    }\n",
       "</style>\n",
       "<table border=\"1\" class=\"dataframe\">\n",
       "  <thead>\n",
       "    <tr style=\"text-align: right;\">\n",
       "      <th></th>\n",
       "      <th>urban</th>\n",
       "      <th>balanstotaal</th>\n",
       "      <th>omzet</th>\n",
       "      <th>personeelsbestanden</th>\n",
       "      <th>foundingdate</th>\n",
       "    </tr>\n",
       "  </thead>\n",
       "  <tbody>\n",
       "    <tr>\n",
       "      <th>1</th>\n",
       "      <td>1.875000</td>\n",
       "      <td>2805793</td>\n",
       "      <td>0</td>\n",
       "      <td>10</td>\n",
       "      <td>25.465753</td>\n",
       "    </tr>\n",
       "    <tr>\n",
       "      <th>3</th>\n",
       "      <td>1.413793</td>\n",
       "      <td>478133071</td>\n",
       "      <td>2438500</td>\n",
       "      <td>10</td>\n",
       "      <td>30.487671</td>\n",
       "    </tr>\n",
       "    <tr>\n",
       "      <th>4</th>\n",
       "      <td>0.657222</td>\n",
       "      <td>39999869</td>\n",
       "      <td>65496051</td>\n",
       "      <td>45</td>\n",
       "      <td>35.128767</td>\n",
       "    </tr>\n",
       "    <tr>\n",
       "      <th>5</th>\n",
       "      <td>0.769231</td>\n",
       "      <td>26922177</td>\n",
       "      <td>50191983</td>\n",
       "      <td>66</td>\n",
       "      <td>45.210959</td>\n",
       "    </tr>\n",
       "    <tr>\n",
       "      <th>6</th>\n",
       "      <td>0.212121</td>\n",
       "      <td>25955521</td>\n",
       "      <td>43827278</td>\n",
       "      <td>18</td>\n",
       "      <td>34.978082</td>\n",
       "    </tr>\n",
       "    <tr>\n",
       "      <th>...</th>\n",
       "      <td>...</td>\n",
       "      <td>...</td>\n",
       "      <td>...</td>\n",
       "      <td>...</td>\n",
       "      <td>...</td>\n",
       "    </tr>\n",
       "    <tr>\n",
       "      <th>12625</th>\n",
       "      <td>1.442786</td>\n",
       "      <td>601053389</td>\n",
       "      <td>45263118</td>\n",
       "      <td>93</td>\n",
       "      <td>43.991781</td>\n",
       "    </tr>\n",
       "    <tr>\n",
       "      <th>12627</th>\n",
       "      <td>0.819672</td>\n",
       "      <td>6665510</td>\n",
       "      <td>19686095</td>\n",
       "      <td>20</td>\n",
       "      <td>41.920548</td>\n",
       "    </tr>\n",
       "    <tr>\n",
       "      <th>12628</th>\n",
       "      <td>0.849057</td>\n",
       "      <td>155563377</td>\n",
       "      <td>9373091</td>\n",
       "      <td>48</td>\n",
       "      <td>54.131507</td>\n",
       "    </tr>\n",
       "    <tr>\n",
       "      <th>12629</th>\n",
       "      <td>1.283019</td>\n",
       "      <td>29987289</td>\n",
       "      <td>0</td>\n",
       "      <td>13</td>\n",
       "      <td>65.457534</td>\n",
       "    </tr>\n",
       "    <tr>\n",
       "      <th>12630</th>\n",
       "      <td>0.657222</td>\n",
       "      <td>217559014</td>\n",
       "      <td>44649177</td>\n",
       "      <td>61</td>\n",
       "      <td>58.591781</td>\n",
       "    </tr>\n",
       "  </tbody>\n",
       "</table>\n",
       "<p>8678 rows × 5 columns</p>\n",
       "</div>"
      ],
      "text/plain": [
       "          urban  balanstotaal     omzet  personeelsbestanden  foundingdate\n",
       "1      1.875000       2805793         0                   10     25.465753\n",
       "3      1.413793     478133071   2438500                   10     30.487671\n",
       "4      0.657222      39999869  65496051                   45     35.128767\n",
       "5      0.769231      26922177  50191983                   66     45.210959\n",
       "6      0.212121      25955521  43827278                   18     34.978082\n",
       "...         ...           ...       ...                  ...           ...\n",
       "12625  1.442786     601053389  45263118                   93     43.991781\n",
       "12627  0.819672       6665510  19686095                   20     41.920548\n",
       "12628  0.849057     155563377   9373091                   48     54.131507\n",
       "12629  1.283019      29987289         0                   13     65.457534\n",
       "12630  0.657222     217559014  44649177                   61     58.591781\n",
       "\n",
       "[8678 rows x 5 columns]"
      ]
     },
     "execution_count": 219,
     "metadata": {},
     "output_type": "execute_result"
    }
   ],
   "source": [
    "X"
   ]
  },
  {
   "cell_type": "code",
   "execution_count": 220,
   "metadata": {},
   "outputs": [
    {
     "name": "stdout",
     "output_type": "stream",
     "text": [
      "Epoch 1/100\n",
      "272/272 [==============================] - 0s 794us/step - loss: 2903.7944 - accuracy: 0.2790\n",
      "Epoch 2/100\n",
      "272/272 [==============================] - 0s 780us/step - loss: 2899.8486 - accuracy: 0.2737\n",
      "Epoch 3/100\n",
      "272/272 [==============================] - 0s 731us/step - loss: 2878.3645 - accuracy: 0.2301\n",
      "Epoch 4/100\n",
      "272/272 [==============================] - 0s 728us/step - loss: 2878.3650 - accuracy: 0.2301\n",
      "Epoch 5/100\n",
      "272/272 [==============================] - 0s 713us/step - loss: 2878.3647 - accuracy: 0.2301\n",
      "Epoch 6/100\n",
      "272/272 [==============================] - 0s 725us/step - loss: 2878.3657 - accuracy: 0.2301\n",
      "Epoch 7/100\n",
      "272/272 [==============================] - 0s 707us/step - loss: 2878.3652 - accuracy: 0.2301\n",
      "Epoch 8/100\n",
      "272/272 [==============================] - 0s 729us/step - loss: 2878.3660 - accuracy: 0.2301\n",
      "Epoch 9/100\n",
      "272/272 [==============================] - 0s 758us/step - loss: 2878.3643 - accuracy: 0.2301\n",
      "Epoch 10/100\n",
      "272/272 [==============================] - 0s 738us/step - loss: 2878.3652 - accuracy: 0.2301\n",
      "Epoch 11/100\n",
      "272/272 [==============================] - 0s 751us/step - loss: 2878.3652 - accuracy: 0.2301\n",
      "Epoch 12/100\n",
      "272/272 [==============================] - 0s 773us/step - loss: 2878.3655 - accuracy: 0.2301\n",
      "Epoch 13/100\n",
      "272/272 [==============================] - 0s 981us/step - loss: 2878.3645 - accuracy: 0.2301\n",
      "Epoch 14/100\n",
      "272/272 [==============================] - 0s 758us/step - loss: 2878.3645 - accuracy: 0.2301\n",
      "Epoch 15/100\n",
      "272/272 [==============================] - 0s 729us/step - loss: 2878.3630 - accuracy: 0.2301\n",
      "Epoch 16/100\n",
      "272/272 [==============================] - 0s 826us/step - loss: 2878.3652 - accuracy: 0.2301\n",
      "Epoch 17/100\n",
      "272/272 [==============================] - 0s 729us/step - loss: 2878.3643 - accuracy: 0.2301\n",
      "Epoch 18/100\n",
      "272/272 [==============================] - 0s 854us/step - loss: 2878.3650 - accuracy: 0.2301\n",
      "Epoch 19/100\n",
      "272/272 [==============================] - 0s 707us/step - loss: 2878.3643 - accuracy: 0.2301\n",
      "Epoch 20/100\n",
      "272/272 [==============================] - 0s 733us/step - loss: 2878.3643 - accuracy: 0.2301\n",
      "Epoch 21/100\n",
      "272/272 [==============================] - 0s 719us/step - loss: 2878.3660 - accuracy: 0.2301\n",
      "Epoch 22/100\n",
      "272/272 [==============================] - 0s 950us/step - loss: 2878.3650 - accuracy: 0.2301\n",
      "Epoch 23/100\n",
      "272/272 [==============================] - 0s 741us/step - loss: 2878.3650 - accuracy: 0.2301\n",
      "Epoch 24/100\n",
      "272/272 [==============================] - 0s 777us/step - loss: 2878.3647 - accuracy: 0.2301\n",
      "Epoch 25/100\n",
      "272/272 [==============================] - 0s 762us/step - loss: 2878.3650 - accuracy: 0.2301\n",
      "Epoch 26/100\n",
      "272/272 [==============================] - 0s 819us/step - loss: 2878.3652 - accuracy: 0.2301\n",
      "Epoch 27/100\n",
      "272/272 [==============================] - 0s 779us/step - loss: 2878.3643 - accuracy: 0.2301\n",
      "Epoch 28/100\n",
      "272/272 [==============================] - 0s 799us/step - loss: 2878.3660 - accuracy: 0.2301\n",
      "Epoch 29/100\n",
      "272/272 [==============================] - 0s 821us/step - loss: 2878.3647 - accuracy: 0.2301\n",
      "Epoch 30/100\n",
      "272/272 [==============================] - 0s 740us/step - loss: 2878.3665 - accuracy: 0.2301\n",
      "Epoch 31/100\n",
      "272/272 [==============================] - 0s 909us/step - loss: 2878.3643 - accuracy: 0.2301\n",
      "Epoch 32/100\n",
      "272/272 [==============================] - 0s 816us/step - loss: 2878.3647 - accuracy: 0.2301\n",
      "Epoch 33/100\n",
      "272/272 [==============================] - 0s 742us/step - loss: 2878.3655 - accuracy: 0.2301\n",
      "Epoch 34/100\n",
      "272/272 [==============================] - 0s 762us/step - loss: 2878.3652 - accuracy: 0.2301\n",
      "Epoch 35/100\n",
      "272/272 [==============================] - 0s 816us/step - loss: 2878.3650 - accuracy: 0.2301\n",
      "Epoch 36/100\n",
      "272/272 [==============================] - 0s 762us/step - loss: 2878.3645 - accuracy: 0.2301\n",
      "Epoch 37/100\n",
      "272/272 [==============================] - 0s 813us/step - loss: 2878.3652 - accuracy: 0.2301\n",
      "Epoch 38/100\n",
      "272/272 [==============================] - 0s 742us/step - loss: 2878.3645 - accuracy: 0.2301\n",
      "Epoch 39/100\n",
      "272/272 [==============================] - 0s 956us/step - loss: 2878.3643 - accuracy: 0.2301\n",
      "Epoch 40/100\n",
      "272/272 [==============================] - 0s 753us/step - loss: 2878.3650 - accuracy: 0.2301\n",
      "Epoch 41/100\n",
      "272/272 [==============================] - 0s 791us/step - loss: 2878.3655 - accuracy: 0.2301\n",
      "Epoch 42/100\n",
      "272/272 [==============================] - 0s 771us/step - loss: 2878.3652 - accuracy: 0.2301\n",
      "Epoch 43/100\n",
      "272/272 [==============================] - 0s 785us/step - loss: 2878.3643 - accuracy: 0.2301\n",
      "Epoch 44/100\n",
      "272/272 [==============================] - 0s 762us/step - loss: 2878.3660 - accuracy: 0.2301\n",
      "Epoch 45/100\n",
      "272/272 [==============================] - 0s 733us/step - loss: 2878.3655 - accuracy: 0.2301\n",
      "Epoch 46/100\n",
      "272/272 [==============================] - 0s 732us/step - loss: 2878.3647 - accuracy: 0.2301\n",
      "Epoch 47/100\n",
      "272/272 [==============================] - 0s 784us/step - loss: 2878.3645 - accuracy: 0.2301\n",
      "Epoch 48/100\n",
      "272/272 [==============================] - 0s 725us/step - loss: 2878.3630 - accuracy: 0.2301\n",
      "Epoch 49/100\n",
      "272/272 [==============================] - 0s 795us/step - loss: 2878.3643 - accuracy: 0.2301\n",
      "Epoch 50/100\n",
      "272/272 [==============================] - 0s 798us/step - loss: 2878.3652 - accuracy: 0.2301\n",
      "Epoch 51/100\n",
      "272/272 [==============================] - 0s 747us/step - loss: 2878.3635 - accuracy: 0.2301\n",
      "Epoch 52/100\n",
      "272/272 [==============================] - 0s 973us/step - loss: 2878.3643 - accuracy: 0.2301\n",
      "Epoch 53/100\n",
      "272/272 [==============================] - 0s 765us/step - loss: 2878.3645 - accuracy: 0.2301\n",
      "Epoch 54/100\n",
      "272/272 [==============================] - 0s 765us/step - loss: 2878.3652 - accuracy: 0.2301\n",
      "Epoch 55/100\n",
      "272/272 [==============================] - 0s 714us/step - loss: 2878.3650 - accuracy: 0.2301\n",
      "Epoch 56/100\n",
      "272/272 [==============================] - 0s 703us/step - loss: 2878.3652 - accuracy: 0.2301\n",
      "Epoch 57/100\n",
      "272/272 [==============================] - 0s 714us/step - loss: 2878.3650 - accuracy: 0.2301\n",
      "Epoch 58/100\n",
      "272/272 [==============================] - 0s 757us/step - loss: 2878.3660 - accuracy: 0.2301\n",
      "Epoch 59/100\n",
      "272/272 [==============================] - 0s 709us/step - loss: 2878.3650 - accuracy: 0.2301\n",
      "Epoch 60/100\n",
      "272/272 [==============================] - 0s 769us/step - loss: 2878.3662 - accuracy: 0.2301\n",
      "Epoch 61/100\n",
      "272/272 [==============================] - 0s 736us/step - loss: 2878.3662 - accuracy: 0.2301\n",
      "Epoch 62/100\n",
      "272/272 [==============================] - 0s 726us/step - loss: 2878.3665 - accuracy: 0.2301\n",
      "Epoch 63/100\n",
      "272/272 [==============================] - 0s 747us/step - loss: 2878.3667 - accuracy: 0.2301\n",
      "Epoch 64/100\n",
      "272/272 [==============================] - 0s 905us/step - loss: 2878.3657 - accuracy: 0.2301\n",
      "Epoch 65/100\n",
      "272/272 [==============================] - 0s 745us/step - loss: 2878.3650 - accuracy: 0.2301\n",
      "Epoch 66/100\n",
      "272/272 [==============================] - 0s 734us/step - loss: 2878.3643 - accuracy: 0.2301\n",
      "Epoch 67/100\n",
      "272/272 [==============================] - 0s 754us/step - loss: 2878.3645 - accuracy: 0.2301\n",
      "Epoch 68/100\n",
      "272/272 [==============================] - 0s 707us/step - loss: 2878.3647 - accuracy: 0.2301\n",
      "Epoch 69/100\n",
      "272/272 [==============================] - 0s 707us/step - loss: 2878.3645 - accuracy: 0.2301\n",
      "Epoch 70/100\n",
      "272/272 [==============================] - 0s 703us/step - loss: 2878.3652 - accuracy: 0.2301\n",
      "Epoch 71/100\n",
      "272/272 [==============================] - 0s 740us/step - loss: 2878.3657 - accuracy: 0.2301\n",
      "Epoch 72/100\n",
      "272/272 [==============================] - 0s 757us/step - loss: 2878.3652 - accuracy: 0.2301\n",
      "Epoch 73/100\n",
      "272/272 [==============================] - 0s 740us/step - loss: 2878.3660 - accuracy: 0.2301\n",
      "Epoch 74/100\n",
      "272/272 [==============================] - 0s 742us/step - loss: 2878.3640 - accuracy: 0.2301\n",
      "Epoch 75/100\n",
      "272/272 [==============================] - 0s 737us/step - loss: 2878.3647 - accuracy: 0.2301\n",
      "Epoch 76/100\n",
      "272/272 [==============================] - 0s 735us/step - loss: 2878.3650 - accuracy: 0.2301\n",
      "Epoch 77/100\n",
      "272/272 [==============================] - 0s 907us/step - loss: 2878.3643 - accuracy: 0.2301\n",
      "Epoch 78/100\n",
      "272/272 [==============================] - 0s 727us/step - loss: 2878.3655 - accuracy: 0.2301\n",
      "Epoch 79/100\n",
      "272/272 [==============================] - 0s 729us/step - loss: 2878.3652 - accuracy: 0.2301\n",
      "Epoch 80/100\n",
      "272/272 [==============================] - 0s 734us/step - loss: 2878.3655 - accuracy: 0.2301\n",
      "Epoch 81/100\n",
      "272/272 [==============================] - 0s 725us/step - loss: 2878.3657 - accuracy: 0.2301\n",
      "Epoch 82/100\n",
      "272/272 [==============================] - 0s 740us/step - loss: 2878.3655 - accuracy: 0.2301\n",
      "Epoch 83/100\n",
      "272/272 [==============================] - 0s 743us/step - loss: 2878.3662 - accuracy: 0.2301\n",
      "Epoch 84/100\n",
      "272/272 [==============================] - 0s 740us/step - loss: 2878.3643 - accuracy: 0.2301\n",
      "Epoch 85/100\n",
      "272/272 [==============================] - 0s 722us/step - loss: 2878.3643 - accuracy: 0.2301\n",
      "Epoch 86/100\n",
      "272/272 [==============================] - 0s 712us/step - loss: 2878.3662 - accuracy: 0.2301\n",
      "Epoch 87/100\n",
      "272/272 [==============================] - 0s 725us/step - loss: 2878.3645 - accuracy: 0.2301\n",
      "Epoch 88/100\n",
      "272/272 [==============================] - 0s 736us/step - loss: 2878.3657 - accuracy: 0.2301\n",
      "Epoch 89/100\n",
      "272/272 [==============================] - 0s 740us/step - loss: 2878.3645 - accuracy: 0.2301\n",
      "Epoch 90/100\n",
      "272/272 [==============================] - 0s 740us/step - loss: 2878.3643 - accuracy: 0.2301\n",
      "Epoch 91/100\n",
      "272/272 [==============================] - 0s 747us/step - loss: 2878.3643 - accuracy: 0.2301\n",
      "Epoch 92/100\n",
      "272/272 [==============================] - 0s 712us/step - loss: 2878.3652 - accuracy: 0.2301\n",
      "Epoch 93/100\n",
      "272/272 [==============================] - 0s 714us/step - loss: 2878.3652 - accuracy: 0.2301\n",
      "Epoch 94/100\n",
      "272/272 [==============================] - 0s 955us/step - loss: 2878.3650 - accuracy: 0.2301\n",
      "Epoch 95/100\n",
      "272/272 [==============================] - 0s 707us/step - loss: 2878.3640 - accuracy: 0.2301\n",
      "Epoch 96/100\n",
      "272/272 [==============================] - 0s 758us/step - loss: 2878.3652 - accuracy: 0.2301\n",
      "Epoch 97/100\n",
      "272/272 [==============================] - 0s 758us/step - loss: 2878.3643 - accuracy: 0.2301\n",
      "Epoch 98/100\n",
      "272/272 [==============================] - 0s 747us/step - loss: 2878.3662 - accuracy: 0.2301\n",
      "Epoch 99/100\n",
      "272/272 [==============================] - 0s 759us/step - loss: 2878.3650 - accuracy: 0.2301\n",
      "Epoch 100/100\n",
      "272/272 [==============================] - 0s 725us/step - loss: 2878.3650 - accuracy: 0.2301\n"
     ]
    },
    {
     "data": {
      "text/plain": [
       "<keras.callbacks.History at 0x15a57def6d0>"
      ]
     },
     "execution_count": 220,
     "metadata": {},
     "output_type": "execute_result"
    }
   ],
   "source": [
    "# Define the input and output data\n",
    "X = df.drop(['general', 'environment','social','governance', 'ondernemingsnummer'], axis=1)\n",
    "y = df[['environment','social','governance']]\n",
    "\n",
    "# Train the model\n",
    "model.fit(X, y, epochs=100)"
   ]
  },
  {
   "cell_type": "code",
   "execution_count": 221,
   "metadata": {},
   "outputs": [],
   "source": [
    "from keras.models import load_model\n",
    "model.save('ann-ult-score.h5')\n",
    "ann = load_model('ann-ult-score.h5')"
   ]
  },
  {
   "cell_type": "code",
   "execution_count": 222,
   "metadata": {},
   "outputs": [
    {
     "data": {
      "text/html": [
       "<div>\n",
       "<style scoped>\n",
       "    .dataframe tbody tr th:only-of-type {\n",
       "        vertical-align: middle;\n",
       "    }\n",
       "\n",
       "    .dataframe tbody tr th {\n",
       "        vertical-align: top;\n",
       "    }\n",
       "\n",
       "    .dataframe thead th {\n",
       "        text-align: right;\n",
       "    }\n",
       "</style>\n",
       "<table border=\"1\" class=\"dataframe\">\n",
       "  <thead>\n",
       "    <tr style=\"text-align: right;\">\n",
       "      <th></th>\n",
       "      <th>urban</th>\n",
       "      <th>balanstotaal</th>\n",
       "      <th>omzet</th>\n",
       "      <th>personeelsbestanden</th>\n",
       "      <th>foundingdate</th>\n",
       "    </tr>\n",
       "  </thead>\n",
       "  <tbody>\n",
       "    <tr>\n",
       "      <th>545</th>\n",
       "      <td>0.899990</td>\n",
       "      <td>7511764</td>\n",
       "      <td>33159690</td>\n",
       "      <td>14</td>\n",
       "      <td>17.621918</td>\n",
       "    </tr>\n",
       "    <tr>\n",
       "      <th>2552</th>\n",
       "      <td>0.000000</td>\n",
       "      <td>2711356</td>\n",
       "      <td>0</td>\n",
       "      <td>24</td>\n",
       "      <td>44.542466</td>\n",
       "    </tr>\n",
       "    <tr>\n",
       "      <th>8740</th>\n",
       "      <td>1.050000</td>\n",
       "      <td>18769150</td>\n",
       "      <td>24773295</td>\n",
       "      <td>57</td>\n",
       "      <td>28.008219</td>\n",
       "    </tr>\n",
       "    <tr>\n",
       "      <th>10944</th>\n",
       "      <td>0.426230</td>\n",
       "      <td>5438923</td>\n",
       "      <td>36175537</td>\n",
       "      <td>61</td>\n",
       "      <td>35.301370</td>\n",
       "    </tr>\n",
       "    <tr>\n",
       "      <th>1242</th>\n",
       "      <td>0.190476</td>\n",
       "      <td>16030405</td>\n",
       "      <td>29615904</td>\n",
       "      <td>35</td>\n",
       "      <td>17.846575</td>\n",
       "    </tr>\n",
       "    <tr>\n",
       "      <th>...</th>\n",
       "      <td>...</td>\n",
       "      <td>...</td>\n",
       "      <td>...</td>\n",
       "      <td>...</td>\n",
       "      <td>...</td>\n",
       "    </tr>\n",
       "    <tr>\n",
       "      <th>9546</th>\n",
       "      <td>0.552632</td>\n",
       "      <td>5894783</td>\n",
       "      <td>9734326</td>\n",
       "      <td>37</td>\n",
       "      <td>24.600000</td>\n",
       "    </tr>\n",
       "    <tr>\n",
       "      <th>6665</th>\n",
       "      <td>0.514286</td>\n",
       "      <td>2183552</td>\n",
       "      <td>0</td>\n",
       "      <td>7</td>\n",
       "      <td>13.010959</td>\n",
       "    </tr>\n",
       "    <tr>\n",
       "      <th>7679</th>\n",
       "      <td>0.485714</td>\n",
       "      <td>2173756</td>\n",
       "      <td>4595231</td>\n",
       "      <td>13</td>\n",
       "      <td>46.150685</td>\n",
       "    </tr>\n",
       "    <tr>\n",
       "      <th>1548</th>\n",
       "      <td>1.788591</td>\n",
       "      <td>4557373</td>\n",
       "      <td>7543496</td>\n",
       "      <td>15</td>\n",
       "      <td>108.627397</td>\n",
       "    </tr>\n",
       "    <tr>\n",
       "      <th>7964</th>\n",
       "      <td>0.657222</td>\n",
       "      <td>7069005</td>\n",
       "      <td>0</td>\n",
       "      <td>6</td>\n",
       "      <td>8.983562</td>\n",
       "    </tr>\n",
       "  </tbody>\n",
       "</table>\n",
       "<p>2170 rows × 5 columns</p>\n",
       "</div>"
      ],
      "text/plain": [
       "          urban  balanstotaal     omzet  personeelsbestanden  foundingdate\n",
       "545    0.899990       7511764  33159690                   14     17.621918\n",
       "2552   0.000000       2711356         0                   24     44.542466\n",
       "8740   1.050000      18769150  24773295                   57     28.008219\n",
       "10944  0.426230       5438923  36175537                   61     35.301370\n",
       "1242   0.190476      16030405  29615904                   35     17.846575\n",
       "...         ...           ...       ...                  ...           ...\n",
       "9546   0.552632       5894783   9734326                   37     24.600000\n",
       "6665   0.514286       2183552         0                    7     13.010959\n",
       "7679   0.485714       2173756   4595231                   13     46.150685\n",
       "1548   1.788591       4557373   7543496                   15    108.627397\n",
       "7964   0.657222       7069005         0                    6      8.983562\n",
       "\n",
       "[2170 rows x 5 columns]"
      ]
     },
     "execution_count": 222,
     "metadata": {},
     "output_type": "execute_result"
    }
   ],
   "source": [
    "X_test"
   ]
  },
  {
   "cell_type": "code",
   "execution_count": 235,
   "metadata": {},
   "outputs": [
    {
     "name": "stdout",
     "output_type": "stream",
     "text": [
      "55/55 [==============================] - 0s 591us/step\n"
     ]
    },
    {
     "data": {
      "text/plain": [
       "44.369854"
      ]
     },
     "execution_count": 235,
     "metadata": {},
     "output_type": "execute_result"
    }
   ],
   "source": [
    "y_pred = model.predict(X_test)\n",
    "y_pred[0][0]"
   ]
  },
  {
   "attachments": {},
   "cell_type": "markdown",
   "metadata": {},
   "source": [
    "# ANN: General Score berekenen"
   ]
  },
  {
   "cell_type": "code",
   "execution_count": 237,
   "metadata": {},
   "outputs": [
    {
     "name": "stdout",
     "output_type": "stream",
     "text": [
      "Test loss: 632.874755859375\n"
     ]
    }
   ],
   "source": [
    "import numpy as np\n",
    "import pandas as pd\n",
    "\n",
    "from sklearn.model_selection import train_test_split\n",
    "from sklearn.preprocessing import StandardScaler\n",
    "\n",
    "from keras.models import Sequential\n",
    "from keras.layers import Dense\n",
    "\n",
    "X = df.drop(['general', 'environment','social','governance', 'ondernemingsnummer'], axis=1)\n",
    "y = df['general']\n",
    "\n",
    "X_train, X_test, y_train, y_test = train_test_split(X, y, test_size=0.2, random_state=42)\n",
    "\n",
    "scaler = MinMaxScaler()\n",
    "X_train = scaler.fit_transform(X_train)\n",
    "X_test = scaler.transform(X_test)\n",
    "\n",
    "model = Sequential()\n",
    "model.add(Dense(10, input_dim=X_train.shape[1], activation='relu'))\n",
    "model.add(Dense(1))\n",
    "\n",
    "model.compile(loss='mean_squared_error', optimizer='adam')\n",
    "\n",
    "model.fit(X_train, y_train, epochs=100, batch_size=32, verbose=0)\n",
    "\n",
    "test_loss = model.evaluate(X_test, y_test, verbose=0)\n",
    "print(f'Test loss: {test_loss}')\n"
   ]
  },
  {
   "cell_type": "code",
   "execution_count": 245,
   "metadata": {},
   "outputs": [],
   "source": [
    "from keras.models import load_model\n",
    "model.save('ann-general-score.h5')\n",
    "ann = load_model('ann-general-score.h5')"
   ]
  },
  {
   "cell_type": "code",
   "execution_count": 246,
   "metadata": {},
   "outputs": [
    {
     "name": "stdout",
     "output_type": "stream",
     "text": [
      "1/1 [==============================] - 0s 57ms/step\n",
      "[[37.277664]]\n"
     ]
    },
    {
     "name": "stderr",
     "output_type": "stream",
     "text": [
      "c:\\Users\\Dylan\\AppData\\Local\\Programs\\Python\\Python310\\lib\\site-packages\\sklearn\\base.py:450: UserWarning: X does not have valid feature names, but MinMaxScaler was fitted with feature names\n",
      "  warnings.warn(\n"
     ]
    }
   ],
   "source": [
    "new_data = np.array([[1, 224455, 123687, 12, 43]])\n",
    "new_data = scaler.transform(new_data)\n",
    "prediction = ann.predict(new_data)\n",
    "print(prediction)"
   ]
  },
  {
   "attachments": {},
   "cell_type": "markdown",
   "metadata": {},
   "source": [
    "# E berekenen"
   ]
  },
  {
   "cell_type": "code",
   "execution_count": 227,
   "metadata": {},
   "outputs": [
    {
     "name": "stdout",
     "output_type": "stream",
     "text": [
      "Test loss: 1456.2628173828125\n"
     ]
    }
   ],
   "source": [
    "import numpy as np\n",
    "import pandas as pd\n",
    "\n",
    "from sklearn.model_selection import train_test_split\n",
    "from sklearn.preprocessing import StandardScaler\n",
    "\n",
    "from keras.models import Sequential\n",
    "from keras.layers import Dense\n",
    "\n",
    "X = df.drop(['general', 'environment','social','governance', 'ondernemingsnummer'], axis=1)\n",
    "y = df['environment']\n",
    "\n",
    "X_train, X_test, y_train, y_test = train_test_split(X, y, test_size=0.2, random_state=42)\n",
    "\n",
    "scaler = MinMaxScaler()\n",
    "X_train = scaler.fit_transform(X_train)\n",
    "X_test = scaler.transform(X_test)\n",
    "\n",
    "model = Sequential()\n",
    "model.add(Dense(10, input_dim=X_train.shape[1], activation='relu'))\n",
    "model.add(Dense(1))\n",
    "\n",
    "model.compile(loss='mean_squared_error', optimizer='adam')\n",
    "\n",
    "model.fit(X_train, y_train, epochs=100, batch_size=32, verbose=0)\n",
    "\n",
    "test_loss = model.evaluate(X_test, y_test, verbose=0)\n",
    "print(f'Test loss: {test_loss}')"
   ]
  },
  {
   "cell_type": "code",
   "execution_count": 228,
   "metadata": {},
   "outputs": [],
   "source": [
    "from keras.models import load_model\n",
    "model.save('ann-environment-score.h5')\n",
    "ann = load_model('ann-environment-score.h5')"
   ]
  },
  {
   "cell_type": "code",
   "execution_count": 229,
   "metadata": {},
   "outputs": [
    {
     "name": "stdout",
     "output_type": "stream",
     "text": [
      "1/1 [==============================] - 0s 32ms/step\n",
      "[[28.329458]]\n"
     ]
    },
    {
     "name": "stderr",
     "output_type": "stream",
     "text": [
      "c:\\Users\\Dylan\\AppData\\Local\\Programs\\Python\\Python310\\lib\\site-packages\\sklearn\\base.py:450: UserWarning: X does not have valid feature names, but MinMaxScaler was fitted with feature names\n",
      "  warnings.warn(\n"
     ]
    }
   ],
   "source": [
    "new_data = np.array([[1, 224455, 123687, 12, 43]])\n",
    "new_data = scaler.transform(new_data)\n",
    "prediction = ann.predict(new_data)\n",
    "print(prediction)"
   ]
  },
  {
   "attachments": {},
   "cell_type": "markdown",
   "metadata": {},
   "source": [
    "# S berekenen"
   ]
  },
  {
   "cell_type": "code",
   "execution_count": 230,
   "metadata": {},
   "outputs": [
    {
     "name": "stdout",
     "output_type": "stream",
     "text": [
      "Test loss: 778.2720947265625\n"
     ]
    }
   ],
   "source": [
    "import numpy as np\n",
    "import pandas as pd\n",
    "\n",
    "from sklearn.model_selection import train_test_split\n",
    "from sklearn.preprocessing import StandardScaler\n",
    "\n",
    "from keras.models import Sequential\n",
    "from keras.layers import Dense\n",
    "\n",
    "X = df.drop(['general', 'environment','social','governance', 'ondernemingsnummer'], axis=1)\n",
    "y = df['social']\n",
    "\n",
    "X_train, X_test, y_train, y_test = train_test_split(X, y, test_size=0.2, random_state=42)\n",
    "\n",
    "scaler = MinMaxScaler()\n",
    "X_train = scaler.fit_transform(X_train)\n",
    "X_test = scaler.transform(X_test)\n",
    "\n",
    "model = Sequential()\n",
    "model.add(Dense(10, input_dim=X_train.shape[1], activation='relu'))\n",
    "model.add(Dense(1))\n",
    "\n",
    "model.compile(loss='mean_squared_error', optimizer='adam')\n",
    "\n",
    "model.fit(X_train, y_train, epochs=100, batch_size=32, verbose=0)\n",
    "\n",
    "test_loss = model.evaluate(X_test, y_test, verbose=0)\n",
    "print(f'Test loss: {test_loss}')"
   ]
  },
  {
   "cell_type": "code",
   "execution_count": 231,
   "metadata": {},
   "outputs": [],
   "source": [
    "from keras.models import load_model\n",
    "model.save('ann-social-score.h5')\n",
    "ann = load_model('ann-social-score.h5')"
   ]
  },
  {
   "cell_type": "code",
   "execution_count": 232,
   "metadata": {},
   "outputs": [
    {
     "name": "stdout",
     "output_type": "stream",
     "text": [
      "1/1 [==============================] - 0s 32ms/step\n",
      "[[40.823322]]\n"
     ]
    },
    {
     "name": "stderr",
     "output_type": "stream",
     "text": [
      "c:\\Users\\Dylan\\AppData\\Local\\Programs\\Python\\Python310\\lib\\site-packages\\sklearn\\base.py:450: UserWarning: X does not have valid feature names, but MinMaxScaler was fitted with feature names\n",
      "  warnings.warn(\n"
     ]
    }
   ],
   "source": [
    "new_data = np.array([[1, 224455, 123687, 12, 43]])\n",
    "new_data = scaler.transform(new_data)\n",
    "prediction = ann.predict(new_data)\n",
    "print(prediction)"
   ]
  },
  {
   "attachments": {},
   "cell_type": "markdown",
   "metadata": {},
   "source": [
    "# G berekenen"
   ]
  },
  {
   "cell_type": "code",
   "execution_count": 233,
   "metadata": {},
   "outputs": [
    {
     "name": "stdout",
     "output_type": "stream",
     "text": [
      "Test loss: 784.4097290039062\n"
     ]
    }
   ],
   "source": [
    "import numpy as np\n",
    "import pandas as pd\n",
    "\n",
    "from sklearn.model_selection import train_test_split\n",
    "from sklearn.preprocessing import StandardScaler\n",
    "\n",
    "from keras.models import Sequential\n",
    "from keras.layers import Dense\n",
    "\n",
    "X = df.drop(['general', 'environment','social','governance', 'ondernemingsnummer'], axis=1)\n",
    "y = df['governance']\n",
    "\n",
    "X_train, X_test, y_train, y_test = train_test_split(X, y, test_size=0.2, random_state=42)\n",
    "\n",
    "scaler = MinMaxScaler()\n",
    "X_train = scaler.fit_transform(X_train)\n",
    "X_test = scaler.transform(X_test)\n",
    "\n",
    "model = Sequential()\n",
    "model.add(Dense(10, input_dim=X_train.shape[1], activation='relu'))\n",
    "model.add(Dense(1))\n",
    "\n",
    "model.compile(loss='mean_squared_error', optimizer='adam')\n",
    "\n",
    "model.fit(X_train, y_train, epochs=100, batch_size=32, verbose=0)\n",
    "\n",
    "test_loss = model.evaluate(X_test, y_test, verbose=0)\n",
    "print(f'Test loss: {test_loss}')"
   ]
  },
  {
   "cell_type": "code",
   "execution_count": 234,
   "metadata": {},
   "outputs": [],
   "source": [
    "from keras.models import load_model\n",
    "model.save('ann-governance-score.h5')\n",
    "ann = load_model('ann-governance-score.h5')"
   ]
  }
 ],
 "metadata": {
  "kernelspec": {
   "display_name": "Python 3.10.4 64-bit",
   "language": "python",
   "name": "python3"
  },
  "language_info": {
   "codemirror_mode": {
    "name": "ipython",
    "version": 3
   },
   "file_extension": ".py",
   "mimetype": "text/x-python",
   "name": "python",
   "nbconvert_exporter": "python",
   "pygments_lexer": "ipython3",
   "version": "3.10.4"
  },
  "orig_nbformat": 4,
  "vscode": {
   "interpreter": {
    "hash": "2826aba1e6a86f4d43162759cc60d91502a916d32d010281a6416e3f3957e99a"
   }
  }
 },
 "nbformat": 4,
 "nbformat_minor": 2
}
