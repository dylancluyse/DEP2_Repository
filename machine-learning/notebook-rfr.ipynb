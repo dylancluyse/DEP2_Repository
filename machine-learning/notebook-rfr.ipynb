{
 "cells": [
  {
   "cell_type": "code",
   "execution_count": 1,
   "metadata": {},
   "outputs": [],
   "source": [
    "from pymysql import Connect\n",
    "import pandas as pd\n",
    "import pyodbc, psycopg2\n",
    "\n",
    "db_conn = psycopg2.connect(database=\"depdatabase\", user=\"postgres\", password=\"DaddySzymon123\", host=\"vichogent.be\", port=\"40033\")\n",
    "\n",
    "cursor = db_conn.cursor()\n",
    "\n",
    "cursor.execute(f\"\"\"\n",
    "select * from view_machine_learning_data\n",
    "\"\"\")\n",
    "\n",
    "df = pd.DataFrame(cursor.fetchall(), columns=['ondernemingsnummer', 'urban','balanstotaal','omzet', 'personeelsbestanden', 'foundingdate', 'environment','social','governance', 'general'])"
   ]
  },
  {
   "cell_type": "code",
   "execution_count": 2,
   "metadata": {},
   "outputs": [
    {
     "data": {
      "text/html": [
       "<div>\n",
       "<style scoped>\n",
       "    .dataframe tbody tr th:only-of-type {\n",
       "        vertical-align: middle;\n",
       "    }\n",
       "\n",
       "    .dataframe tbody tr th {\n",
       "        vertical-align: top;\n",
       "    }\n",
       "\n",
       "    .dataframe thead th {\n",
       "        text-align: right;\n",
       "    }\n",
       "</style>\n",
       "<table border=\"1\" class=\"dataframe\">\n",
       "  <thead>\n",
       "    <tr style=\"text-align: right;\">\n",
       "      <th></th>\n",
       "      <th>ondernemingsnummer</th>\n",
       "      <th>urban</th>\n",
       "      <th>balanstotaal</th>\n",
       "      <th>omzet</th>\n",
       "      <th>personeelsbestanden</th>\n",
       "      <th>foundingdate</th>\n",
       "      <th>environment</th>\n",
       "      <th>social</th>\n",
       "      <th>governance</th>\n",
       "      <th>general</th>\n",
       "    </tr>\n",
       "  </thead>\n",
       "  <tbody>\n",
       "    <tr>\n",
       "      <th>0</th>\n",
       "      <td>410917437</td>\n",
       "      <td>0.0</td>\n",
       "      <td>None</td>\n",
       "      <td>None</td>\n",
       "      <td>NaN</td>\n",
       "      <td>1961-03-30</td>\n",
       "      <td>0.0</td>\n",
       "      <td>0.018586</td>\n",
       "      <td>0.029217</td>\n",
       "      <td>0.015934</td>\n",
       "    </tr>\n",
       "    <tr>\n",
       "      <th>1</th>\n",
       "      <td>461056836</td>\n",
       "      <td>1.875</td>\n",
       "      <td>2805793.44</td>\n",
       "      <td>0</td>\n",
       "      <td>10.0</td>\n",
       "      <td>1997-07-07</td>\n",
       "      <td>0.0</td>\n",
       "      <td>0.000000</td>\n",
       "      <td>0.710802</td>\n",
       "      <td>0.236934</td>\n",
       "    </tr>\n",
       "    <tr>\n",
       "      <th>2</th>\n",
       "      <td>219395192</td>\n",
       "      <td>0.8490566037735849</td>\n",
       "      <td>None</td>\n",
       "      <td>None</td>\n",
       "      <td>NaN</td>\n",
       "      <td>1979-02-13</td>\n",
       "      <td>0.0</td>\n",
       "      <td>0.000000</td>\n",
       "      <td>0.633410</td>\n",
       "      <td>0.211137</td>\n",
       "    </tr>\n",
       "    <tr>\n",
       "      <th>3</th>\n",
       "      <td>447763183</td>\n",
       "      <td>1.4137931034482758</td>\n",
       "      <td>478133071.39</td>\n",
       "      <td>2438500.28</td>\n",
       "      <td>10.0</td>\n",
       "      <td>1992-06-30</td>\n",
       "      <td>0.0</td>\n",
       "      <td>0.000000</td>\n",
       "      <td>0.715486</td>\n",
       "      <td>0.238495</td>\n",
       "    </tr>\n",
       "    <tr>\n",
       "      <th>4</th>\n",
       "      <td>432406994</td>\n",
       "      <td>0.6572222</td>\n",
       "      <td>39999869.6</td>\n",
       "      <td>65496051.3</td>\n",
       "      <td>45.0</td>\n",
       "      <td>1987-11-10</td>\n",
       "      <td>0.0</td>\n",
       "      <td>0.000000</td>\n",
       "      <td>0.795257</td>\n",
       "      <td>0.265086</td>\n",
       "    </tr>\n",
       "  </tbody>\n",
       "</table>\n",
       "</div>"
      ],
      "text/plain": [
       "   ondernemingsnummer               urban  balanstotaal       omzet  \\\n",
       "0           410917437                 0.0          None        None   \n",
       "1           461056836               1.875    2805793.44           0   \n",
       "2           219395192  0.8490566037735849          None        None   \n",
       "3           447763183  1.4137931034482758  478133071.39  2438500.28   \n",
       "4           432406994           0.6572222    39999869.6  65496051.3   \n",
       "\n",
       "   personeelsbestanden foundingdate  environment    social  governance  \\\n",
       "0                  NaN   1961-03-30          0.0  0.018586    0.029217   \n",
       "1                 10.0   1997-07-07          0.0  0.000000    0.710802   \n",
       "2                  NaN   1979-02-13          0.0  0.000000    0.633410   \n",
       "3                 10.0   1992-06-30          0.0  0.000000    0.715486   \n",
       "4                 45.0   1987-11-10          0.0  0.000000    0.795257   \n",
       "\n",
       "    general  \n",
       "0  0.015934  \n",
       "1  0.236934  \n",
       "2  0.211137  \n",
       "3  0.238495  \n",
       "4  0.265086  "
      ]
     },
     "execution_count": 2,
     "metadata": {},
     "output_type": "execute_result"
    }
   ],
   "source": [
    "df.head()"
   ]
  },
  {
   "cell_type": "code",
   "execution_count": 3,
   "metadata": {},
   "outputs": [],
   "source": [
    "df = df.dropna()"
   ]
  },
  {
   "cell_type": "code",
   "execution_count": 4,
   "metadata": {},
   "outputs": [
    {
     "data": {
      "text/plain": [
       "8678"
      ]
     },
     "execution_count": 4,
     "metadata": {},
     "output_type": "execute_result"
    }
   ],
   "source": [
    "len(df)"
   ]
  },
  {
   "cell_type": "code",
   "execution_count": 5,
   "metadata": {},
   "outputs": [
    {
     "data": {
      "text/html": [
       "<div>\n",
       "<style scoped>\n",
       "    .dataframe tbody tr th:only-of-type {\n",
       "        vertical-align: middle;\n",
       "    }\n",
       "\n",
       "    .dataframe tbody tr th {\n",
       "        vertical-align: top;\n",
       "    }\n",
       "\n",
       "    .dataframe thead th {\n",
       "        text-align: right;\n",
       "    }\n",
       "</style>\n",
       "<table border=\"1\" class=\"dataframe\">\n",
       "  <thead>\n",
       "    <tr style=\"text-align: right;\">\n",
       "      <th></th>\n",
       "      <th>ondernemingsnummer</th>\n",
       "      <th>urban</th>\n",
       "      <th>balanstotaal</th>\n",
       "      <th>omzet</th>\n",
       "      <th>personeelsbestanden</th>\n",
       "      <th>foundingdate</th>\n",
       "      <th>environment</th>\n",
       "      <th>social</th>\n",
       "      <th>governance</th>\n",
       "      <th>general</th>\n",
       "    </tr>\n",
       "  </thead>\n",
       "  <tbody>\n",
       "    <tr>\n",
       "      <th>1</th>\n",
       "      <td>461056836</td>\n",
       "      <td>1.875</td>\n",
       "      <td>2805793.44</td>\n",
       "      <td>0</td>\n",
       "      <td>10.0</td>\n",
       "      <td>1997-07-07</td>\n",
       "      <td>0.0</td>\n",
       "      <td>0.000000</td>\n",
       "      <td>0.710802</td>\n",
       "      <td>0.236934</td>\n",
       "    </tr>\n",
       "    <tr>\n",
       "      <th>3</th>\n",
       "      <td>447763183</td>\n",
       "      <td>1.4137931034482758</td>\n",
       "      <td>478133071.39</td>\n",
       "      <td>2438500.28</td>\n",
       "      <td>10.0</td>\n",
       "      <td>1992-06-30</td>\n",
       "      <td>0.0</td>\n",
       "      <td>0.000000</td>\n",
       "      <td>0.715486</td>\n",
       "      <td>0.238495</td>\n",
       "    </tr>\n",
       "    <tr>\n",
       "      <th>4</th>\n",
       "      <td>432406994</td>\n",
       "      <td>0.6572222</td>\n",
       "      <td>39999869.6</td>\n",
       "      <td>65496051.3</td>\n",
       "      <td>45.0</td>\n",
       "      <td>1987-11-10</td>\n",
       "      <td>0.0</td>\n",
       "      <td>0.000000</td>\n",
       "      <td>0.795257</td>\n",
       "      <td>0.265086</td>\n",
       "    </tr>\n",
       "    <tr>\n",
       "      <th>5</th>\n",
       "      <td>417609051</td>\n",
       "      <td>0.7692307692307693</td>\n",
       "      <td>26922177.69</td>\n",
       "      <td>50191983.53</td>\n",
       "      <td>66.0</td>\n",
       "      <td>1977-10-13</td>\n",
       "      <td>0.0</td>\n",
       "      <td>0.018586</td>\n",
       "      <td>0.000000</td>\n",
       "      <td>0.006195</td>\n",
       "    </tr>\n",
       "    <tr>\n",
       "      <th>6</th>\n",
       "      <td>432893182</td>\n",
       "      <td>0.2121212121212121</td>\n",
       "      <td>25955521</td>\n",
       "      <td>43827278</td>\n",
       "      <td>18.0</td>\n",
       "      <td>1988-01-04</td>\n",
       "      <td>0.0</td>\n",
       "      <td>0.000000</td>\n",
       "      <td>0.044086</td>\n",
       "      <td>0.014695</td>\n",
       "    </tr>\n",
       "  </tbody>\n",
       "</table>\n",
       "</div>"
      ],
      "text/plain": [
       "   ondernemingsnummer               urban  balanstotaal        omzet  \\\n",
       "1           461056836               1.875    2805793.44            0   \n",
       "3           447763183  1.4137931034482758  478133071.39   2438500.28   \n",
       "4           432406994           0.6572222    39999869.6   65496051.3   \n",
       "5           417609051  0.7692307692307693   26922177.69  50191983.53   \n",
       "6           432893182  0.2121212121212121      25955521     43827278   \n",
       "\n",
       "   personeelsbestanden foundingdate  environment    social  governance  \\\n",
       "1                 10.0   1997-07-07          0.0  0.000000    0.710802   \n",
       "3                 10.0   1992-06-30          0.0  0.000000    0.715486   \n",
       "4                 45.0   1987-11-10          0.0  0.000000    0.795257   \n",
       "5                 66.0   1977-10-13          0.0  0.018586    0.000000   \n",
       "6                 18.0   1988-01-04          0.0  0.000000    0.044086   \n",
       "\n",
       "    general  \n",
       "1  0.236934  \n",
       "3  0.238495  \n",
       "4  0.265086  \n",
       "5  0.006195  \n",
       "6  0.014695  "
      ]
     },
     "execution_count": 5,
     "metadata": {},
     "output_type": "execute_result"
    }
   ],
   "source": [
    "df.head()"
   ]
  },
  {
   "cell_type": "code",
   "execution_count": 6,
   "metadata": {},
   "outputs": [],
   "source": [
    "df['omzet'] = df['omzet'].astype('int64')\n",
    "df['balanstotaal'] = df['balanstotaal'].astype('int64')\n",
    "df['personeelsbestanden'] = df['personeelsbestanden'].astype('int64')\n",
    "df['urban'] = df['urban'].astype('float64')\n",
    "df['foundingdate'] = (pd.Timestamp.now() - pd.to_datetime(df['foundingdate'], format=\"%Y-%m-%d\")).dt.days / 365\n",
    "df['environment'] = df['environment'].astype('float64')\n",
    "df['social'] = df['social'].astype('float64')\n",
    "df['governance'] = df['governance'].astype('float64')\n",
    "df['general'] = df['general'].astype('float64')"
   ]
  },
  {
   "cell_type": "code",
   "execution_count": 7,
   "metadata": {},
   "outputs": [],
   "source": [
    "df['environment'] = df['environment'] * 100\n",
    "df['social'] = df['social'] * 100\n",
    "df['governance'] = df['governance'] * 100\n",
    "df['general'] = df['general'] * 100"
   ]
  },
  {
   "cell_type": "code",
   "execution_count": 8,
   "metadata": {},
   "outputs": [
    {
     "data": {
      "text/plain": [
       "ondernemingsnummer       int64\n",
       "urban                  float64\n",
       "balanstotaal             int64\n",
       "omzet                    int64\n",
       "personeelsbestanden      int64\n",
       "foundingdate           float64\n",
       "environment            float64\n",
       "social                 float64\n",
       "governance             float64\n",
       "general                float64\n",
       "dtype: object"
      ]
     },
     "execution_count": 8,
     "metadata": {},
     "output_type": "execute_result"
    }
   ],
   "source": [
    "df.dtypes"
   ]
  },
  {
   "cell_type": "code",
   "execution_count": 9,
   "metadata": {},
   "outputs": [
    {
     "data": {
      "text/plain": [
       "8678"
      ]
     },
     "execution_count": 9,
     "metadata": {},
     "output_type": "execute_result"
    }
   ],
   "source": [
    "len(df)"
   ]
  },
  {
   "cell_type": "code",
   "execution_count": 10,
   "metadata": {},
   "outputs": [
    {
     "name": "stdout",
     "output_type": "stream",
     "text": [
      "capping ondernemingsnummer\n",
      "capping urban\n",
      "capping balanstotaal\n",
      "capping omzet\n",
      "capping personeelsbestanden\n",
      "capping foundingdate\n",
      "capping environment\n",
      "capping social\n",
      "capping governance\n",
      "capping general\n"
     ]
    },
    {
     "name": "stderr",
     "output_type": "stream",
     "text": [
      "C:\\Users\\dylan\\AppData\\Local\\Temp\\ipykernel_16032\\4078108386.py:7: SettingWithCopyWarning: \n",
      "A value is trying to be set on a copy of a slice from a DataFrame\n",
      "\n",
      "See the caveats in the documentation: https://pandas.pydata.org/pandas-docs/stable/user_guide/indexing.html#returning-a-view-versus-a-copy\n",
      "  df[col][df[col] <= percentiles[0]] = percentiles[0]\n",
      "C:\\Users\\dylan\\AppData\\Local\\Temp\\ipykernel_16032\\4078108386.py:7: SettingWithCopyWarning: \n",
      "A value is trying to be set on a copy of a slice from a DataFrame\n",
      "\n",
      "See the caveats in the documentation: https://pandas.pydata.org/pandas-docs/stable/user_guide/indexing.html#returning-a-view-versus-a-copy\n",
      "  df[col][df[col] <= percentiles[0]] = percentiles[0]\n",
      "C:\\Users\\dylan\\AppData\\Local\\Temp\\ipykernel_16032\\4078108386.py:8: SettingWithCopyWarning: \n",
      "A value is trying to be set on a copy of a slice from a DataFrame\n",
      "\n",
      "See the caveats in the documentation: https://pandas.pydata.org/pandas-docs/stable/user_guide/indexing.html#returning-a-view-versus-a-copy\n",
      "  df[col][df[col] >= percentiles[1]] = percentiles[1]\n",
      "C:\\Users\\dylan\\AppData\\Local\\Temp\\ipykernel_16032\\4078108386.py:7: SettingWithCopyWarning: \n",
      "A value is trying to be set on a copy of a slice from a DataFrame\n",
      "\n",
      "See the caveats in the documentation: https://pandas.pydata.org/pandas-docs/stable/user_guide/indexing.html#returning-a-view-versus-a-copy\n",
      "  df[col][df[col] <= percentiles[0]] = percentiles[0]\n",
      "C:\\Users\\dylan\\AppData\\Local\\Temp\\ipykernel_16032\\4078108386.py:8: SettingWithCopyWarning: \n",
      "A value is trying to be set on a copy of a slice from a DataFrame\n",
      "\n",
      "See the caveats in the documentation: https://pandas.pydata.org/pandas-docs/stable/user_guide/indexing.html#returning-a-view-versus-a-copy\n",
      "  df[col][df[col] >= percentiles[1]] = percentiles[1]\n",
      "C:\\Users\\dylan\\AppData\\Local\\Temp\\ipykernel_16032\\4078108386.py:7: SettingWithCopyWarning: \n",
      "A value is trying to be set on a copy of a slice from a DataFrame\n",
      "\n",
      "See the caveats in the documentation: https://pandas.pydata.org/pandas-docs/stable/user_guide/indexing.html#returning-a-view-versus-a-copy\n",
      "  df[col][df[col] <= percentiles[0]] = percentiles[0]\n",
      "C:\\Users\\dylan\\AppData\\Local\\Temp\\ipykernel_16032\\4078108386.py:8: SettingWithCopyWarning: \n",
      "A value is trying to be set on a copy of a slice from a DataFrame\n",
      "\n",
      "See the caveats in the documentation: https://pandas.pydata.org/pandas-docs/stable/user_guide/indexing.html#returning-a-view-versus-a-copy\n",
      "  df[col][df[col] >= percentiles[1]] = percentiles[1]\n",
      "C:\\Users\\dylan\\AppData\\Local\\Temp\\ipykernel_16032\\4078108386.py:7: SettingWithCopyWarning: \n",
      "A value is trying to be set on a copy of a slice from a DataFrame\n",
      "\n",
      "See the caveats in the documentation: https://pandas.pydata.org/pandas-docs/stable/user_guide/indexing.html#returning-a-view-versus-a-copy\n",
      "  df[col][df[col] <= percentiles[0]] = percentiles[0]\n",
      "C:\\Users\\dylan\\AppData\\Local\\Temp\\ipykernel_16032\\4078108386.py:8: SettingWithCopyWarning: \n",
      "A value is trying to be set on a copy of a slice from a DataFrame\n",
      "\n",
      "See the caveats in the documentation: https://pandas.pydata.org/pandas-docs/stable/user_guide/indexing.html#returning-a-view-versus-a-copy\n",
      "  df[col][df[col] >= percentiles[1]] = percentiles[1]\n",
      "C:\\Users\\dylan\\AppData\\Local\\Temp\\ipykernel_16032\\4078108386.py:7: SettingWithCopyWarning: \n",
      "A value is trying to be set on a copy of a slice from a DataFrame\n",
      "\n",
      "See the caveats in the documentation: https://pandas.pydata.org/pandas-docs/stable/user_guide/indexing.html#returning-a-view-versus-a-copy\n",
      "  df[col][df[col] <= percentiles[0]] = percentiles[0]\n",
      "C:\\Users\\dylan\\AppData\\Local\\Temp\\ipykernel_16032\\4078108386.py:8: SettingWithCopyWarning: \n",
      "A value is trying to be set on a copy of a slice from a DataFrame\n",
      "\n",
      "See the caveats in the documentation: https://pandas.pydata.org/pandas-docs/stable/user_guide/indexing.html#returning-a-view-versus-a-copy\n",
      "  df[col][df[col] >= percentiles[1]] = percentiles[1]\n",
      "C:\\Users\\dylan\\AppData\\Local\\Temp\\ipykernel_16032\\4078108386.py:7: SettingWithCopyWarning: \n",
      "A value is trying to be set on a copy of a slice from a DataFrame\n",
      "\n",
      "See the caveats in the documentation: https://pandas.pydata.org/pandas-docs/stable/user_guide/indexing.html#returning-a-view-versus-a-copy\n",
      "  df[col][df[col] <= percentiles[0]] = percentiles[0]\n",
      "C:\\Users\\dylan\\AppData\\Local\\Temp\\ipykernel_16032\\4078108386.py:8: SettingWithCopyWarning: \n",
      "A value is trying to be set on a copy of a slice from a DataFrame\n",
      "\n",
      "See the caveats in the documentation: https://pandas.pydata.org/pandas-docs/stable/user_guide/indexing.html#returning-a-view-versus-a-copy\n",
      "  df[col][df[col] >= percentiles[1]] = percentiles[1]\n",
      "C:\\Users\\dylan\\AppData\\Local\\Temp\\ipykernel_16032\\4078108386.py:7: SettingWithCopyWarning: \n",
      "A value is trying to be set on a copy of a slice from a DataFrame\n",
      "\n",
      "See the caveats in the documentation: https://pandas.pydata.org/pandas-docs/stable/user_guide/indexing.html#returning-a-view-versus-a-copy\n",
      "  df[col][df[col] <= percentiles[0]] = percentiles[0]\n",
      "C:\\Users\\dylan\\AppData\\Local\\Temp\\ipykernel_16032\\4078108386.py:8: SettingWithCopyWarning: \n",
      "A value is trying to be set on a copy of a slice from a DataFrame\n",
      "\n",
      "See the caveats in the documentation: https://pandas.pydata.org/pandas-docs/stable/user_guide/indexing.html#returning-a-view-versus-a-copy\n",
      "  df[col][df[col] >= percentiles[1]] = percentiles[1]\n",
      "C:\\Users\\dylan\\AppData\\Local\\Temp\\ipykernel_16032\\4078108386.py:7: SettingWithCopyWarning: \n",
      "A value is trying to be set on a copy of a slice from a DataFrame\n",
      "\n",
      "See the caveats in the documentation: https://pandas.pydata.org/pandas-docs/stable/user_guide/indexing.html#returning-a-view-versus-a-copy\n",
      "  df[col][df[col] <= percentiles[0]] = percentiles[0]\n",
      "C:\\Users\\dylan\\AppData\\Local\\Temp\\ipykernel_16032\\4078108386.py:8: SettingWithCopyWarning: \n",
      "A value is trying to be set on a copy of a slice from a DataFrame\n",
      "\n",
      "See the caveats in the documentation: https://pandas.pydata.org/pandas-docs/stable/user_guide/indexing.html#returning-a-view-versus-a-copy\n",
      "  df[col][df[col] >= percentiles[1]] = percentiles[1]\n",
      "C:\\Users\\dylan\\AppData\\Local\\Temp\\ipykernel_16032\\4078108386.py:7: SettingWithCopyWarning: \n",
      "A value is trying to be set on a copy of a slice from a DataFrame\n",
      "\n",
      "See the caveats in the documentation: https://pandas.pydata.org/pandas-docs/stable/user_guide/indexing.html#returning-a-view-versus-a-copy\n",
      "  df[col][df[col] <= percentiles[0]] = percentiles[0]\n",
      "C:\\Users\\dylan\\AppData\\Local\\Temp\\ipykernel_16032\\4078108386.py:8: SettingWithCopyWarning: \n",
      "A value is trying to be set on a copy of a slice from a DataFrame\n",
      "\n",
      "See the caveats in the documentation: https://pandas.pydata.org/pandas-docs/stable/user_guide/indexing.html#returning-a-view-versus-a-copy\n",
      "  df[col][df[col] >= percentiles[1]] = percentiles[1]\n"
     ]
    }
   ],
   "source": [
    "numerical_ix = df.select_dtypes(include=['int32','int64','float64']).columns\n",
    "\n",
    "for col in numerical_ix:\n",
    "        print(\"capping\",col)\n",
    "        if (((df[col].dtype)=='float64') | ((df[col].dtype)=='int64')):\n",
    "            percentiles = df[col].quantile([0.20,0.80]).values\n",
    "            df[col][df[col] <= percentiles[0]] = percentiles[0]\n",
    "            df[col][df[col] >= percentiles[1]] = percentiles[1]\n",
    "        else:\n",
    "            df[col]=df[col]\n",
    "\n"
   ]
  },
  {
   "cell_type": "code",
   "execution_count": 11,
   "metadata": {},
   "outputs": [
    {
     "data": {
      "text/html": [
       "<div>\n",
       "<style scoped>\n",
       "    .dataframe tbody tr th:only-of-type {\n",
       "        vertical-align: middle;\n",
       "    }\n",
       "\n",
       "    .dataframe tbody tr th {\n",
       "        vertical-align: top;\n",
       "    }\n",
       "\n",
       "    .dataframe thead th {\n",
       "        text-align: right;\n",
       "    }\n",
       "</style>\n",
       "<table border=\"1\" class=\"dataframe\">\n",
       "  <thead>\n",
       "    <tr style=\"text-align: right;\">\n",
       "      <th></th>\n",
       "      <th>ondernemingsnummer</th>\n",
       "      <th>urban</th>\n",
       "      <th>balanstotaal</th>\n",
       "      <th>omzet</th>\n",
       "      <th>personeelsbestanden</th>\n",
       "      <th>foundingdate</th>\n",
       "      <th>environment</th>\n",
       "      <th>social</th>\n",
       "      <th>governance</th>\n",
       "      <th>general</th>\n",
       "    </tr>\n",
       "  </thead>\n",
       "  <tbody>\n",
       "    <tr>\n",
       "      <th>1</th>\n",
       "      <td>461056836.0</td>\n",
       "      <td>1.443299</td>\n",
       "      <td>2850100.0</td>\n",
       "      <td>0.0</td>\n",
       "      <td>11</td>\n",
       "      <td>25.468493</td>\n",
       "      <td>1.813992</td>\n",
       "      <td>13.262954</td>\n",
       "      <td>71.080217</td>\n",
       "      <td>23.693406</td>\n",
       "    </tr>\n",
       "    <tr>\n",
       "      <th>3</th>\n",
       "      <td>447763183.0</td>\n",
       "      <td>1.413793</td>\n",
       "      <td>14182106.8</td>\n",
       "      <td>2438500.0</td>\n",
       "      <td>11</td>\n",
       "      <td>30.490411</td>\n",
       "      <td>1.813992</td>\n",
       "      <td>13.262954</td>\n",
       "      <td>71.548584</td>\n",
       "      <td>23.849528</td>\n",
       "    </tr>\n",
       "    <tr>\n",
       "      <th>4</th>\n",
       "      <td>432406994.0</td>\n",
       "      <td>0.657222</td>\n",
       "      <td>14182106.8</td>\n",
       "      <td>17442096.6</td>\n",
       "      <td>43</td>\n",
       "      <td>35.131507</td>\n",
       "      <td>1.813992</td>\n",
       "      <td>13.262954</td>\n",
       "      <td>79.525686</td>\n",
       "      <td>26.508562</td>\n",
       "    </tr>\n",
       "    <tr>\n",
       "      <th>5</th>\n",
       "      <td>417691699.2</td>\n",
       "      <td>0.769231</td>\n",
       "      <td>14182106.8</td>\n",
       "      <td>17442096.6</td>\n",
       "      <td>43</td>\n",
       "      <td>45.100822</td>\n",
       "      <td>1.813992</td>\n",
       "      <td>13.262954</td>\n",
       "      <td>19.656531</td>\n",
       "      <td>16.722425</td>\n",
       "    </tr>\n",
       "    <tr>\n",
       "      <th>6</th>\n",
       "      <td>432893182.0</td>\n",
       "      <td>0.514286</td>\n",
       "      <td>14182106.8</td>\n",
       "      <td>17442096.6</td>\n",
       "      <td>18</td>\n",
       "      <td>34.980822</td>\n",
       "      <td>1.813992</td>\n",
       "      <td>13.262954</td>\n",
       "      <td>19.656531</td>\n",
       "      <td>16.722425</td>\n",
       "    </tr>\n",
       "  </tbody>\n",
       "</table>\n",
       "</div>"
      ],
      "text/plain": [
       "   ondernemingsnummer     urban  balanstotaal       omzet  \\\n",
       "1         461056836.0  1.443299     2850100.0         0.0   \n",
       "3         447763183.0  1.413793    14182106.8   2438500.0   \n",
       "4         432406994.0  0.657222    14182106.8  17442096.6   \n",
       "5         417691699.2  0.769231    14182106.8  17442096.6   \n",
       "6         432893182.0  0.514286    14182106.8  17442096.6   \n",
       "\n",
       "   personeelsbestanden  foundingdate  environment     social  governance  \\\n",
       "1                   11     25.468493     1.813992  13.262954   71.080217   \n",
       "3                   11     30.490411     1.813992  13.262954   71.548584   \n",
       "4                   43     35.131507     1.813992  13.262954   79.525686   \n",
       "5                   43     45.100822     1.813992  13.262954   19.656531   \n",
       "6                   18     34.980822     1.813992  13.262954   19.656531   \n",
       "\n",
       "     general  \n",
       "1  23.693406  \n",
       "3  23.849528  \n",
       "4  26.508562  \n",
       "5  16.722425  \n",
       "6  16.722425  "
      ]
     },
     "execution_count": 11,
     "metadata": {},
     "output_type": "execute_result"
    }
   ],
   "source": [
    "df.head()"
   ]
  },
  {
   "cell_type": "code",
   "execution_count": 12,
   "metadata": {},
   "outputs": [
    {
     "data": {
      "text/plain": [
       "8678"
      ]
     },
     "execution_count": 12,
     "metadata": {},
     "output_type": "execute_result"
    }
   ],
   "source": [
    "len(df)"
   ]
  },
  {
   "cell_type": "code",
   "execution_count": 13,
   "metadata": {},
   "outputs": [
    {
     "data": {
      "text/plain": [
       "<AxesSubplot: xlabel='balanstotaal'>"
      ]
     },
     "execution_count": 13,
     "metadata": {},
     "output_type": "execute_result"
    },
    {
     "data": {
      "image/png": "[encoded data removed]",
      "text/plain": [
       "<Figure size 640x480 with 1 Axes>"
      ]
     },
     "metadata": {},
     "output_type": "display_data"
    }
   ],
   "source": [
    "import seaborn as sns\n",
    "sns.boxplot(data=df, x='balanstotaal')"
   ]
  },
  {
   "cell_type": "code",
   "execution_count": 14,
   "metadata": {},
   "outputs": [
    {
     "data": {
      "text/plain": [
       "<AxesSubplot: xlabel='omzet'>"
      ]
     },
     "execution_count": 14,
     "metadata": {},
     "output_type": "execute_result"
    },
    {
     "data": {
      "image/png": "[encoded data removed]",
      "text/plain": [
       "<Figure size 640x480 with 1 Axes>"
      ]
     },
     "metadata": {},
     "output_type": "display_data"
    }
   ],
   "source": [
    "sns.boxplot(data=df, x='omzet')"
   ]
  },
  {
   "cell_type": "code",
   "execution_count": 15,
   "metadata": {},
   "outputs": [
    {
     "data": {
      "text/plain": [
       "<AxesSubplot: xlabel='personeelsbestanden'>"
      ]
     },
     "execution_count": 15,
     "metadata": {},
     "output_type": "execute_result"
    },
    {
     "data": {
      "image/png": "[encoded data removed]",
      "text/plain": [
       "<Figure size 640x480 with 1 Axes>"
      ]
     },
     "metadata": {},
     "output_type": "display_data"
    }
   ],
   "source": [
    "sns.boxplot(data=df, x='personeelsbestanden')"
   ]
  },
  {
   "cell_type": "code",
   "execution_count": 16,
   "metadata": {},
   "outputs": [],
   "source": [
    "X = df.drop(['general', 'environment','social','governance', 'ondernemingsnummer'], axis=1)\n",
    "y = df['general']\n",
    "\n",
    "from sklearn.model_selection import train_test_split\n",
    "X_train,X_test,y_train,y_test = train_test_split(X,y,random_state=42)"
   ]
  },
  {
   "cell_type": "code",
   "execution_count": 17,
   "metadata": {},
   "outputs": [],
   "source": [
    "from sklearn.pipeline import Pipeline\n",
    "from sklearn.preprocessing import MinMaxScaler\n",
    "from sklearn.compose import ColumnTransformer\n",
    "\n",
    "numerical_ix = X.select_dtypes(include=['int32','int64','float64']).columns\n",
    "\n",
    "col_transform = ColumnTransformer(transformers=[\n",
    "    ('minmax',MinMaxScaler(), numerical_ix),\n",
    "])"
   ]
  },
  {
   "cell_type": "code",
   "execution_count": 18,
   "metadata": {},
   "outputs": [
    {
     "data": {
      "text/plain": [
       "(16.666999999999998, 22.132]    2790\n",
       "(65.408, 70.818]                2038\n",
       "(38.36, 43.77]                   717\n",
       "(43.77, 49.179]                  620\n",
       "(22.132, 27.541]                 541\n",
       "(32.951, 38.36]                  540\n",
       "(49.179, 54.589]                 474\n",
       "(54.589, 59.999]                 382\n",
       "(27.541, 32.951]                 307\n",
       "(59.999, 65.408]                 269\n",
       "Name: general, dtype: int64"
      ]
     },
     "execution_count": 18,
     "metadata": {},
     "output_type": "execute_result"
    }
   ],
   "source": [
    "df['general'].value_counts(bins=10)"
   ]
  },
  {
   "cell_type": "code",
   "execution_count": 19,
   "metadata": {},
   "outputs": [
    {
     "data": {
      "text/plain": [
       "<AxesSubplot: xlabel='general', ylabel='Count'>"
      ]
     },
     "execution_count": 19,
     "metadata": {},
     "output_type": "execute_result"
    },
    {
     "data": {
      "image/png": "[encoded data removed]",
      "text/plain": [
       "<Figure size 640x480 with 1 Axes>"
      ]
     },
     "metadata": {},
     "output_type": "display_data"
    }
   ],
   "source": [
    "import seaborn as sns\n",
    "sns.histplot(data=df, x='general', bins=10)"
   ]
  },
  {
   "cell_type": "code",
   "execution_count": 20,
   "metadata": {},
   "outputs": [],
   "source": [
    "under_30 = df[df['general'] < 30]\n",
    "under_30 = under_30.sample(n=500)\n",
    "middle = df[(df['general'] >= 30) & (df['general'] <= 65)]\n",
    "above_65 = df[df['general'] > 65]\n",
    "above_65 = above_65.sample(n=500)"
   ]
  },
  {
   "cell_type": "code",
   "execution_count": 21,
   "metadata": {},
   "outputs": [
    {
     "name": "stdout",
     "output_type": "stream",
     "text": [
      "500 3162 500\n"
     ]
    }
   ],
   "source": [
    "print(len(under_30), len(middle), len(above_65))"
   ]
  },
  {
   "cell_type": "code",
   "execution_count": 22,
   "metadata": {},
   "outputs": [],
   "source": [
    "df = pd.concat([under_30, middle, above_65])"
   ]
  },
  {
   "cell_type": "code",
   "execution_count": 23,
   "metadata": {},
   "outputs": [
    {
     "data": {
      "text/plain": [
       "<AxesSubplot: xlabel='general', ylabel='Count'>"
      ]
     },
     "execution_count": 23,
     "metadata": {},
     "output_type": "execute_result"
    },
    {
     "data": {
      "image/png": "[encoded data removed]",
      "text/plain": [
       "<Figure size 640x480 with 1 Axes>"
      ]
     },
     "metadata": {},
     "output_type": "display_data"
    }
   ],
   "source": [
    "sns.histplot(data=df, x='general', bins=10)"
   ]
  },
  {
   "cell_type": "code",
   "execution_count": 24,
   "metadata": {},
   "outputs": [
    {
     "data": {
      "text/html": [
       "<div>\n",
       "<style scoped>\n",
       "    .dataframe tbody tr th:only-of-type {\n",
       "        vertical-align: middle;\n",
       "    }\n",
       "\n",
       "    .dataframe tbody tr th {\n",
       "        vertical-align: top;\n",
       "    }\n",
       "\n",
       "    .dataframe thead th {\n",
       "        text-align: right;\n",
       "    }\n",
       "</style>\n",
       "<table border=\"1\" class=\"dataframe\">\n",
       "  <thead>\n",
       "    <tr style=\"text-align: right;\">\n",
       "      <th></th>\n",
       "      <th>urban</th>\n",
       "      <th>balanstotaal</th>\n",
       "      <th>omzet</th>\n",
       "      <th>personeelsbestanden</th>\n",
       "      <th>foundingdate</th>\n",
       "    </tr>\n",
       "  </thead>\n",
       "  <tbody>\n",
       "    <tr>\n",
       "      <th>1</th>\n",
       "      <td>1.443299</td>\n",
       "      <td>2850100.0</td>\n",
       "      <td>0.0</td>\n",
       "      <td>11</td>\n",
       "      <td>25.468493</td>\n",
       "    </tr>\n",
       "    <tr>\n",
       "      <th>3</th>\n",
       "      <td>1.413793</td>\n",
       "      <td>14182106.8</td>\n",
       "      <td>2438500.0</td>\n",
       "      <td>11</td>\n",
       "      <td>30.490411</td>\n",
       "    </tr>\n",
       "    <tr>\n",
       "      <th>4</th>\n",
       "      <td>0.657222</td>\n",
       "      <td>14182106.8</td>\n",
       "      <td>17442096.6</td>\n",
       "      <td>43</td>\n",
       "      <td>35.131507</td>\n",
       "    </tr>\n",
       "    <tr>\n",
       "      <th>5</th>\n",
       "      <td>0.769231</td>\n",
       "      <td>14182106.8</td>\n",
       "      <td>17442096.6</td>\n",
       "      <td>43</td>\n",
       "      <td>45.100822</td>\n",
       "    </tr>\n",
       "    <tr>\n",
       "      <th>6</th>\n",
       "      <td>0.514286</td>\n",
       "      <td>14182106.8</td>\n",
       "      <td>17442096.6</td>\n",
       "      <td>18</td>\n",
       "      <td>34.980822</td>\n",
       "    </tr>\n",
       "    <tr>\n",
       "      <th>...</th>\n",
       "      <td>...</td>\n",
       "      <td>...</td>\n",
       "      <td>...</td>\n",
       "      <td>...</td>\n",
       "      <td>...</td>\n",
       "    </tr>\n",
       "    <tr>\n",
       "      <th>12625</th>\n",
       "      <td>1.442786</td>\n",
       "      <td>14182106.8</td>\n",
       "      <td>17442096.6</td>\n",
       "      <td>43</td>\n",
       "      <td>43.994521</td>\n",
       "    </tr>\n",
       "    <tr>\n",
       "      <th>12627</th>\n",
       "      <td>0.819672</td>\n",
       "      <td>6665510.0</td>\n",
       "      <td>17442096.6</td>\n",
       "      <td>20</td>\n",
       "      <td>41.923288</td>\n",
       "    </tr>\n",
       "    <tr>\n",
       "      <th>12628</th>\n",
       "      <td>0.849057</td>\n",
       "      <td>14182106.8</td>\n",
       "      <td>9373091.0</td>\n",
       "      <td>43</td>\n",
       "      <td>45.100822</td>\n",
       "    </tr>\n",
       "    <tr>\n",
       "      <th>12629</th>\n",
       "      <td>1.283019</td>\n",
       "      <td>14182106.8</td>\n",
       "      <td>0.0</td>\n",
       "      <td>13</td>\n",
       "      <td>45.100822</td>\n",
       "    </tr>\n",
       "    <tr>\n",
       "      <th>12630</th>\n",
       "      <td>0.657222</td>\n",
       "      <td>14182106.8</td>\n",
       "      <td>17442096.6</td>\n",
       "      <td>43</td>\n",
       "      <td>45.100822</td>\n",
       "    </tr>\n",
       "  </tbody>\n",
       "</table>\n",
       "<p>8678 rows × 5 columns</p>\n",
       "</div>"
      ],
      "text/plain": [
       "          urban  balanstotaal       omzet  personeelsbestanden  foundingdate\n",
       "1      1.443299     2850100.0         0.0                   11     25.468493\n",
       "3      1.413793    14182106.8   2438500.0                   11     30.490411\n",
       "4      0.657222    14182106.8  17442096.6                   43     35.131507\n",
       "5      0.769231    14182106.8  17442096.6                   43     45.100822\n",
       "6      0.514286    14182106.8  17442096.6                   18     34.980822\n",
       "...         ...           ...         ...                  ...           ...\n",
       "12625  1.442786    14182106.8  17442096.6                   43     43.994521\n",
       "12627  0.819672     6665510.0  17442096.6                   20     41.923288\n",
       "12628  0.849057    14182106.8   9373091.0                   43     45.100822\n",
       "12629  1.283019    14182106.8         0.0                   13     45.100822\n",
       "12630  0.657222    14182106.8  17442096.6                   43     45.100822\n",
       "\n",
       "[8678 rows x 5 columns]"
      ]
     },
     "execution_count": 24,
     "metadata": {},
     "output_type": "execute_result"
    }
   ],
   "source": [
    "X"
   ]
  },
  {
   "cell_type": "code",
   "execution_count": 24,
   "metadata": {},
   "outputs": [],
   "source": [
    "X = df.drop(['general', 'environment','social','governance', 'ondernemingsnummer'], axis=1)\n",
    "y = df['general']\n",
    "\n",
    "from sklearn.model_selection import train_test_split\n",
    "X_train,X_test,y_train,y_test = train_test_split(X,y,random_state=42)"
   ]
  },
  {
   "cell_type": "code",
   "execution_count": 27,
   "metadata": {},
   "outputs": [
    {
     "name": "stdout",
     "output_type": "stream",
     "text": [
      "Fitting 3 folds for each of 288 candidates, totalling 864 fits\n",
      "{'bootstrap': True, 'max_depth': 90, 'max_features': 2, 'min_samples_leaf': 5, 'min_samples_split': 12, 'n_estimators': 1000}\n",
      "0.12521497056666184\n"
     ]
    }
   ],
   "source": [
    "from sklearn.ensemble import RandomForestRegressor\n",
    "from sklearn.model_selection import GridSearchCV\n",
    "from sklearn.pipeline import Pipeline\n",
    "from sklearn.preprocessing import MinMaxScaler\n",
    "\n",
    "# Create the parameter grid based on the results of random search \n",
    "param_grid = {\n",
    "    'bootstrap': [True],\n",
    "    'max_depth': [80, 90, 100, 110],\n",
    "    'max_features': [2, 3],\n",
    "    'min_samples_leaf': [3, 4, 5],\n",
    "    'min_samples_split': [8, 10, 12],\n",
    "    'n_estimators': [100, 200, 300, 1000]\n",
    "}\n",
    "\n",
    "# Create the pipeline\n",
    "pipeline = Pipeline([\n",
    "    ('minmaxscaler', MinMaxScaler()),\n",
    "    ('gridsearch', GridSearchCV(estimator = RandomForestRegressor(), \n",
    "        param_grid = param_grid, scoring='neg_mean_squared_error', \n",
    "        cv = 3, n_jobs = -1, verbose = 2))\n",
    "])\n",
    "\n",
    "# Fit the pipeline to the data\n",
    "pipeline.fit(X_train, y_train)\n",
    "\n",
    "# Print the best parameters and the best score\n",
    "print(pipeline.named_steps['gridsearch'].best_params_)\n",
    "print(pipeline.named_steps['gridsearch'].best_score_)\n"
   ]
  },
  {
   "cell_type": "code",
   "execution_count": 34,
   "metadata": {},
   "outputs": [
    {
     "name": "stdout",
     "output_type": "stream",
     "text": [
      "MSE: 199.67043076644708\n",
      "MAE: 11.418227114626735\n"
     ]
    }
   ],
   "source": [
    "from sklearn.metrics import mean_squared_error\n",
    "from sklearn.metrics import mean_absolute_error\n",
    "y_pred = pipeline.predict(X_test)\n",
    "\n",
    "mse = mean_squared_error(y_test, y_pred)\n",
    "print(f'MSE: {mse}')\n",
    "\n",
    "mae = mean_absolute_error(y_test, y_pred)\n",
    "print(f'MAE: {mae}')"
   ]
  },
  {
   "cell_type": "code",
   "execution_count": 30,
   "metadata": {},
   "outputs": [],
   "source": [
    "import pickle\n",
    "with open(\"rfr-general-score.pkl\", \"wb\") as f:\n",
    "    pickle.dump(pipeline, f)"
   ]
  },
  {
   "cell_type": "code",
   "execution_count": 31,
   "metadata": {},
   "outputs": [
    {
     "data": {
      "text/plain": [
       "array([37.27128748, 42.88275887, 46.25698274, ..., 41.76596391,\n",
       "       45.007138  , 46.9660528 ])"
      ]
     },
     "execution_count": 31,
     "metadata": {},
     "output_type": "execute_result"
    }
   ],
   "source": []
  }
 ],
 "metadata": {
  "kernelspec": {
   "display_name": "Python 3",
   "language": "python",
   "name": "python3"
  },
  "language_info": {
   "codemirror_mode": {
    "name": "ipython",
    "version": 3
   },
   "file_extension": ".py",
   "mimetype": "text/x-python",
   "name": "python",
   "nbconvert_exporter": "python",
   "pygments_lexer": "ipython3",
   "version": "3.10.9 (tags/v3.10.9:1dd9be6, Dec  6 2022, 20:01:21) [MSC v.1934 64 bit (AMD64)]"
  },
  "orig_nbformat": 4,
  "vscode": {
   "interpreter": {
    "hash": "89da10480825c8ad24c96d10788e772e9a68ac77e314b3c42d655a8c40ed70a5"
   }
  }
 },
 "nbformat": 4,
 "nbformat_minor": 2
}
