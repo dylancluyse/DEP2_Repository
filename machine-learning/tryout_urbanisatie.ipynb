{
 "cells": [
  {
   "attachments": {},
   "cell_type": "markdown",
   "metadata": {},
   "source": [
    "# Ophalen verstedelijkingsfactor\n",
    "\n",
    "Voor het ophalen van de verstedelijkingsfactor zochten we naar een open dataset. Op de site van Geopunt vonden we een dataset dat per gemeente een type verstedelijking bijhoudt. De dataset is online beschikbaar op https://www.geopunt.be/catalogus/datasetfolder/a2cf7af4-574b-462d-9917-e9c1147f75fc."
   ]
  },
  {
   "cell_type": "code",
   "execution_count": 2,
   "metadata": {},
   "outputs": [],
   "source": [
    "import pandas as pd"
   ]
  },
  {
   "cell_type": "code",
   "execution_count": 3,
   "metadata": {},
   "outputs": [],
   "source": [
    "bezettingsgraad = pd.read_csv(\"C:/Users/dylan/Desktop/bezettingsgraad_urbanisatie.csv\", delimiter=';')"
   ]
  },
  {
   "cell_type": "code",
   "execution_count": 4,
   "metadata": {},
   "outputs": [],
   "source": [
    "districten = pd.read_csv(\"C:/Users/dylan/Desktop/statisticaldistricts.csv\", delimiter=';')"
   ]
  },
  {
   "cell_type": "code",
   "execution_count": 5,
   "metadata": {},
   "outputs": [
    {
     "data": {
      "text/plain": [
       "landelijk        4981\n",
       "randstedelijk    2153\n",
       "verstedelijkt    2048\n",
       "Name: type, dtype: int64"
      ]
     },
     "execution_count": 5,
     "metadata": {},
     "output_type": "execute_result"
    }
   ],
   "source": [
    "bezettingsgraad.type.value_counts()"
   ]
  },
  {
   "cell_type": "code",
   "execution_count": 6,
   "metadata": {},
   "outputs": [
    {
     "data": {
      "text/plain": [
       "19782"
      ]
     },
     "execution_count": 6,
     "metadata": {},
     "output_type": "execute_result"
    }
   ],
   "source": [
    "districten.head()\n",
    "len(districten)"
   ]
  },
  {
   "cell_type": "code",
   "execution_count": 7,
   "metadata": {},
   "outputs": [
    {
     "data": {
      "text/html": [
       "<div>\n",
       "<style scoped>\n",
       "    .dataframe tbody tr th:only-of-type {\n",
       "        vertical-align: middle;\n",
       "    }\n",
       "\n",
       "    .dataframe tbody tr th {\n",
       "        vertical-align: top;\n",
       "    }\n",
       "\n",
       "    .dataframe thead th {\n",
       "        text-align: right;\n",
       "    }\n",
       "</style>\n",
       "<table border=\"1\" class=\"dataframe\">\n",
       "  <thead>\n",
       "    <tr style=\"text-align: right;\">\n",
       "      <th></th>\n",
       "      <th>index</th>\n",
       "      <th>CODSEC</th>\n",
       "      <th>NISCODE</th>\n",
       "      <th>SEC</th>\n",
       "      <th>OPPERVL</th>\n",
       "      <th>ID_statsec</th>\n",
       "      <th>OPP</th>\n",
       "      <th>RBpct</th>\n",
       "      <th>label</th>\n",
       "      <th>inwoners</th>\n",
       "      <th>inwdicht</th>\n",
       "      <th>tewerkstel</th>\n",
       "      <th>werkdicht</th>\n",
       "      <th>ORIG_FID</th>\n",
       "      <th>type_code</th>\n",
       "      <th>type</th>\n",
       "      <th>Naam</th>\n",
       "    </tr>\n",
       "  </thead>\n",
       "  <tbody>\n",
       "    <tr>\n",
       "      <th>0</th>\n",
       "      <td>2202</td>\n",
       "      <td>45041A182</td>\n",
       "      <td>45041</td>\n",
       "      <td>A182</td>\n",
       "      <td>1465254,92999999000</td>\n",
       "      <td>2201,00000000000</td>\n",
       "      <td>14655,00000000000</td>\n",
       "      <td>0,21603548277</td>\n",
       "      <td>SCHOONBOEKE - ROTTERIJE</td>\n",
       "      <td>102,00000000000</td>\n",
       "      <td>0,69600818833</td>\n",
       "      <td>194,26680000000</td>\n",
       "      <td>1,32560081883</td>\n",
       "      <td>37,00000000000</td>\n",
       "      <td>0,00000000000</td>\n",
       "      <td>landelijk</td>\n",
       "      <td>Landelijk gebied</td>\n",
       "    </tr>\n",
       "    <tr>\n",
       "      <th>1</th>\n",
       "      <td>2203</td>\n",
       "      <td>45041A192</td>\n",
       "      <td>45041</td>\n",
       "      <td>A192</td>\n",
       "      <td>729763,59999999900</td>\n",
       "      <td>2202,00000000000</td>\n",
       "      <td>7301,00000000000</td>\n",
       "      <td>0,25133543350</td>\n",
       "      <td>TER GUCHTEN - MATERSVELD</td>\n",
       "      <td>139,00000000000</td>\n",
       "      <td>1,90384878784</td>\n",
       "      <td>12,31096800000</td>\n",
       "      <td>0,16862029859</td>\n",
       "      <td>37,00000000000</td>\n",
       "      <td>0,00000000000</td>\n",
       "      <td>landelijk</td>\n",
       "      <td>Landelijk gebied</td>\n",
       "    </tr>\n",
       "    <tr>\n",
       "      <th>2</th>\n",
       "      <td>4435</td>\n",
       "      <td>45041A392</td>\n",
       "      <td>45041</td>\n",
       "      <td>A392</td>\n",
       "      <td>2858520,60999999000</td>\n",
       "      <td>4408,00000000000</td>\n",
       "      <td>28577,00000000000</td>\n",
       "      <td>0,22875039367</td>\n",
       "      <td>HOOG DEURNE (DURENNE) -BRUYERE</td>\n",
       "      <td>466,00000000000</td>\n",
       "      <td>1,63068201701</td>\n",
       "      <td>68,66361800000</td>\n",
       "      <td>0,24027580922</td>\n",
       "      <td>37,00000000000</td>\n",
       "      <td>0,00000000000</td>\n",
       "      <td>landelijk</td>\n",
       "      <td>Landelijk gebied</td>\n",
       "    </tr>\n",
       "    <tr>\n",
       "      <th>3</th>\n",
       "      <td>4298</td>\n",
       "      <td>23003A081</td>\n",
       "      <td>23003</td>\n",
       "      <td>A081</td>\n",
       "      <td>1343843,34000000000</td>\n",
       "      <td>4271,00000000000</td>\n",
       "      <td>13438,00000000000</td>\n",
       "      <td>0,22153594285</td>\n",
       "      <td>BEERSEL VERSPR. BEWONING-OOST</td>\n",
       "      <td>187,00000000000</td>\n",
       "      <td>1,39157612740</td>\n",
       "      <td>53,83244400000</td>\n",
       "      <td>0,40059863075</td>\n",
       "      <td>37,00000000000</td>\n",
       "      <td>0,00000000000</td>\n",
       "      <td>landelijk</td>\n",
       "      <td>Landelijk gebied</td>\n",
       "    </tr>\n",
       "    <tr>\n",
       "      <th>4</th>\n",
       "      <td>4307</td>\n",
       "      <td>23003B081</td>\n",
       "      <td>23003</td>\n",
       "      <td>B081</td>\n",
       "      <td>2356675,54000000000</td>\n",
       "      <td>4280,00000000000</td>\n",
       "      <td>23553,00000000000</td>\n",
       "      <td>0,24701736509</td>\n",
       "      <td>HOOGVELD</td>\n",
       "      <td>372,00000000000</td>\n",
       "      <td>1,57941663482</td>\n",
       "      <td>121,26557000000</td>\n",
       "      <td>0,51486252282</td>\n",
       "      <td>37,00000000000</td>\n",
       "      <td>0,00000000000</td>\n",
       "      <td>landelijk</td>\n",
       "      <td>Landelijk gebied</td>\n",
       "    </tr>\n",
       "  </tbody>\n",
       "</table>\n",
       "</div>"
      ],
      "text/plain": [
       "   index     CODSEC  NISCODE   SEC              OPPERVL        ID_statsec  \\\n",
       "0   2202  45041A182    45041  A182  1465254,92999999000  2201,00000000000   \n",
       "1   2203  45041A192    45041  A192   729763,59999999900  2202,00000000000   \n",
       "2   4435  45041A392    45041  A392  2858520,60999999000  4408,00000000000   \n",
       "3   4298  23003A081    23003  A081  1343843,34000000000  4271,00000000000   \n",
       "4   4307  23003B081    23003  B081  2356675,54000000000  4280,00000000000   \n",
       "\n",
       "                 OPP          RBpct                           label  \\\n",
       "0  14655,00000000000  0,21603548277         SCHOONBOEKE - ROTTERIJE   \n",
       "1   7301,00000000000  0,25133543350        TER GUCHTEN - MATERSVELD   \n",
       "2  28577,00000000000  0,22875039367  HOOG DEURNE (DURENNE) -BRUYERE   \n",
       "3  13438,00000000000  0,22153594285   BEERSEL VERSPR. BEWONING-OOST   \n",
       "4  23553,00000000000  0,24701736509                        HOOGVELD   \n",
       "\n",
       "          inwoners       inwdicht       tewerkstel      werkdicht  \\\n",
       "0  102,00000000000  0,69600818833  194,26680000000  1,32560081883   \n",
       "1  139,00000000000  1,90384878784   12,31096800000  0,16862029859   \n",
       "2  466,00000000000  1,63068201701   68,66361800000  0,24027580922   \n",
       "3  187,00000000000  1,39157612740   53,83244400000  0,40059863075   \n",
       "4  372,00000000000  1,57941663482  121,26557000000  0,51486252282   \n",
       "\n",
       "         ORIG_FID      type_code       type              Naam  \n",
       "0  37,00000000000  0,00000000000  landelijk  Landelijk gebied  \n",
       "1  37,00000000000  0,00000000000  landelijk  Landelijk gebied  \n",
       "2  37,00000000000  0,00000000000  landelijk  Landelijk gebied  \n",
       "3  37,00000000000  0,00000000000  landelijk  Landelijk gebied  \n",
       "4  37,00000000000  0,00000000000  landelijk  Landelijk gebied  "
      ]
     },
     "execution_count": 7,
     "metadata": {},
     "output_type": "execute_result"
    }
   ],
   "source": [
    "bezettingsgraad.head()"
   ]
  },
  {
   "cell_type": "code",
   "execution_count": 8,
   "metadata": {},
   "outputs": [
    {
     "data": {
      "text/html": [
       "<div>\n",
       "<style scoped>\n",
       "    .dataframe tbody tr th:only-of-type {\n",
       "        vertical-align: middle;\n",
       "    }\n",
       "\n",
       "    .dataframe tbody tr th {\n",
       "        vertical-align: top;\n",
       "    }\n",
       "\n",
       "    .dataframe thead th {\n",
       "        text-align: right;\n",
       "    }\n",
       "</style>\n",
       "<table border=\"1\" class=\"dataframe\">\n",
       "  <thead>\n",
       "    <tr style=\"text-align: right;\">\n",
       "      <th></th>\n",
       "      <th>Gemeente naam</th>\n",
       "      <th>type</th>\n",
       "    </tr>\n",
       "  </thead>\n",
       "  <tbody>\n",
       "    <tr>\n",
       "      <th>0</th>\n",
       "      <td>Ronse</td>\n",
       "      <td>landelijk</td>\n",
       "    </tr>\n",
       "    <tr>\n",
       "      <th>1</th>\n",
       "      <td>Ronse</td>\n",
       "      <td>landelijk</td>\n",
       "    </tr>\n",
       "    <tr>\n",
       "      <th>2</th>\n",
       "      <td>Ronse</td>\n",
       "      <td>landelijk</td>\n",
       "    </tr>\n",
       "    <tr>\n",
       "      <th>3</th>\n",
       "      <td>Beersel</td>\n",
       "      <td>landelijk</td>\n",
       "    </tr>\n",
       "    <tr>\n",
       "      <th>4</th>\n",
       "      <td>Beersel</td>\n",
       "      <td>landelijk</td>\n",
       "    </tr>\n",
       "    <tr>\n",
       "      <th>...</th>\n",
       "      <td>...</td>\n",
       "      <td>...</td>\n",
       "    </tr>\n",
       "    <tr>\n",
       "      <th>95</th>\n",
       "      <td>Zottegem</td>\n",
       "      <td>landelijk</td>\n",
       "    </tr>\n",
       "    <tr>\n",
       "      <th>96</th>\n",
       "      <td>Erpe-Mere</td>\n",
       "      <td>landelijk</td>\n",
       "    </tr>\n",
       "    <tr>\n",
       "      <th>97</th>\n",
       "      <td>Erpe-Mere</td>\n",
       "      <td>landelijk</td>\n",
       "    </tr>\n",
       "    <tr>\n",
       "      <th>98</th>\n",
       "      <td>Erpe-Mere</td>\n",
       "      <td>landelijk</td>\n",
       "    </tr>\n",
       "    <tr>\n",
       "      <th>99</th>\n",
       "      <td>Erpe-Mere</td>\n",
       "      <td>landelijk</td>\n",
       "    </tr>\n",
       "  </tbody>\n",
       "</table>\n",
       "<p>100 rows × 2 columns</p>\n",
       "</div>"
      ],
      "text/plain": [
       "   Gemeente naam       type\n",
       "0          Ronse  landelijk\n",
       "1          Ronse  landelijk\n",
       "2          Ronse  landelijk\n",
       "3        Beersel  landelijk\n",
       "4        Beersel  landelijk\n",
       "..           ...        ...\n",
       "95      Zottegem  landelijk\n",
       "96     Erpe-Mere  landelijk\n",
       "97     Erpe-Mere  landelijk\n",
       "98     Erpe-Mere  landelijk\n",
       "99     Erpe-Mere  landelijk\n",
       "\n",
       "[100 rows x 2 columns]"
      ]
     },
     "execution_count": 8,
     "metadata": {},
     "output_type": "execute_result"
    }
   ],
   "source": [
    "df = bezettingsgraad.merge(districten, left_on=\"CODSEC\", right_on=\"Statistischesectoor_code_Secteurs statistiques\")\n",
    "df = df[[\"Gemeente naam\", \"type\"]]\n",
    "df.head(100)"
   ]
  },
  {
   "cell_type": "code",
   "execution_count": 9,
   "metadata": {},
   "outputs": [
    {
     "data": {
      "text/plain": [
       "0    4981\n",
       "1    2153\n",
       "2    2048\n",
       "Name: cat_loc, dtype: int64"
      ]
     },
     "execution_count": 9,
     "metadata": {},
     "output_type": "execute_result"
    }
   ],
   "source": [
    "dict = {\n",
    "    \"landelijk\":0,\n",
    "    \"verstedelijkt\":2,\n",
    "    \"randstedelijk\":1,\n",
    "}\n",
    "\n",
    "df[\"cat_loc\"] = df[\"type\"].map(dict)\n",
    "\n",
    "df.cat_loc.value_counts()"
   ]
  },
  {
   "cell_type": "code",
   "execution_count": 10,
   "metadata": {},
   "outputs": [],
   "source": [
    "csv = df.groupby(['Gemeente naam']).mean(['cat_loc']).reset_index()[[\"Gemeente naam\", \"cat_loc\"]].to_csv('gemeente_verstedelijking.csv', index=False)"
   ]
  },
  {
   "cell_type": "code",
   "execution_count": 11,
   "metadata": {},
   "outputs": [
    {
     "data": {
      "text/html": [
       "<div>\n",
       "<style scoped>\n",
       "    .dataframe tbody tr th:only-of-type {\n",
       "        vertical-align: middle;\n",
       "    }\n",
       "\n",
       "    .dataframe tbody tr th {\n",
       "        vertical-align: top;\n",
       "    }\n",
       "\n",
       "    .dataframe thead th {\n",
       "        text-align: right;\n",
       "    }\n",
       "</style>\n",
       "<table border=\"1\" class=\"dataframe\">\n",
       "  <thead>\n",
       "    <tr style=\"text-align: right;\">\n",
       "      <th></th>\n",
       "      <th>Gemeente naam</th>\n",
       "      <th>cat_loc</th>\n",
       "    </tr>\n",
       "  </thead>\n",
       "  <tbody>\n",
       "    <tr>\n",
       "      <th>0</th>\n",
       "      <td>Aalst</td>\n",
       "      <td>1.234848</td>\n",
       "    </tr>\n",
       "    <tr>\n",
       "      <th>1</th>\n",
       "      <td>Aalter</td>\n",
       "      <td>0.000000</td>\n",
       "    </tr>\n",
       "    <tr>\n",
       "      <th>2</th>\n",
       "      <td>Aarschot</td>\n",
       "      <td>0.650000</td>\n",
       "    </tr>\n",
       "    <tr>\n",
       "      <th>3</th>\n",
       "      <td>Aartselaar</td>\n",
       "      <td>1.750000</td>\n",
       "    </tr>\n",
       "    <tr>\n",
       "      <th>4</th>\n",
       "      <td>Affligem</td>\n",
       "      <td>0.941176</td>\n",
       "    </tr>\n",
       "    <tr>\n",
       "      <th>...</th>\n",
       "      <td>...</td>\n",
       "      <td>...</td>\n",
       "    </tr>\n",
       "    <tr>\n",
       "      <th>295</th>\n",
       "      <td>Zulte</td>\n",
       "      <td>0.190476</td>\n",
       "    </tr>\n",
       "    <tr>\n",
       "      <th>296</th>\n",
       "      <td>Zutendaal</td>\n",
       "      <td>0.500000</td>\n",
       "    </tr>\n",
       "    <tr>\n",
       "      <th>297</th>\n",
       "      <td>Zwalm</td>\n",
       "      <td>0.000000</td>\n",
       "    </tr>\n",
       "    <tr>\n",
       "      <th>298</th>\n",
       "      <td>Zwevegem</td>\n",
       "      <td>0.315789</td>\n",
       "    </tr>\n",
       "    <tr>\n",
       "      <th>299</th>\n",
       "      <td>Zwijndrecht</td>\n",
       "      <td>0.956522</td>\n",
       "    </tr>\n",
       "  </tbody>\n",
       "</table>\n",
       "<p>300 rows × 2 columns</p>\n",
       "</div>"
      ],
      "text/plain": [
       "    Gemeente naam   cat_loc\n",
       "0           Aalst  1.234848\n",
       "1          Aalter  0.000000\n",
       "2        Aarschot  0.650000\n",
       "3      Aartselaar  1.750000\n",
       "4        Affligem  0.941176\n",
       "..            ...       ...\n",
       "295         Zulte  0.190476\n",
       "296     Zutendaal  0.500000\n",
       "297         Zwalm  0.000000\n",
       "298      Zwevegem  0.315789\n",
       "299   Zwijndrecht  0.956522\n",
       "\n",
       "[300 rows x 2 columns]"
      ]
     },
     "execution_count": 11,
     "metadata": {},
     "output_type": "execute_result"
    }
   ],
   "source": [
    "df = pd.read_csv('gemeente_verstedelijking.csv')\n",
    "df"
   ]
  }
 ],
 "metadata": {
  "kernelspec": {
   "display_name": "Python 3.10.8 64-bit (microsoft store)",
   "language": "python",
   "name": "python3"
  },
  "language_info": {
   "codemirror_mode": {
    "name": "ipython",
    "version": 3
   },
   "file_extension": ".py",
   "mimetype": "text/x-python",
   "name": "python",
   "nbconvert_exporter": "python",
   "pygments_lexer": "ipython3",
   "version": "3.10.9 (tags/v3.10.9:1dd9be6, Dec  6 2022, 20:01:21) [MSC v.1934 64 bit (AMD64)]"
  },
  "orig_nbformat": 4,
  "vscode": {
   "interpreter": {
    "hash": "89da10480825c8ad24c96d10788e772e9a68ac77e314b3c42d655a8c40ed70a5"
   }
  }
 },
 "nbformat": 4,
 "nbformat_minor": 2
}
